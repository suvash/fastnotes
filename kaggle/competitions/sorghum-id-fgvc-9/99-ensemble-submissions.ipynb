{
 "cells": [
  {
   "cell_type": "code",
   "execution_count": 1,
   "id": "1a38917d-eceb-4751-9f9d-cbc24ba1940f",
   "metadata": {},
   "outputs": [],
   "source": [
    "import pandas as pd"
   ]
  },
  {
   "cell_type": "code",
   "execution_count": 2,
   "id": "755b0859-edca-47ea-8016-43bcab2450af",
   "metadata": {},
   "outputs": [],
   "source": [
    "from pathlib import Path"
   ]
  },
  {
   "cell_type": "code",
   "execution_count": 3,
   "id": "1374f753-2fe8-45ef-ab6e-de960adb72bb",
   "metadata": {},
   "outputs": [],
   "source": [
    "from functools import reduce"
   ]
  },
  {
   "cell_type": "code",
   "execution_count": 4,
   "id": "d44ef16b-034a-452b-a202-4c8db5570630",
   "metadata": {},
   "outputs": [],
   "source": [
    "submissions_path = Path('./submissions')"
   ]
  },
  {
   "cell_type": "code",
   "execution_count": 5,
   "id": "646ad332-5b69-4b7d-833d-631e0120e82a",
   "metadata": {},
   "outputs": [
    {
     "data": {
      "text/plain": [
       "[PosixPath('submissions/predictions_989.csv'),\n",
       " PosixPath('submissions/predictions_988.csv'),\n",
       " PosixPath('submissions/predictions_convnext_base_tta_009689.csv'),\n",
       " PosixPath('submissions/predictions_resenet34_tta_031095.csv'),\n",
       " PosixPath('submissions/predictions_resnet34.csv'),\n",
       " PosixPath('submissions/predictions_resnet152_tta_029743.csv'),\n",
       " PosixPath('submissions/predictions_convnext_base_tta_0040558.csv'),\n",
       " PosixPath('submissions/predictions_987.csv')]"
      ]
     },
     "execution_count": 5,
     "metadata": {},
     "output_type": "execute_result"
    }
   ],
   "source": [
    "list(submissions_path.rglob('*.csv'))"
   ]
  },
  {
   "cell_type": "code",
   "execution_count": 6,
   "id": "f3f57938-de0e-429a-a5fd-fadaff95a4e6",
   "metadata": {},
   "outputs": [],
   "source": [
    "dfs = [pd.read_csv(f) for f in submissions_path.rglob('*.csv')]"
   ]
  },
  {
   "cell_type": "code",
   "execution_count": 7,
   "id": "477775b8-0efe-49b6-9ad7-8cdb97545f63",
   "metadata": {},
   "outputs": [],
   "source": [
    "for i, df in enumerate(dfs):\n",
    "    df.rename(columns = {'cultivar':f'cultivar_{i}'}, inplace = True)"
   ]
  },
  {
   "cell_type": "code",
   "execution_count": 8,
   "id": "b1ff74eb-b86d-4d77-a9b9-44f79c5258a7",
   "metadata": {},
   "outputs": [
    {
     "data": {
      "text/plain": [
       "8"
      ]
     },
     "execution_count": 8,
     "metadata": {},
     "output_type": "execute_result"
    }
   ],
   "source": [
    "len(dfs)"
   ]
  },
  {
   "cell_type": "code",
   "execution_count": 9,
   "id": "ca692676-a853-4ed5-b524-72a6757b9c8b",
   "metadata": {},
   "outputs": [
    {
     "data": {
      "text/html": [
       "<div>\n",
       "<style scoped>\n",
       "    .dataframe tbody tr th:only-of-type {\n",
       "        vertical-align: middle;\n",
       "    }\n",
       "\n",
       "    .dataframe tbody tr th {\n",
       "        vertical-align: top;\n",
       "    }\n",
       "\n",
       "    .dataframe thead th {\n",
       "        text-align: right;\n",
       "    }\n",
       "</style>\n",
       "<table border=\"1\" class=\"dataframe\">\n",
       "  <thead>\n",
       "    <tr style=\"text-align: right;\">\n",
       "      <th></th>\n",
       "      <th>filename</th>\n",
       "      <th>cultivar_0</th>\n",
       "    </tr>\n",
       "  </thead>\n",
       "  <tbody>\n",
       "    <tr>\n",
       "      <th>0</th>\n",
       "      <td>1320211956.png</td>\n",
       "      <td>PI_180348</td>\n",
       "    </tr>\n",
       "    <tr>\n",
       "      <th>1</th>\n",
       "      <td>1460752465.png</td>\n",
       "      <td>PI_22913</td>\n",
       "    </tr>\n",
       "    <tr>\n",
       "      <th>2</th>\n",
       "      <td>1437601570.png</td>\n",
       "      <td>PI_302252</td>\n",
       "    </tr>\n",
       "    <tr>\n",
       "      <th>3</th>\n",
       "      <td>1053653999.png</td>\n",
       "      <td>PI_152733</td>\n",
       "    </tr>\n",
       "    <tr>\n",
       "      <th>4</th>\n",
       "      <td>937061344.png</td>\n",
       "      <td>PI_63715</td>\n",
       "    </tr>\n",
       "  </tbody>\n",
       "</table>\n",
       "</div>"
      ],
      "text/plain": [
       "         filename cultivar_0\n",
       "0  1320211956.png  PI_180348\n",
       "1  1460752465.png   PI_22913\n",
       "2  1437601570.png  PI_302252\n",
       "3  1053653999.png  PI_152733\n",
       "4   937061344.png   PI_63715"
      ]
     },
     "execution_count": 9,
     "metadata": {},
     "output_type": "execute_result"
    }
   ],
   "source": [
    "dfs[0].head()"
   ]
  },
  {
   "cell_type": "code",
   "execution_count": 10,
   "id": "fa74db84-2f0a-4771-9373-30e80f17baf1",
   "metadata": {},
   "outputs": [
    {
     "data": {
      "text/html": [
       "<div>\n",
       "<style scoped>\n",
       "    .dataframe tbody tr th:only-of-type {\n",
       "        vertical-align: middle;\n",
       "    }\n",
       "\n",
       "    .dataframe tbody tr th {\n",
       "        vertical-align: top;\n",
       "    }\n",
       "\n",
       "    .dataframe thead th {\n",
       "        text-align: right;\n",
       "    }\n",
       "</style>\n",
       "<table border=\"1\" class=\"dataframe\">\n",
       "  <thead>\n",
       "    <tr style=\"text-align: right;\">\n",
       "      <th></th>\n",
       "      <th>filename</th>\n",
       "      <th>cultivar_1</th>\n",
       "    </tr>\n",
       "  </thead>\n",
       "  <tbody>\n",
       "    <tr>\n",
       "      <th>0</th>\n",
       "      <td>1320211956.png</td>\n",
       "      <td>PI_180348</td>\n",
       "    </tr>\n",
       "    <tr>\n",
       "      <th>1</th>\n",
       "      <td>1460752465.png</td>\n",
       "      <td>PI_22913</td>\n",
       "    </tr>\n",
       "    <tr>\n",
       "      <th>2</th>\n",
       "      <td>1437601570.png</td>\n",
       "      <td>PI_302252</td>\n",
       "    </tr>\n",
       "    <tr>\n",
       "      <th>3</th>\n",
       "      <td>1053653999.png</td>\n",
       "      <td>PI_152733</td>\n",
       "    </tr>\n",
       "    <tr>\n",
       "      <th>4</th>\n",
       "      <td>937061344.png</td>\n",
       "      <td>PI_63715</td>\n",
       "    </tr>\n",
       "  </tbody>\n",
       "</table>\n",
       "</div>"
      ],
      "text/plain": [
       "         filename cultivar_1\n",
       "0  1320211956.png  PI_180348\n",
       "1  1460752465.png   PI_22913\n",
       "2  1437601570.png  PI_302252\n",
       "3  1053653999.png  PI_152733\n",
       "4   937061344.png   PI_63715"
      ]
     },
     "execution_count": 10,
     "metadata": {},
     "output_type": "execute_result"
    }
   ],
   "source": [
    "dfs[1].head()"
   ]
  },
  {
   "cell_type": "code",
   "execution_count": 11,
   "id": "c4b253aa-4bf9-4cbe-9370-1775bb41db2a",
   "metadata": {},
   "outputs": [
    {
     "data": {
      "text/plain": [
       "count     23639\n",
       "unique        1\n",
       "top        True\n",
       "freq      23639\n",
       "Name: filename, dtype: object"
      ]
     },
     "execution_count": 11,
     "metadata": {},
     "output_type": "execute_result"
    }
   ],
   "source": [
    "(dfs[0]['filename'] == dfs[1]['filename']).describe()"
   ]
  },
  {
   "cell_type": "code",
   "execution_count": 12,
   "id": "7807fc02-a4f2-4b0c-a25e-502bf2f02702",
   "metadata": {},
   "outputs": [],
   "source": [
    "df_merged = reduce(lambda left,right: pd.merge(left,right,on=['filename'], how='outer'),\n",
    "                   dfs)"
   ]
  },
  {
   "cell_type": "code",
   "execution_count": 13,
   "id": "0379790b-0747-47be-a3e0-60ffeb68b4d2",
   "metadata": {},
   "outputs": [
    {
     "data": {
      "text/html": [
       "<div>\n",
       "<style scoped>\n",
       "    .dataframe tbody tr th:only-of-type {\n",
       "        vertical-align: middle;\n",
       "    }\n",
       "\n",
       "    .dataframe tbody tr th {\n",
       "        vertical-align: top;\n",
       "    }\n",
       "\n",
       "    .dataframe thead th {\n",
       "        text-align: right;\n",
       "    }\n",
       "</style>\n",
       "<table border=\"1\" class=\"dataframe\">\n",
       "  <thead>\n",
       "    <tr style=\"text-align: right;\">\n",
       "      <th></th>\n",
       "      <th>filename</th>\n",
       "      <th>cultivar_0</th>\n",
       "      <th>cultivar_1</th>\n",
       "      <th>cultivar_2</th>\n",
       "      <th>cultivar_3</th>\n",
       "      <th>cultivar_4</th>\n",
       "      <th>cultivar_5</th>\n",
       "      <th>cultivar_6</th>\n",
       "      <th>cultivar_7</th>\n",
       "    </tr>\n",
       "  </thead>\n",
       "  <tbody>\n",
       "    <tr>\n",
       "      <th>count</th>\n",
       "      <td>23639</td>\n",
       "      <td>23639</td>\n",
       "      <td>23639</td>\n",
       "      <td>23639</td>\n",
       "      <td>23639</td>\n",
       "      <td>23639</td>\n",
       "      <td>23639</td>\n",
       "      <td>23639</td>\n",
       "      <td>23639</td>\n",
       "    </tr>\n",
       "    <tr>\n",
       "      <th>unique</th>\n",
       "      <td>23639</td>\n",
       "      <td>100</td>\n",
       "      <td>100</td>\n",
       "      <td>100</td>\n",
       "      <td>100</td>\n",
       "      <td>100</td>\n",
       "      <td>100</td>\n",
       "      <td>100</td>\n",
       "      <td>100</td>\n",
       "    </tr>\n",
       "    <tr>\n",
       "      <th>top</th>\n",
       "      <td>1320211956.png</td>\n",
       "      <td>PI_175919</td>\n",
       "      <td>PI_175919</td>\n",
       "      <td>PI_196586</td>\n",
       "      <td>PI_152965</td>\n",
       "      <td>PI_92270</td>\n",
       "      <td>PI_152965</td>\n",
       "      <td>PI_152965</td>\n",
       "      <td>PI_175919</td>\n",
       "    </tr>\n",
       "    <tr>\n",
       "      <th>freq</th>\n",
       "      <td>1</td>\n",
       "      <td>706</td>\n",
       "      <td>749</td>\n",
       "      <td>573</td>\n",
       "      <td>641</td>\n",
       "      <td>609</td>\n",
       "      <td>656</td>\n",
       "      <td>538</td>\n",
       "      <td>679</td>\n",
       "    </tr>\n",
       "  </tbody>\n",
       "</table>\n",
       "</div>"
      ],
      "text/plain": [
       "              filename cultivar_0 cultivar_1 cultivar_2 cultivar_3 cultivar_4  \\\n",
       "count            23639      23639      23639      23639      23639      23639   \n",
       "unique           23639        100        100        100        100        100   \n",
       "top     1320211956.png  PI_175919  PI_175919  PI_196586  PI_152965   PI_92270   \n",
       "freq                 1        706        749        573        641        609   \n",
       "\n",
       "       cultivar_5 cultivar_6 cultivar_7  \n",
       "count       23639      23639      23639  \n",
       "unique        100        100        100  \n",
       "top     PI_152965  PI_152965  PI_175919  \n",
       "freq          656        538        679  "
      ]
     },
     "execution_count": 13,
     "metadata": {},
     "output_type": "execute_result"
    }
   ],
   "source": [
    "df_merged.describe()"
   ]
  },
  {
   "cell_type": "code",
   "execution_count": 14,
   "id": "7dec4ecc-a3a2-414b-85b1-7f500c0dece1",
   "metadata": {},
   "outputs": [
    {
     "data": {
      "text/html": [
       "<div>\n",
       "<style scoped>\n",
       "    .dataframe tbody tr th:only-of-type {\n",
       "        vertical-align: middle;\n",
       "    }\n",
       "\n",
       "    .dataframe tbody tr th {\n",
       "        vertical-align: top;\n",
       "    }\n",
       "\n",
       "    .dataframe thead th {\n",
       "        text-align: right;\n",
       "    }\n",
       "</style>\n",
       "<table border=\"1\" class=\"dataframe\">\n",
       "  <thead>\n",
       "    <tr style=\"text-align: right;\">\n",
       "      <th></th>\n",
       "      <th>filename</th>\n",
       "      <th>cultivar_0</th>\n",
       "      <th>cultivar_1</th>\n",
       "      <th>cultivar_2</th>\n",
       "      <th>cultivar_3</th>\n",
       "      <th>cultivar_4</th>\n",
       "      <th>cultivar_5</th>\n",
       "      <th>cultivar_6</th>\n",
       "      <th>cultivar_7</th>\n",
       "    </tr>\n",
       "  </thead>\n",
       "  <tbody>\n",
       "    <tr>\n",
       "      <th>0</th>\n",
       "      <td>1320211956.png</td>\n",
       "      <td>PI_180348</td>\n",
       "      <td>PI_180348</td>\n",
       "      <td>PI_180348</td>\n",
       "      <td>PI_180348</td>\n",
       "      <td>PI_180348</td>\n",
       "      <td>PI_180348</td>\n",
       "      <td>PI_180348</td>\n",
       "      <td>PI_180348</td>\n",
       "    </tr>\n",
       "    <tr>\n",
       "      <th>1</th>\n",
       "      <td>1460752465.png</td>\n",
       "      <td>PI_22913</td>\n",
       "      <td>PI_22913</td>\n",
       "      <td>PI_22913</td>\n",
       "      <td>PI_22913</td>\n",
       "      <td>PI_22913</td>\n",
       "      <td>PI_22913</td>\n",
       "      <td>PI_22913</td>\n",
       "      <td>PI_22913</td>\n",
       "    </tr>\n",
       "    <tr>\n",
       "      <th>2</th>\n",
       "      <td>1437601570.png</td>\n",
       "      <td>PI_302252</td>\n",
       "      <td>PI_302252</td>\n",
       "      <td>PI_302252</td>\n",
       "      <td>PI_302252</td>\n",
       "      <td>PI_302252</td>\n",
       "      <td>PI_302252</td>\n",
       "      <td>PI_302252</td>\n",
       "      <td>PI_302252</td>\n",
       "    </tr>\n",
       "    <tr>\n",
       "      <th>3</th>\n",
       "      <td>1053653999.png</td>\n",
       "      <td>PI_152733</td>\n",
       "      <td>PI_152733</td>\n",
       "      <td>PI_152733</td>\n",
       "      <td>PI_152733</td>\n",
       "      <td>PI_152733</td>\n",
       "      <td>PI_152733</td>\n",
       "      <td>PI_152733</td>\n",
       "      <td>PI_152733</td>\n",
       "    </tr>\n",
       "    <tr>\n",
       "      <th>4</th>\n",
       "      <td>937061344.png</td>\n",
       "      <td>PI_63715</td>\n",
       "      <td>PI_63715</td>\n",
       "      <td>PI_63715</td>\n",
       "      <td>PI_63715</td>\n",
       "      <td>PI_63715</td>\n",
       "      <td>PI_196583</td>\n",
       "      <td>PI_196583</td>\n",
       "      <td>PI_63715</td>\n",
       "    </tr>\n",
       "  </tbody>\n",
       "</table>\n",
       "</div>"
      ],
      "text/plain": [
       "         filename cultivar_0 cultivar_1 cultivar_2 cultivar_3 cultivar_4  \\\n",
       "0  1320211956.png  PI_180348  PI_180348  PI_180348  PI_180348  PI_180348   \n",
       "1  1460752465.png   PI_22913   PI_22913   PI_22913   PI_22913   PI_22913   \n",
       "2  1437601570.png  PI_302252  PI_302252  PI_302252  PI_302252  PI_302252   \n",
       "3  1053653999.png  PI_152733  PI_152733  PI_152733  PI_152733  PI_152733   \n",
       "4   937061344.png   PI_63715   PI_63715   PI_63715   PI_63715   PI_63715   \n",
       "\n",
       "  cultivar_5 cultivar_6 cultivar_7  \n",
       "0  PI_180348  PI_180348  PI_180348  \n",
       "1   PI_22913   PI_22913   PI_22913  \n",
       "2  PI_302252  PI_302252  PI_302252  \n",
       "3  PI_152733  PI_152733  PI_152733  \n",
       "4  PI_196583  PI_196583   PI_63715  "
      ]
     },
     "execution_count": 14,
     "metadata": {},
     "output_type": "execute_result"
    }
   ],
   "source": [
    "df_merged.head()"
   ]
  },
  {
   "cell_type": "code",
   "execution_count": 15,
   "id": "2a8e4910-8e6f-4c56-bd14-fffb95326974",
   "metadata": {},
   "outputs": [
    {
     "data": {
      "text/html": [
       "<div>\n",
       "<style scoped>\n",
       "    .dataframe tbody tr th:only-of-type {\n",
       "        vertical-align: middle;\n",
       "    }\n",
       "\n",
       "    .dataframe tbody tr th {\n",
       "        vertical-align: top;\n",
       "    }\n",
       "\n",
       "    .dataframe thead th {\n",
       "        text-align: right;\n",
       "    }\n",
       "</style>\n",
       "<table border=\"1\" class=\"dataframe\">\n",
       "  <thead>\n",
       "    <tr style=\"text-align: right;\">\n",
       "      <th></th>\n",
       "      <th>cultivar_0</th>\n",
       "      <th>cultivar_1</th>\n",
       "      <th>cultivar_2</th>\n",
       "      <th>cultivar_3</th>\n",
       "      <th>cultivar_4</th>\n",
       "      <th>cultivar_5</th>\n",
       "      <th>cultivar_6</th>\n",
       "      <th>cultivar_7</th>\n",
       "    </tr>\n",
       "  </thead>\n",
       "  <tbody>\n",
       "    <tr>\n",
       "      <th>0</th>\n",
       "      <td>PI_180348</td>\n",
       "      <td>PI_180348</td>\n",
       "      <td>PI_180348</td>\n",
       "      <td>PI_180348</td>\n",
       "      <td>PI_180348</td>\n",
       "      <td>PI_180348</td>\n",
       "      <td>PI_180348</td>\n",
       "      <td>PI_180348</td>\n",
       "    </tr>\n",
       "    <tr>\n",
       "      <th>1</th>\n",
       "      <td>PI_22913</td>\n",
       "      <td>PI_22913</td>\n",
       "      <td>PI_22913</td>\n",
       "      <td>PI_22913</td>\n",
       "      <td>PI_22913</td>\n",
       "      <td>PI_22913</td>\n",
       "      <td>PI_22913</td>\n",
       "      <td>PI_22913</td>\n",
       "    </tr>\n",
       "    <tr>\n",
       "      <th>2</th>\n",
       "      <td>PI_302252</td>\n",
       "      <td>PI_302252</td>\n",
       "      <td>PI_302252</td>\n",
       "      <td>PI_302252</td>\n",
       "      <td>PI_302252</td>\n",
       "      <td>PI_302252</td>\n",
       "      <td>PI_302252</td>\n",
       "      <td>PI_302252</td>\n",
       "    </tr>\n",
       "    <tr>\n",
       "      <th>3</th>\n",
       "      <td>PI_152733</td>\n",
       "      <td>PI_152733</td>\n",
       "      <td>PI_152733</td>\n",
       "      <td>PI_152733</td>\n",
       "      <td>PI_152733</td>\n",
       "      <td>PI_152733</td>\n",
       "      <td>PI_152733</td>\n",
       "      <td>PI_152733</td>\n",
       "    </tr>\n",
       "    <tr>\n",
       "      <th>4</th>\n",
       "      <td>PI_63715</td>\n",
       "      <td>PI_63715</td>\n",
       "      <td>PI_63715</td>\n",
       "      <td>PI_63715</td>\n",
       "      <td>PI_63715</td>\n",
       "      <td>PI_196583</td>\n",
       "      <td>PI_196583</td>\n",
       "      <td>PI_63715</td>\n",
       "    </tr>\n",
       "    <tr>\n",
       "      <th>...</th>\n",
       "      <td>...</td>\n",
       "      <td>...</td>\n",
       "      <td>...</td>\n",
       "      <td>...</td>\n",
       "      <td>...</td>\n",
       "      <td>...</td>\n",
       "      <td>...</td>\n",
       "      <td>...</td>\n",
       "    </tr>\n",
       "    <tr>\n",
       "      <th>23634</th>\n",
       "      <td>PI_156330</td>\n",
       "      <td>PI_156330</td>\n",
       "      <td>PI_156330</td>\n",
       "      <td>PI_156330</td>\n",
       "      <td>PI_156330</td>\n",
       "      <td>PI_156330</td>\n",
       "      <td>PI_156330</td>\n",
       "      <td>PI_156330</td>\n",
       "    </tr>\n",
       "    <tr>\n",
       "      <th>23635</th>\n",
       "      <td>PI_156463</td>\n",
       "      <td>PI_156463</td>\n",
       "      <td>PI_155760</td>\n",
       "      <td>PI_167093</td>\n",
       "      <td>PI_156463</td>\n",
       "      <td>PI_156463</td>\n",
       "      <td>PI_297155</td>\n",
       "      <td>PI_156463</td>\n",
       "    </tr>\n",
       "    <tr>\n",
       "      <th>23636</th>\n",
       "      <td>PI_156487</td>\n",
       "      <td>PI_156487</td>\n",
       "      <td>PI_156487</td>\n",
       "      <td>PI_156487</td>\n",
       "      <td>PI_156487</td>\n",
       "      <td>PI_303658</td>\n",
       "      <td>PI_156487</td>\n",
       "      <td>PI_156487</td>\n",
       "    </tr>\n",
       "    <tr>\n",
       "      <th>23637</th>\n",
       "      <td>PI_152923</td>\n",
       "      <td>PI_152923</td>\n",
       "      <td>PI_152923</td>\n",
       "      <td>PI_152923</td>\n",
       "      <td>PI_152923</td>\n",
       "      <td>PI_152923</td>\n",
       "      <td>PI_152923</td>\n",
       "      <td>PI_152923</td>\n",
       "    </tr>\n",
       "    <tr>\n",
       "      <th>23638</th>\n",
       "      <td>PI_218112</td>\n",
       "      <td>PI_218112</td>\n",
       "      <td>PI_218112</td>\n",
       "      <td>PI_218112</td>\n",
       "      <td>PI_218112</td>\n",
       "      <td>PI_218112</td>\n",
       "      <td>PI_218112</td>\n",
       "      <td>PI_218112</td>\n",
       "    </tr>\n",
       "  </tbody>\n",
       "</table>\n",
       "<p>23639 rows × 8 columns</p>\n",
       "</div>"
      ],
      "text/plain": [
       "      cultivar_0 cultivar_1 cultivar_2 cultivar_3 cultivar_4 cultivar_5  \\\n",
       "0      PI_180348  PI_180348  PI_180348  PI_180348  PI_180348  PI_180348   \n",
       "1       PI_22913   PI_22913   PI_22913   PI_22913   PI_22913   PI_22913   \n",
       "2      PI_302252  PI_302252  PI_302252  PI_302252  PI_302252  PI_302252   \n",
       "3      PI_152733  PI_152733  PI_152733  PI_152733  PI_152733  PI_152733   \n",
       "4       PI_63715   PI_63715   PI_63715   PI_63715   PI_63715  PI_196583   \n",
       "...          ...        ...        ...        ...        ...        ...   \n",
       "23634  PI_156330  PI_156330  PI_156330  PI_156330  PI_156330  PI_156330   \n",
       "23635  PI_156463  PI_156463  PI_155760  PI_167093  PI_156463  PI_156463   \n",
       "23636  PI_156487  PI_156487  PI_156487  PI_156487  PI_156487  PI_303658   \n",
       "23637  PI_152923  PI_152923  PI_152923  PI_152923  PI_152923  PI_152923   \n",
       "23638  PI_218112  PI_218112  PI_218112  PI_218112  PI_218112  PI_218112   \n",
       "\n",
       "      cultivar_6 cultivar_7  \n",
       "0      PI_180348  PI_180348  \n",
       "1       PI_22913   PI_22913  \n",
       "2      PI_302252  PI_302252  \n",
       "3      PI_152733  PI_152733  \n",
       "4      PI_196583   PI_63715  \n",
       "...          ...        ...  \n",
       "23634  PI_156330  PI_156330  \n",
       "23635  PI_297155  PI_156463  \n",
       "23636  PI_156487  PI_156487  \n",
       "23637  PI_152923  PI_152923  \n",
       "23638  PI_218112  PI_218112  \n",
       "\n",
       "[23639 rows x 8 columns]"
      ]
     },
     "execution_count": 15,
     "metadata": {},
     "output_type": "execute_result"
    }
   ],
   "source": [
    "df_merged.filter(regex=\"^cultivar_\", axis=1)"
   ]
  },
  {
   "cell_type": "code",
   "execution_count": 16,
   "id": "eebcd30a-a3e1-48d0-b350-cdd92d6a6487",
   "metadata": {},
   "outputs": [
    {
     "data": {
      "text/plain": [
       "count            8\n",
       "unique           2\n",
       "top       PI_63715\n",
       "freq             6\n",
       "Name: 4, dtype: object"
      ]
     },
     "execution_count": 16,
     "metadata": {},
     "output_type": "execute_result"
    }
   ],
   "source": [
    "df_merged.filter(regex=\"^cultivar_\", axis=1).iloc[4].describe()"
   ]
  },
  {
   "cell_type": "code",
   "execution_count": 17,
   "id": "e2aa0175-5bd7-484a-8995-49a9cefae8a5",
   "metadata": {},
   "outputs": [
    {
     "data": {
      "text/plain": [
       "0        PI_180348\n",
       "1         PI_22913\n",
       "2        PI_302252\n",
       "3        PI_152733\n",
       "4         PI_63715\n",
       "           ...    \n",
       "23634    PI_156330\n",
       "23635    PI_156463\n",
       "23636    PI_156487\n",
       "23637    PI_152923\n",
       "23638    PI_218112\n",
       "Name: 0, Length: 23639, dtype: object"
      ]
     },
     "execution_count": 17,
     "metadata": {},
     "output_type": "execute_result"
    }
   ],
   "source": [
    "df_merged.filter(regex=\"^cultivar_\", axis=1).mode(axis=1)[0]"
   ]
  },
  {
   "cell_type": "code",
   "execution_count": 18,
   "id": "fb1c7173-986e-423a-ae68-77cafbfe38a9",
   "metadata": {},
   "outputs": [],
   "source": [
    "df_merged['cultivar'] = df_merged.filter(regex=\"^cultivar_\", axis=1).mode(axis=1)[0]"
   ]
  },
  {
   "cell_type": "code",
   "execution_count": 19,
   "id": "b00c8dde-04fc-4bcd-928a-584c18063682",
   "metadata": {},
   "outputs": [
    {
     "data": {
      "text/html": [
       "<div>\n",
       "<style scoped>\n",
       "    .dataframe tbody tr th:only-of-type {\n",
       "        vertical-align: middle;\n",
       "    }\n",
       "\n",
       "    .dataframe tbody tr th {\n",
       "        vertical-align: top;\n",
       "    }\n",
       "\n",
       "    .dataframe thead th {\n",
       "        text-align: right;\n",
       "    }\n",
       "</style>\n",
       "<table border=\"1\" class=\"dataframe\">\n",
       "  <thead>\n",
       "    <tr style=\"text-align: right;\">\n",
       "      <th></th>\n",
       "      <th>filename</th>\n",
       "      <th>cultivar</th>\n",
       "    </tr>\n",
       "  </thead>\n",
       "  <tbody>\n",
       "    <tr>\n",
       "      <th>0</th>\n",
       "      <td>1320211956.png</td>\n",
       "      <td>PI_180348</td>\n",
       "    </tr>\n",
       "    <tr>\n",
       "      <th>1</th>\n",
       "      <td>1460752465.png</td>\n",
       "      <td>PI_22913</td>\n",
       "    </tr>\n",
       "    <tr>\n",
       "      <th>2</th>\n",
       "      <td>1437601570.png</td>\n",
       "      <td>PI_302252</td>\n",
       "    </tr>\n",
       "    <tr>\n",
       "      <th>3</th>\n",
       "      <td>1053653999.png</td>\n",
       "      <td>PI_152733</td>\n",
       "    </tr>\n",
       "    <tr>\n",
       "      <th>4</th>\n",
       "      <td>937061344.png</td>\n",
       "      <td>PI_63715</td>\n",
       "    </tr>\n",
       "    <tr>\n",
       "      <th>...</th>\n",
       "      <td>...</td>\n",
       "      <td>...</td>\n",
       "    </tr>\n",
       "    <tr>\n",
       "      <th>23634</th>\n",
       "      <td>1263467501.png</td>\n",
       "      <td>PI_156330</td>\n",
       "    </tr>\n",
       "    <tr>\n",
       "      <th>23635</th>\n",
       "      <td>1268280871.png</td>\n",
       "      <td>PI_156463</td>\n",
       "    </tr>\n",
       "    <tr>\n",
       "      <th>23636</th>\n",
       "      <td>833806909.png</td>\n",
       "      <td>PI_156487</td>\n",
       "    </tr>\n",
       "    <tr>\n",
       "      <th>23637</th>\n",
       "      <td>384418396.png</td>\n",
       "      <td>PI_152923</td>\n",
       "    </tr>\n",
       "    <tr>\n",
       "      <th>23638</th>\n",
       "      <td>629814021.png</td>\n",
       "      <td>PI_218112</td>\n",
       "    </tr>\n",
       "  </tbody>\n",
       "</table>\n",
       "<p>23639 rows × 2 columns</p>\n",
       "</div>"
      ],
      "text/plain": [
       "             filename   cultivar\n",
       "0      1320211956.png  PI_180348\n",
       "1      1460752465.png   PI_22913\n",
       "2      1437601570.png  PI_302252\n",
       "3      1053653999.png  PI_152733\n",
       "4       937061344.png   PI_63715\n",
       "...               ...        ...\n",
       "23634  1263467501.png  PI_156330\n",
       "23635  1268280871.png  PI_156463\n",
       "23636   833806909.png  PI_156487\n",
       "23637   384418396.png  PI_152923\n",
       "23638   629814021.png  PI_218112\n",
       "\n",
       "[23639 rows x 2 columns]"
      ]
     },
     "execution_count": 19,
     "metadata": {},
     "output_type": "execute_result"
    }
   ],
   "source": [
    "df_merged[['filename', 'cultivar']]"
   ]
  },
  {
   "cell_type": "code",
   "execution_count": 20,
   "id": "d313d8d9-f30e-41a5-8332-d4aa0297fccd",
   "metadata": {},
   "outputs": [],
   "source": [
    "df_final = df_merged[['filename', 'cultivar']]"
   ]
  },
  {
   "cell_type": "code",
   "execution_count": 21,
   "id": "a993bf7a-cf9b-4cdb-b27f-74c35ec9297e",
   "metadata": {},
   "outputs": [],
   "source": [
    "df_final.to_csv(submissions_path/'ensembled_04.csv', index=False)"
   ]
  },
  {
   "cell_type": "code",
   "execution_count": null,
   "id": "b7427703-7a91-40db-b4af-eb570d981b55",
   "metadata": {},
   "outputs": [],
   "source": []
  }
 ],
 "metadata": {
  "kernelspec": {
   "display_name": "Python 3 (ipykernel)",
   "language": "python",
   "name": "python3"
  },
  "language_info": {
   "codemirror_mode": {
    "name": "ipython",
    "version": 3
   },
   "file_extension": ".py",
   "mimetype": "text/x-python",
   "name": "python",
   "nbconvert_exporter": "python",
   "pygments_lexer": "ipython3",
   "version": "3.10.4"
  }
 },
 "nbformat": 4,
 "nbformat_minor": 5
}
