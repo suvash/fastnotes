{
 "cells": [
  {
   "cell_type": "code",
   "execution_count": 4,
   "id": "148bbc3e-75a4-44c2-b3e7-be716e925d96",
   "metadata": {},
   "outputs": [],
   "source": [
    "import os\n",
    "from pathlib import Path"
   ]
  },
  {
   "cell_type": "code",
   "execution_count": 8,
   "id": "949a9882-0d9b-4a77-a0b4-81d4edbfdf9f",
   "metadata": {},
   "outputs": [],
   "source": [
    "import collections\n",
    "\n",
    "def contents(p, n=10):\n",
    "    files = [p for p in p.iterdir()]\n",
    "    counter = collections.Counter(p.suffix for p in files)\n",
    "    print(f'Total : {len(files)}')\n",
    "    print(counter)\n",
    "    print(f'Up to {n} files : \\n{files[:n]}')"
   ]
  },
  {
   "cell_type": "code",
   "execution_count": 9,
   "id": "d01ad9fa-8ea1-449a-ab50-b67f87e1c1b8",
   "metadata": {},
   "outputs": [
    {
     "name": "stdout",
     "output_type": "stream",
     "text": [
      "Total : 4\n",
      "Counter({'.csv': 2, '': 2})\n",
      "Up to 10 files : \n",
      "[PosixPath('/datasets/sorghum-id-fgvc-9/train_cultivar_mapping.csv'), PosixPath('/datasets/sorghum-id-fgvc-9/test'), PosixPath('/datasets/sorghum-id-fgvc-9/train_images'), PosixPath('/datasets/sorghum-id-fgvc-9/sample_submission.csv')]\n"
     ]
    }
   ],
   "source": [
    "DATASETS_DIR = Path(os.environ['DATASETS_DIR'])/'sorghum-id-fgvc-9'\n",
    "contents(DATASETS_DIR)"
   ]
  },
  {
   "cell_type": "code",
   "execution_count": 10,
   "id": "016933ef-d5e6-4809-b35f-d80a38fc089f",
   "metadata": {},
   "outputs": [
    {
     "name": "stdout",
     "output_type": "stream",
     "text": [
      "Total : 22193\n",
      "Counter({'.png': 22193})\n",
      "Up to 10 files : \n",
      "[PosixPath('/datasets/sorghum-id-fgvc-9/train_images/2017-06-19__13-06-29-651.png'), PosixPath('/datasets/sorghum-id-fgvc-9/train_images/2017-06-03__12-58-24-135.png'), PosixPath('/datasets/sorghum-id-fgvc-9/train_images/2017-06-15__12-32-43-241.png'), PosixPath('/datasets/sorghum-id-fgvc-9/train_images/2017-06-01__11-31-50-488.png'), PosixPath('/datasets/sorghum-id-fgvc-9/train_images/2017-06-02__16-25-06-191.png'), PosixPath('/datasets/sorghum-id-fgvc-9/train_images/2017-06-28__12-52-56-384.png'), PosixPath('/datasets/sorghum-id-fgvc-9/train_images/2017-06-05__12-08-56-198.png'), PosixPath('/datasets/sorghum-id-fgvc-9/train_images/2017-06-13__11-37-46-365.png'), PosixPath('/datasets/sorghum-id-fgvc-9/train_images/2017-06-26__18-27-33-812.png'), PosixPath('/datasets/sorghum-id-fgvc-9/train_images/2017-06-27__11-00-20-408.png')]\n"
     ]
    }
   ],
   "source": [
    "contents((DATASETS_DIR/'train_images'))"
   ]
  },
  {
   "cell_type": "code",
   "execution_count": 12,
   "id": "a29d9784-f623-482d-9158-5c5cbe1c9cfe",
   "metadata": {},
   "outputs": [
    {
     "name": "stdout",
     "output_type": "stream",
     "text": [
      "Total : 23639\n",
      "Counter({'.png': 23639})\n",
      "Up to 10 files : \n",
      "[PosixPath('/datasets/sorghum-id-fgvc-9/test/1320211956.png'), PosixPath('/datasets/sorghum-id-fgvc-9/test/1460752465.png'), PosixPath('/datasets/sorghum-id-fgvc-9/test/1437601570.png'), PosixPath('/datasets/sorghum-id-fgvc-9/test/1053653999.png'), PosixPath('/datasets/sorghum-id-fgvc-9/test/937061344.png'), PosixPath('/datasets/sorghum-id-fgvc-9/test/1526324826.png'), PosixPath('/datasets/sorghum-id-fgvc-9/test/1295561477.png'), PosixPath('/datasets/sorghum-id-fgvc-9/test/993820791.png'), PosixPath('/datasets/sorghum-id-fgvc-9/test/1054144892.png'), PosixPath('/datasets/sorghum-id-fgvc-9/test/1911037980.png')]\n"
     ]
    }
   ],
   "source": [
    "contents((DATASETS_DIR/'test'))"
   ]
  },
  {
   "cell_type": "code",
   "execution_count": 13,
   "id": "09b41cdf-b9fb-4bd5-a0da-fd18a7cf5be3",
   "metadata": {},
   "outputs": [],
   "source": [
    "import pandas as pd"
   ]
  },
  {
   "cell_type": "code",
   "execution_count": 14,
   "id": "4ab127a8-a1ef-44e3-a2ad-aad31226bd64",
   "metadata": {},
   "outputs": [
    {
     "data": {
      "text/html": [
       "<div>\n",
       "<style scoped>\n",
       "    .dataframe tbody tr th:only-of-type {\n",
       "        vertical-align: middle;\n",
       "    }\n",
       "\n",
       "    .dataframe tbody tr th {\n",
       "        vertical-align: top;\n",
       "    }\n",
       "\n",
       "    .dataframe thead th {\n",
       "        text-align: right;\n",
       "    }\n",
       "</style>\n",
       "<table border=\"1\" class=\"dataframe\">\n",
       "  <thead>\n",
       "    <tr style=\"text-align: right;\">\n",
       "      <th></th>\n",
       "      <th>image</th>\n",
       "      <th>cultivar</th>\n",
       "    </tr>\n",
       "  </thead>\n",
       "  <tbody>\n",
       "    <tr>\n",
       "      <th>0</th>\n",
       "      <td>2017-06-16__12-24-20-930.png</td>\n",
       "      <td>PI_257599</td>\n",
       "    </tr>\n",
       "    <tr>\n",
       "      <th>1</th>\n",
       "      <td>2017-06-02__16-48-57-866.png</td>\n",
       "      <td>PI_154987</td>\n",
       "    </tr>\n",
       "    <tr>\n",
       "      <th>2</th>\n",
       "      <td>2017-06-12__13-18-07-707.png</td>\n",
       "      <td>PI_92270</td>\n",
       "    </tr>\n",
       "    <tr>\n",
       "      <th>3</th>\n",
       "      <td>2017-06-22__13-18-06-841.png</td>\n",
       "      <td>PI_152651</td>\n",
       "    </tr>\n",
       "    <tr>\n",
       "      <th>4</th>\n",
       "      <td>2017-06-26__12-56-48-642.png</td>\n",
       "      <td>PI_176766</td>\n",
       "    </tr>\n",
       "  </tbody>\n",
       "</table>\n",
       "</div>"
      ],
      "text/plain": [
       "                          image   cultivar\n",
       "0  2017-06-16__12-24-20-930.png  PI_257599\n",
       "1  2017-06-02__16-48-57-866.png  PI_154987\n",
       "2  2017-06-12__13-18-07-707.png   PI_92270\n",
       "3  2017-06-22__13-18-06-841.png  PI_152651\n",
       "4  2017-06-26__12-56-48-642.png  PI_176766"
      ]
     },
     "execution_count": 14,
     "metadata": {},
     "output_type": "execute_result"
    }
   ],
   "source": [
    "df = pd.read_csv(DATASETS_DIR/'train_cultivar_mapping.csv')\n",
    "df.head()"
   ]
  },
  {
   "cell_type": "code",
   "execution_count": 15,
   "id": "2e39e464-958e-4610-bb72-a7e7b515c1fc",
   "metadata": {},
   "outputs": [],
   "source": [
    "from PIL import Image\n",
    "\n",
    "def dimensions(s):\n",
    "    width, height = Image.open(DATASETS_DIR/'train_images'/s['image']).size\n",
    "    return width, height"
   ]
  },
  {
   "cell_type": "code",
   "execution_count": 16,
   "id": "fd3ff3b6-8ca8-4e25-b533-bc6e515bc7b4",
   "metadata": {},
   "outputs": [],
   "source": [
    "df['width'], df['height'] = zip(*df.apply(dimensions, axis=1))"
   ]
  },
  {
   "cell_type": "code",
   "execution_count": 17,
   "id": "fc784a37-f6ab-4efc-a6bd-7160b6c0fb21",
   "metadata": {},
   "outputs": [
    {
     "data": {
      "text/html": [
       "<div>\n",
       "<style scoped>\n",
       "    .dataframe tbody tr th:only-of-type {\n",
       "        vertical-align: middle;\n",
       "    }\n",
       "\n",
       "    .dataframe tbody tr th {\n",
       "        vertical-align: top;\n",
       "    }\n",
       "\n",
       "    .dataframe thead th {\n",
       "        text-align: right;\n",
       "    }\n",
       "</style>\n",
       "<table border=\"1\" class=\"dataframe\">\n",
       "  <thead>\n",
       "    <tr style=\"text-align: right;\">\n",
       "      <th></th>\n",
       "      <th>image</th>\n",
       "      <th>cultivar</th>\n",
       "      <th>width</th>\n",
       "      <th>height</th>\n",
       "    </tr>\n",
       "  </thead>\n",
       "  <tbody>\n",
       "    <tr>\n",
       "      <th>0</th>\n",
       "      <td>2017-06-16__12-24-20-930.png</td>\n",
       "      <td>PI_257599</td>\n",
       "      <td>1024</td>\n",
       "      <td>1024</td>\n",
       "    </tr>\n",
       "    <tr>\n",
       "      <th>1</th>\n",
       "      <td>2017-06-02__16-48-57-866.png</td>\n",
       "      <td>PI_154987</td>\n",
       "      <td>1024</td>\n",
       "      <td>1024</td>\n",
       "    </tr>\n",
       "    <tr>\n",
       "      <th>2</th>\n",
       "      <td>2017-06-12__13-18-07-707.png</td>\n",
       "      <td>PI_92270</td>\n",
       "      <td>1024</td>\n",
       "      <td>1024</td>\n",
       "    </tr>\n",
       "    <tr>\n",
       "      <th>3</th>\n",
       "      <td>2017-06-22__13-18-06-841.png</td>\n",
       "      <td>PI_152651</td>\n",
       "      <td>1024</td>\n",
       "      <td>1024</td>\n",
       "    </tr>\n",
       "    <tr>\n",
       "      <th>4</th>\n",
       "      <td>2017-06-26__12-56-48-642.png</td>\n",
       "      <td>PI_176766</td>\n",
       "      <td>1024</td>\n",
       "      <td>1024</td>\n",
       "    </tr>\n",
       "  </tbody>\n",
       "</table>\n",
       "</div>"
      ],
      "text/plain": [
       "                          image   cultivar  width  height\n",
       "0  2017-06-16__12-24-20-930.png  PI_257599   1024    1024\n",
       "1  2017-06-02__16-48-57-866.png  PI_154987   1024    1024\n",
       "2  2017-06-12__13-18-07-707.png   PI_92270   1024    1024\n",
       "3  2017-06-22__13-18-06-841.png  PI_152651   1024    1024\n",
       "4  2017-06-26__12-56-48-642.png  PI_176766   1024    1024"
      ]
     },
     "execution_count": 17,
     "metadata": {},
     "output_type": "execute_result"
    }
   ],
   "source": [
    "df.head()"
   ]
  },
  {
   "cell_type": "code",
   "execution_count": 18,
   "id": "9abedbb2-6267-4588-a1c0-d6afdea3c264",
   "metadata": {},
   "outputs": [
    {
     "data": {
      "text/plain": [
       "width  height\n",
       "1024   1024      22193\n",
       "dtype: int64"
      ]
     },
     "execution_count": 18,
     "metadata": {},
     "output_type": "execute_result"
    }
   ],
   "source": [
    "df[['width', 'height']].value_counts()"
   ]
  },
  {
   "cell_type": "code",
   "execution_count": 19,
   "id": "0436f1d8-cbdb-462d-9a40-2f0a5d891b49",
   "metadata": {},
   "outputs": [
    {
     "data": {
      "text/plain": [
       "PI_156393    298\n",
       "PI_155760    282\n",
       "PI_157030    272\n",
       "PI_329299    269\n",
       "PI_152771    262\n",
       "            ... \n",
       "PI_181080    136\n",
       "PI_152816    136\n",
       "PI_213900    135\n",
       "PI_152971    135\n",
       "PI_257600    134\n",
       "Name: cultivar, Length: 100, dtype: int64"
      ]
     },
     "execution_count": 19,
     "metadata": {},
     "output_type": "execute_result"
    }
   ],
   "source": [
    "df['cultivar'].value_counts()"
   ]
  },
  {
   "cell_type": "code",
   "execution_count": 20,
   "id": "1efa2e1d-1303-4c4a-beaf-f1acb640392a",
   "metadata": {},
   "outputs": [
    {
     "data": {
      "text/plain": [
       "<AxesSubplot:>"
      ]
     },
     "execution_count": 20,
     "metadata": {},
     "output_type": "execute_result"
    },
    {
     "data": {
      "image/png": "[encoded data removed]",
      "text/plain": [
       "<Figure size 2160x720 with 1 Axes>"
      ]
     },
     "metadata": {
      "needs_background": "light"
     },
     "output_type": "display_data"
    }
   ],
   "source": [
    "df['cultivar'].value_counts().plot(kind='bar', figsize=(30,10), grid=True)"
   ]
  },
  {
   "cell_type": "code",
   "execution_count": null,
   "id": "10298b61-acfd-40cb-8af9-0caa8b588f33",
   "metadata": {},
   "outputs": [],
   "source": []
  }
 ],
 "metadata": {
  "kernelspec": {
   "display_name": "Python 3 (ipykernel)",
   "language": "python",
   "name": "python3"
  },
  "language_info": {
   "codemirror_mode": {
    "name": "ipython",
    "version": 3
   },
   "file_extension": ".py",
   "mimetype": "text/x-python",
   "name": "python",
   "nbconvert_exporter": "python",
   "pygments_lexer": "ipython3",
   "version": "3.10.4"
  }
 },
 "nbformat": 4,
 "nbformat_minor": 5
}
