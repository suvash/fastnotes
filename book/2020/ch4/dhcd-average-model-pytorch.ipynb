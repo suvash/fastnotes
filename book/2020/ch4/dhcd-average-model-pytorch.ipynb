{
 "cells": [
  {
   "cell_type": "markdown",
   "id": "4fd76bb3-fec8-4a4e-ad68-186c0ad3bd3d",
   "metadata": {
    "tags": []
   },
   "source": [
    "# Classification of DHCD dataset using a simple pixel similarity (averaging) PyTorch model"
   ]
  },
  {
   "cell_type": "markdown",
   "id": "056acf53-15b7-4cc1-bccc-a49fa67fe526",
   "metadata": {},
   "source": [
    "The DHCD (Devanagari Handwritten Character Dataset) is the MNIST equivalent for देवनागरी (Devanagari) script. The dataset is available at https://archive.ics.uci.edu/ml/datasets/Devanagari+Handwritten+Character+Dataset \n",
    "\n",
    "As per the dataset description : This is an image database of Handwritten Devanagari characters. There are 46 classes of characters with 2000 examples each. The dataset is split into training set(85%) and testing set(15%).\n",
    "\n",
    "This notebook walks through the process of creating a very basic similarity model using average values of pixels. The model is implemented in PyTorch."
   ]
  },
  {
   "cell_type": "markdown",
   "id": "2e5522e8-9230-40ad-9480-39abb3559ad1",
   "metadata": {
    "tags": []
   },
   "source": [
    "## Let's import all the libraries"
   ]
  },
  {
   "cell_type": "markdown",
   "id": "bfc588e1-3c30-4eee-87d4-05721588c787",
   "metadata": {},
   "source": [
    "Allow autoreloading any changes in imports"
   ]
  },
  {
   "cell_type": "code",
   "execution_count": 1,
   "id": "8da6e443-b280-4621-aca3-982a60cd199c",
   "metadata": {},
   "outputs": [],
   "source": [
    "%load_ext autoreload\n",
    "%autoreload 2"
   ]
  },
  {
   "cell_type": "code",
   "execution_count": 2,
   "id": "c4f0e6fe-f395-479b-b9a3-c580ff487ec0",
   "metadata": {},
   "outputs": [],
   "source": [
    "import os\n",
    "from pathlib import Path"
   ]
  },
  {
   "cell_type": "code",
   "execution_count": 3,
   "id": "7baff348-365d-4024-bd04-d054ca3316c2",
   "metadata": {},
   "outputs": [],
   "source": [
    "from PIL import Image\n",
    "from random import choice"
   ]
  },
  {
   "cell_type": "code",
   "execution_count": 4,
   "id": "03b5e645-4107-4d7c-979e-de3a532562bf",
   "metadata": {},
   "outputs": [],
   "source": [
    "import numpy as np\n",
    "import torch"
   ]
  },
  {
   "cell_type": "code",
   "execution_count": 5,
   "id": "5c9a2106-dfcc-4a1d-953d-4bf0f7fd71e9",
   "metadata": {},
   "outputs": [],
   "source": [
    "import pandas as pd"
   ]
  },
  {
   "cell_type": "code",
   "execution_count": 6,
   "id": "1de60ab7-47a8-46a0-b810-89013f10b0f4",
   "metadata": {},
   "outputs": [],
   "source": [
    "import matplotlib.pyplot as plt"
   ]
  },
  {
   "cell_type": "code",
   "execution_count": 7,
   "id": "99087c56-b35b-4aae-ab13-01a500430b63",
   "metadata": {},
   "outputs": [],
   "source": [
    "import torch.nn.functional as F"
   ]
  },
  {
   "cell_type": "markdown",
   "id": "8618f0b8-903a-4a31-aba6-67e2bb11e73e",
   "metadata": {},
   "source": [
    "We have some utility functions written in a separate module that we import here."
   ]
  },
  {
   "cell_type": "code",
   "execution_count": 8,
   "id": "33d457ec-2f3b-479e-965b-1a4a82197c6a",
   "metadata": {},
   "outputs": [],
   "source": [
    "import utils as U"
   ]
  },
  {
   "cell_type": "markdown",
   "id": "0af823df-855c-42b3-998e-3e3ce715280d",
   "metadata": {
    "tags": []
   },
   "source": [
    "## Get the dataset in place"
   ]
  },
  {
   "cell_type": "markdown",
   "id": "65ace99b-c391-4838-be1e-0f8cf477ebcd",
   "metadata": {},
   "source": [
    "Uncomment and run the following commands if the dataset is not already in place"
   ]
  },
  {
   "cell_type": "code",
   "execution_count": 9,
   "id": "910dfcd2-6339-4bf5-92b3-db16f42d2c99",
   "metadata": {},
   "outputs": [],
   "source": [
    "# !wget https://archive.ics.uci.edu/ml/machine-learning-databases/00389/DevanagariHandwrittenCharacterDataset.zip\n",
    "# !unzip -d tmp DevanagariHandwrittenCharacterDataset.zip\n",
    "# !mv tmp/DevanagariHandwrittenCharacterDataset DHCD\n",
    "# !rm tmp"
   ]
  },
  {
   "cell_type": "markdown",
   "id": "6653885f-04d2-4c85-8047-b596a033c3b7",
   "metadata": {
    "tags": []
   },
   "source": [
    "## Explore the dataset"
   ]
  },
  {
   "cell_type": "code",
   "execution_count": 10,
   "id": "05804d2f-9c62-42f4-b0d2-a2feaa4ab11f",
   "metadata": {},
   "outputs": [
    {
     "data": {
      "text/plain": [
       "PosixPath('/datasets')"
      ]
     },
     "execution_count": 10,
     "metadata": {},
     "output_type": "execute_result"
    }
   ],
   "source": [
    "DATASETS_DIR = Path(os.environ.get('DATASETS_DIR', '.'))\n",
    "DATASETS_DIR"
   ]
  },
  {
   "cell_type": "code",
   "execution_count": 11,
   "id": "29a1ae34-d815-47e2-b9b6-d3e43411e704",
   "metadata": {},
   "outputs": [
    {
     "data": {
      "text/plain": [
       "Files: (0) | Folders: (2)"
      ]
     },
     "execution_count": 11,
     "metadata": {},
     "output_type": "execute_result"
    }
   ],
   "source": [
    "U.list_contents(DATASETS_DIR/'DHCD')"
   ]
  },
  {
   "cell_type": "code",
   "execution_count": 12,
   "id": "1e9bf922-cb78-48cc-bad5-64bab1c8aee7",
   "metadata": {},
   "outputs": [
    {
     "data": {
      "text/plain": [
       "[PosixPath('/datasets/DHCD/Train'), PosixPath('/datasets/DHCD/Test')]"
      ]
     },
     "execution_count": 12,
     "metadata": {},
     "output_type": "execute_result"
    }
   ],
   "source": [
    "U.list_contents(DATASETS_DIR/'DHCD').folders"
   ]
  },
  {
   "cell_type": "markdown",
   "id": "28c57703-30f5-407a-853a-8c296be8af2c",
   "metadata": {},
   "source": [
    "We can see that the dataset has already been separated for training and testing. We'll use the `Train` folder for building our model and `Test` folder for as our validation set later."
   ]
  },
  {
   "cell_type": "code",
   "execution_count": 13,
   "id": "4dc63225-9bce-4760-be1c-2585b3a69b5a",
   "metadata": {},
   "outputs": [
    {
     "data": {
      "text/plain": [
       "Files: (0) | Folders: (46)"
      ]
     },
     "execution_count": 13,
     "metadata": {},
     "output_type": "execute_result"
    }
   ],
   "source": [
    "U.list_contents(DATASETS_DIR/'DHCD'/'Train')"
   ]
  },
  {
   "cell_type": "code",
   "execution_count": 14,
   "id": "2bf828be-30e7-42b0-9cc1-8a8700fe5b1c",
   "metadata": {},
   "outputs": [
    {
     "data": {
      "text/plain": [
       "Files: (0) | Folders: (46)"
      ]
     },
     "execution_count": 14,
     "metadata": {},
     "output_type": "execute_result"
    }
   ],
   "source": [
    "U.list_contents(DATASETS_DIR/'DHCD'/'Test')"
   ]
  },
  {
   "cell_type": "markdown",
   "id": "3729f592-458d-4358-9f91-b5a1b82cdbde",
   "metadata": {},
   "source": [
    "Both the `Train` and `Test` folder seem to have 46 folders for each class of character present in Devanagari script. ( https://en.wikipedia.org/wiki/Devanagari )\n",
    "\n",
    "We will however be focussing on only two classes for this notebook: the digit 4 (४) and the dight 8 (८)"
   ]
  },
  {
   "cell_type": "code",
   "execution_count": 15,
   "id": "502e017f-2958-4094-aa92-d43d797c7146",
   "metadata": {},
   "outputs": [
    {
     "data": {
      "text/plain": [
       "[PosixPath('/datasets/DHCD/Train/character_29_waw'),\n",
       " PosixPath('/datasets/DHCD/Train/character_19_dha'),\n",
       " PosixPath('/datasets/DHCD/Train/character_2_kha'),\n",
       " PosixPath('/datasets/DHCD/Train/character_14_dhaa'),\n",
       " PosixPath('/datasets/DHCD/Train/digit_8')]"
      ]
     },
     "execution_count": 15,
     "metadata": {},
     "output_type": "execute_result"
    }
   ],
   "source": [
    "U.list_contents(DATASETS_DIR/'DHCD'/'Train').folders[:5]"
   ]
  },
  {
   "cell_type": "markdown",
   "id": "f3443d8f-1ba5-4362-a727-dabc72b725af",
   "metadata": {},
   "source": [
    "Let's just filter out only the digits folders, so we can focus on them. Given the naming scheme that we can see above, we can try to filter out folder names beginning with `digit`"
   ]
  },
  {
   "cell_type": "code",
   "execution_count": 16,
   "id": "f6911ee2-6e4b-466f-ac05-94fee6ef3e5a",
   "metadata": {},
   "outputs": [
    {
     "data": {
      "text/plain": [
       "[PosixPath('/datasets/DHCD/Train/digit_0'),\n",
       " PosixPath('/datasets/DHCD/Train/digit_1'),\n",
       " PosixPath('/datasets/DHCD/Train/digit_2'),\n",
       " PosixPath('/datasets/DHCD/Train/digit_3'),\n",
       " PosixPath('/datasets/DHCD/Train/digit_4'),\n",
       " PosixPath('/datasets/DHCD/Train/digit_5'),\n",
       " PosixPath('/datasets/DHCD/Train/digit_6'),\n",
       " PosixPath('/datasets/DHCD/Train/digit_7'),\n",
       " PosixPath('/datasets/DHCD/Train/digit_8'),\n",
       " PosixPath('/datasets/DHCD/Train/digit_9')]"
      ]
     },
     "execution_count": 16,
     "metadata": {},
     "output_type": "execute_result"
    }
   ],
   "source": [
    "digit_folders = sorted(filter(lambda x: x.name.startswith('digit'), U.list_contents(DATASETS_DIR/'DHCD'/'Train').folders))\n",
    "digit_folders"
   ]
  },
  {
   "cell_type": "markdown",
   "id": "9eaf75fb-a12a-4a93-9d8f-bf37de848aa3",
   "metadata": {},
   "source": [
    "And, that looks good. Now let's only pick the paths we are interested in."
   ]
  },
  {
   "cell_type": "code",
   "execution_count": 17,
   "id": "af48af73-b453-4452-8cab-d1036a6bfc37",
   "metadata": {},
   "outputs": [],
   "source": [
    "fours_path = digit_folders[4]\n",
    "eights_path = digit_folders[8]"
   ]
  },
  {
   "cell_type": "markdown",
   "id": "bd708902-0d1c-4ad6-964b-ace6b69935e1",
   "metadata": {},
   "source": [
    "Let's check for the contents of each folder."
   ]
  },
  {
   "cell_type": "code",
   "execution_count": 18,
   "id": "bea585d7-a441-41c8-8569-f18ad3c30257",
   "metadata": {},
   "outputs": [
    {
     "data": {
      "text/plain": [
       "Files: (1700) {'.png': 1700} | Folders: (0)"
      ]
     },
     "execution_count": 18,
     "metadata": {},
     "output_type": "execute_result"
    }
   ],
   "source": [
    "U.list_contents(fours_path)"
   ]
  },
  {
   "cell_type": "code",
   "execution_count": 19,
   "id": "72fd836e-cec4-4e41-afb7-61c4887ac28e",
   "metadata": {},
   "outputs": [
    {
     "data": {
      "text/plain": [
       "Files: (1700) {'.png': 1700} | Folders: (0)"
      ]
     },
     "execution_count": 19,
     "metadata": {},
     "output_type": "execute_result"
    }
   ],
   "source": [
    "U.list_contents(eights_path)"
   ]
  },
  {
   "cell_type": "markdown",
   "id": "ac043ed1-5387-4413-b4f1-90985ec214cf",
   "metadata": {},
   "source": [
    "As we can see, they both contain 1700 png files each."
   ]
  },
  {
   "cell_type": "markdown",
   "id": "fd930e5e-2ad9-4951-b11f-23ca96b9fd50",
   "metadata": {},
   "source": [
    "Similarly, we can pick out the folders for validation set (in this case using the test split)"
   ]
  },
  {
   "cell_type": "code",
   "execution_count": 20,
   "id": "89b4636e-346c-4f63-b4db-6d13a998aa0b",
   "metadata": {},
   "outputs": [
    {
     "data": {
      "text/plain": [
       "[PosixPath('/datasets/DHCD/Test/digit_0'),\n",
       " PosixPath('/datasets/DHCD/Test/digit_1'),\n",
       " PosixPath('/datasets/DHCD/Test/digit_2'),\n",
       " PosixPath('/datasets/DHCD/Test/digit_3'),\n",
       " PosixPath('/datasets/DHCD/Test/digit_4'),\n",
       " PosixPath('/datasets/DHCD/Test/digit_5'),\n",
       " PosixPath('/datasets/DHCD/Test/digit_6'),\n",
       " PosixPath('/datasets/DHCD/Test/digit_7'),\n",
       " PosixPath('/datasets/DHCD/Test/digit_8'),\n",
       " PosixPath('/datasets/DHCD/Test/digit_9')]"
      ]
     },
     "execution_count": 20,
     "metadata": {},
     "output_type": "execute_result"
    }
   ],
   "source": [
    "digit_valid_folders = sorted(filter(lambda x: x.name.startswith('digit'), U.list_contents(DATASETS_DIR/'DHCD'/'Test').folders))\n",
    "digit_valid_folders"
   ]
  },
  {
   "cell_type": "code",
   "execution_count": 21,
   "id": "9aba1d02-a34e-4120-86bf-f1c21eb2f47d",
   "metadata": {},
   "outputs": [],
   "source": [
    "fours_valid_path = digit_valid_folders[4]\n",
    "eights_valid_path = digit_valid_folders[8]"
   ]
  },
  {
   "cell_type": "code",
   "execution_count": 22,
   "id": "408bdfd4-34fa-40b0-a07b-1cfe0ed2f572",
   "metadata": {},
   "outputs": [
    {
     "data": {
      "text/plain": [
       "Files: (300) {'.png': 300} | Folders: (0)"
      ]
     },
     "execution_count": 22,
     "metadata": {},
     "output_type": "execute_result"
    }
   ],
   "source": [
    "U.list_contents(fours_valid_path)"
   ]
  },
  {
   "cell_type": "code",
   "execution_count": 23,
   "id": "7f92f592-cc90-4abe-8724-43f193edfe88",
   "metadata": {},
   "outputs": [
    {
     "data": {
      "text/plain": [
       "Files: (300) {'.png': 300} | Folders: (0)"
      ]
     },
     "execution_count": 23,
     "metadata": {},
     "output_type": "execute_result"
    }
   ],
   "source": [
    "U.list_contents(eights_valid_path)"
   ]
  },
  {
   "cell_type": "markdown",
   "id": "fefbba98-8a58-485b-a096-df4d0d676ef0",
   "metadata": {},
   "source": [
    "And, the test set has 300 images for each class."
   ]
  },
  {
   "cell_type": "markdown",
   "id": "dfd38036-76c7-4a25-a442-43103e24f2ce",
   "metadata": {
    "tags": []
   },
   "source": [
    "## Declare dataset variables we plan to use further"
   ]
  },
  {
   "cell_type": "markdown",
   "id": "6011f59f-6f15-49f6-8ba0-8379b7d683ac",
   "metadata": {},
   "source": [
    "Let's declare some variable to hold the dataset we are interested in, so we can continue using them in our modeling/eval sections."
   ]
  },
  {
   "cell_type": "code",
   "execution_count": 24,
   "id": "fe88335a-4797-4d24-bd0d-bf7cdf105673",
   "metadata": {},
   "outputs": [
    {
     "data": {
      "text/plain": [
       "Files: (1700) {'.png': 1700} | Folders: (0)"
      ]
     },
     "execution_count": 24,
     "metadata": {},
     "output_type": "execute_result"
    }
   ],
   "source": [
    "fours = U.list_contents(fours_path)\n",
    "fours"
   ]
  },
  {
   "cell_type": "code",
   "execution_count": 25,
   "id": "b828ee43-1032-4446-933e-12c32da71869",
   "metadata": {},
   "outputs": [
    {
     "data": {
      "text/plain": [
       "[PosixPath('/datasets/DHCD/Train/digit_4/41068.png'),\n",
       " PosixPath('/datasets/DHCD/Train/digit_4/40861.png'),\n",
       " PosixPath('/datasets/DHCD/Train/digit_4/49633.png'),\n",
       " PosixPath('/datasets/DHCD/Train/digit_4/77402.png')]"
      ]
     },
     "execution_count": 25,
     "metadata": {},
     "output_type": "execute_result"
    }
   ],
   "source": [
    "fours.files[:4]"
   ]
  },
  {
   "cell_type": "code",
   "execution_count": 26,
   "id": "67795d32-fa50-4e57-a443-d0a897137e44",
   "metadata": {},
   "outputs": [
    {
     "data": {
      "text/plain": [
       "Files: (1700) {'.png': 1700} | Folders: (0)"
      ]
     },
     "execution_count": 26,
     "metadata": {},
     "output_type": "execute_result"
    }
   ],
   "source": [
    "eights = U.list_contents(eights_path)\n",
    "eights"
   ]
  },
  {
   "cell_type": "code",
   "execution_count": 27,
   "id": "ff7641be-ae71-42ff-a1cd-ab7005d47c4e",
   "metadata": {},
   "outputs": [
    {
     "data": {
      "text/plain": [
       "[PosixPath('/datasets/DHCD/Train/digit_8/42057.png'),\n",
       " PosixPath('/datasets/DHCD/Train/digit_8/13605.png'),\n",
       " PosixPath('/datasets/DHCD/Train/digit_8/99403.png'),\n",
       " PosixPath('/datasets/DHCD/Train/digit_8/42166.png')]"
      ]
     },
     "execution_count": 27,
     "metadata": {},
     "output_type": "execute_result"
    }
   ],
   "source": [
    "eights.files[:4]"
   ]
  },
  {
   "cell_type": "code",
   "execution_count": 28,
   "id": "474203d9-c292-4a8e-83f9-245df678b7dc",
   "metadata": {},
   "outputs": [
    {
     "data": {
      "text/plain": [
       "Files: (300) {'.png': 300} | Folders: (0)"
      ]
     },
     "execution_count": 28,
     "metadata": {},
     "output_type": "execute_result"
    }
   ],
   "source": [
    "fours_valid = U.list_contents(fours_valid_path)\n",
    "fours_valid"
   ]
  },
  {
   "cell_type": "code",
   "execution_count": 29,
   "id": "b258150a-8c63-44dc-9ac7-d931dbdf24b4",
   "metadata": {},
   "outputs": [
    {
     "data": {
      "text/plain": [
       "[PosixPath('/datasets/DHCD/Test/digit_4/41008.png'),\n",
       " PosixPath('/datasets/DHCD/Test/digit_4/89774.png'),\n",
       " PosixPath('/datasets/DHCD/Test/digit_4/40892.png'),\n",
       " PosixPath('/datasets/DHCD/Test/digit_4/9955.png')]"
      ]
     },
     "execution_count": 29,
     "metadata": {},
     "output_type": "execute_result"
    }
   ],
   "source": [
    "fours_valid.files[:4]"
   ]
  },
  {
   "cell_type": "code",
   "execution_count": 30,
   "id": "ebec6ebd-e433-4aa7-84ec-15d108e1518f",
   "metadata": {},
   "outputs": [
    {
     "data": {
      "text/plain": [
       "Files: (300) {'.png': 300} | Folders: (0)"
      ]
     },
     "execution_count": 30,
     "metadata": {},
     "output_type": "execute_result"
    }
   ],
   "source": [
    "eights_valid = U.list_contents(eights_valid_path)\n",
    "eights_valid"
   ]
  },
  {
   "cell_type": "code",
   "execution_count": 31,
   "id": "45905ba5-5e89-4da7-b446-87e0a883183f",
   "metadata": {},
   "outputs": [
    {
     "data": {
      "text/plain": [
       "[PosixPath('/datasets/DHCD/Test/digit_8/5929.png'),\n",
       " PosixPath('/datasets/DHCD/Test/digit_8/30521.png'),\n",
       " PosixPath('/datasets/DHCD/Test/digit_8/99373.png'),\n",
       " PosixPath('/datasets/DHCD/Test/digit_8/99326.png')]"
      ]
     },
     "execution_count": 31,
     "metadata": {},
     "output_type": "execute_result"
    }
   ],
   "source": [
    "eights_valid.files[:4]"
   ]
  },
  {
   "cell_type": "markdown",
   "id": "2e7dff5a-ef2b-4b38-8fba-8b55a60770f7",
   "metadata": {
    "tags": []
   },
   "source": [
    "## Let's explore the images"
   ]
  },
  {
   "cell_type": "markdown",
   "id": "5bfc9261-976e-46d6-a402-78a650982978",
   "metadata": {},
   "source": [
    "So, this is what the ४ (4) and ८ (8) looks like."
   ]
  },
  {
   "cell_type": "code",
   "execution_count": 32,
   "id": "f588609b-4ef9-49ee-be9d-68e31d4c117f",
   "metadata": {},
   "outputs": [
    {
     "data": {
      "image/png": "[encoded data removed]",
      "text/plain": [
       "<PIL.PngImagePlugin.PngImageFile image mode=L size=32x32>"
      ]
     },
     "execution_count": 32,
     "metadata": {},
     "output_type": "execute_result"
    }
   ],
   "source": [
    "img_4 = Image.open(choice(fours.files))\n",
    "img_4"
   ]
  },
  {
   "cell_type": "code",
   "execution_count": 33,
   "id": "9ab6e164-ecdc-45bb-8147-d98e1bf18213",
   "metadata": {},
   "outputs": [
    {
     "data": {
      "image/png": "[encoded data removed]",
      "text/plain": [
       "<PIL.PngImagePlugin.PngImageFile image mode=L size=32x32>"
      ]
     },
     "execution_count": 33,
     "metadata": {},
     "output_type": "execute_result"
    }
   ],
   "source": [
    "img_8 = Image.open(choice(eights.files))\n",
    "img_8"
   ]
  },
  {
   "cell_type": "markdown",
   "id": "b9d48bba-8e9f-4f7b-8668-3ec8f7786e6d",
   "metadata": {},
   "source": [
    "Let's convert the images to numpy arrays, so we can check the shape etc. and also transform it to PyTorch tensors easily."
   ]
  },
  {
   "cell_type": "code",
   "execution_count": 34,
   "id": "b5ef69a5-79a8-44ac-b749-01106c18bce0",
   "metadata": {},
   "outputs": [],
   "source": [
    "img_4_np = np.array(img_4)\n",
    "img_8_np = np.array(img_8)"
   ]
  },
  {
   "cell_type": "code",
   "execution_count": 35,
   "id": "f77c245f-8302-49cf-89e3-51acc1a7a7d9",
   "metadata": {},
   "outputs": [
    {
     "data": {
      "text/plain": [
       "(32, 32)"
      ]
     },
     "execution_count": 35,
     "metadata": {},
     "output_type": "execute_result"
    }
   ],
   "source": [
    "img_4_np.shape"
   ]
  },
  {
   "cell_type": "markdown",
   "id": "0b4e9f63-2599-4389-b463-a939b7803ec9",
   "metadata": {},
   "source": [
    "We can choose to see a slice of the multidimensional array by using the slice notation (on each axis)"
   ]
  },
  {
   "cell_type": "code",
   "execution_count": 36,
   "id": "ac3d8d4d-5b87-4293-96c9-f9280e58be9f",
   "metadata": {},
   "outputs": [
    {
     "data": {
      "text/plain": [
       "array([[  0,   0,   0,   0,   0],\n",
       "       [  0,   0,   0,   1,   8],\n",
       "       [  0,   0,   2,  28, 131],\n",
       "       [  0,   7,  61, 188, 253],\n",
       "       [ 23, 117, 232, 255, 255]], dtype=uint8)"
      ]
     },
     "execution_count": 36,
     "metadata": {},
     "output_type": "execute_result"
    }
   ],
   "source": [
    "img_4_np[10:15, 10:15]"
   ]
  },
  {
   "cell_type": "markdown",
   "id": "c5f091de-f5bc-48cb-b4a2-03bfe6613f25",
   "metadata": {},
   "source": [
    "Next, we can convert the numpy array to pytorch tensor and see that everything still is the same. Obviouly, the container type is updated to the torch type."
   ]
  },
  {
   "cell_type": "code",
   "execution_count": 37,
   "id": "3d32129e-ebc2-4ee6-ba0c-10d2115c9c30",
   "metadata": {},
   "outputs": [
    {
     "data": {
      "text/plain": [
       "torch.Size([32, 32])"
      ]
     },
     "execution_count": 37,
     "metadata": {},
     "output_type": "execute_result"
    }
   ],
   "source": [
    "torch.tensor(img_4_np).shape"
   ]
  },
  {
   "cell_type": "code",
   "execution_count": 38,
   "id": "132093ad-4c6f-4666-b043-5e45f83c510f",
   "metadata": {},
   "outputs": [
    {
     "data": {
      "text/plain": [
       "tensor([[  0,   0,   0,   0,   0],\n",
       "        [  0,   0,   0,   1,   8],\n",
       "        [  0,   0,   2,  28, 131],\n",
       "        [  0,   7,  61, 188, 253],\n",
       "        [ 23, 117, 232, 255, 255]], dtype=torch.uint8)"
      ]
     },
     "execution_count": 38,
     "metadata": {},
     "output_type": "execute_result"
    }
   ],
   "source": [
    "torch.tensor(img_4_np)[10:15, 10:15]"
   ]
  },
  {
   "cell_type": "markdown",
   "id": "aa20a43a-0514-4fb6-8fd9-f4df55b3b7c5",
   "metadata": {},
   "source": [
    "Finally, let's convert a slice to a pandas dataframe, so that we can print a grid and colormap it with a gradient to visualise the numbers in each pixel."
   ]
  },
  {
   "cell_type": "code",
   "execution_count": 39,
   "id": "9a118a3e-2b98-4796-9ba6-1f28a7807281",
   "metadata": {},
   "outputs": [
    {
     "data": {
      "text/html": [
       "<style type=\"text/css\">\n",
       "#T_dfb73_row0_col0, #T_dfb73_row0_col1, #T_dfb73_row0_col2, #T_dfb73_row0_col3, #T_dfb73_row0_col4, #T_dfb73_row0_col5, #T_dfb73_row0_col6, #T_dfb73_row0_col7, #T_dfb73_row0_col8, #T_dfb73_row0_col9, #T_dfb73_row0_col10, #T_dfb73_row0_col11, #T_dfb73_row0_col12, #T_dfb73_row0_col13, #T_dfb73_row0_col14, #T_dfb73_row0_col15, #T_dfb73_row0_col16, #T_dfb73_row0_col17, #T_dfb73_row0_col18, #T_dfb73_row0_col19, #T_dfb73_row0_col20, #T_dfb73_row0_col21, #T_dfb73_row0_col22, #T_dfb73_row0_col23, #T_dfb73_row1_col0, #T_dfb73_row1_col1, #T_dfb73_row1_col2, #T_dfb73_row1_col3, #T_dfb73_row1_col4, #T_dfb73_row1_col5, #T_dfb73_row1_col6, #T_dfb73_row1_col7, #T_dfb73_row1_col8, #T_dfb73_row1_col9, #T_dfb73_row1_col10, #T_dfb73_row1_col11, #T_dfb73_row1_col12, #T_dfb73_row1_col13, #T_dfb73_row1_col14, #T_dfb73_row1_col15, #T_dfb73_row1_col16, #T_dfb73_row1_col17, #T_dfb73_row1_col18, #T_dfb73_row1_col19, #T_dfb73_row1_col20, #T_dfb73_row1_col21, #T_dfb73_row1_col22, #T_dfb73_row1_col23, #T_dfb73_row2_col0, #T_dfb73_row2_col1, #T_dfb73_row2_col2, #T_dfb73_row2_col3, #T_dfb73_row2_col4, #T_dfb73_row2_col5, #T_dfb73_row2_col10, #T_dfb73_row2_col11, #T_dfb73_row2_col12, #T_dfb73_row2_col13, #T_dfb73_row2_col14, #T_dfb73_row2_col15, #T_dfb73_row2_col16, #T_dfb73_row2_col17, #T_dfb73_row2_col18, #T_dfb73_row2_col19, #T_dfb73_row2_col20, #T_dfb73_row2_col21, #T_dfb73_row2_col22, #T_dfb73_row2_col23, #T_dfb73_row3_col0, #T_dfb73_row3_col1, #T_dfb73_row3_col2, #T_dfb73_row3_col3, #T_dfb73_row3_col12, #T_dfb73_row3_col13, #T_dfb73_row3_col14, #T_dfb73_row3_col15, #T_dfb73_row3_col16, #T_dfb73_row3_col17, #T_dfb73_row3_col18, #T_dfb73_row3_col19, #T_dfb73_row3_col20, #T_dfb73_row3_col21, #T_dfb73_row3_col22, #T_dfb73_row3_col23, #T_dfb73_row4_col0, #T_dfb73_row4_col1, #T_dfb73_row4_col2, #T_dfb73_row4_col13, #T_dfb73_row4_col14, #T_dfb73_row4_col15, #T_dfb73_row4_col16, #T_dfb73_row4_col17, #T_dfb73_row4_col18, #T_dfb73_row4_col19, #T_dfb73_row4_col20, #T_dfb73_row4_col21, #T_dfb73_row4_col22, #T_dfb73_row4_col23, #T_dfb73_row5_col0, #T_dfb73_row5_col1, #T_dfb73_row5_col14, #T_dfb73_row5_col15, #T_dfb73_row5_col16, #T_dfb73_row5_col17, #T_dfb73_row5_col18, #T_dfb73_row5_col19, #T_dfb73_row5_col20, #T_dfb73_row5_col21, #T_dfb73_row5_col22, #T_dfb73_row5_col23, #T_dfb73_row6_col0, #T_dfb73_row6_col1, #T_dfb73_row6_col14, #T_dfb73_row6_col15, #T_dfb73_row6_col16, #T_dfb73_row6_col17, #T_dfb73_row6_col18, #T_dfb73_row6_col19, #T_dfb73_row6_col20, #T_dfb73_row6_col21, #T_dfb73_row7_col0, #T_dfb73_row7_col1, #T_dfb73_row7_col7, #T_dfb73_row7_col8, #T_dfb73_row7_col13, #T_dfb73_row7_col14, #T_dfb73_row7_col15, #T_dfb73_row7_col16, #T_dfb73_row7_col17, #T_dfb73_row7_col18, #T_dfb73_row7_col19, #T_dfb73_row8_col0, #T_dfb73_row8_col1, #T_dfb73_row8_col6, #T_dfb73_row8_col7, #T_dfb73_row8_col8, #T_dfb73_row8_col9, #T_dfb73_row8_col10, #T_dfb73_row8_col11, #T_dfb73_row8_col12, #T_dfb73_row8_col13, #T_dfb73_row8_col14, #T_dfb73_row8_col15, #T_dfb73_row8_col16, #T_dfb73_row8_col17, #T_dfb73_row8_col18, #T_dfb73_row9_col0, #T_dfb73_row9_col1, #T_dfb73_row9_col6, #T_dfb73_row9_col7, #T_dfb73_row9_col8, #T_dfb73_row9_col9, #T_dfb73_row9_col10, #T_dfb73_row9_col11, #T_dfb73_row9_col12, #T_dfb73_row9_col13, #T_dfb73_row9_col14, #T_dfb73_row9_col15, #T_dfb73_row9_col16, #T_dfb73_row10_col0, #T_dfb73_row10_col1, #T_dfb73_row10_col6, #T_dfb73_row10_col7, #T_dfb73_row10_col8, #T_dfb73_row10_col9, #T_dfb73_row10_col10, #T_dfb73_row10_col11, #T_dfb73_row10_col12, #T_dfb73_row10_col13, #T_dfb73_row10_col14, #T_dfb73_row10_col15, #T_dfb73_row11_col0, #T_dfb73_row11_col1, #T_dfb73_row11_col6, #T_dfb73_row11_col7, #T_dfb73_row11_col8, #T_dfb73_row11_col9, #T_dfb73_row11_col10, #T_dfb73_row11_col11, #T_dfb73_row11_col12, #T_dfb73_row11_col13, #T_dfb73_row12_col0, #T_dfb73_row12_col1, #T_dfb73_row12_col7, #T_dfb73_row12_col8, #T_dfb73_row12_col9, #T_dfb73_row12_col10, #T_dfb73_row12_col11, #T_dfb73_row12_col22, #T_dfb73_row12_col23, #T_dfb73_row13_col0, #T_dfb73_row13_col1, #T_dfb73_row13_col8, #T_dfb73_row13_col9, #T_dfb73_row13_col10, #T_dfb73_row13_col20, #T_dfb73_row13_col21, #T_dfb73_row13_col22, #T_dfb73_row13_col23, #T_dfb73_row14_col0, #T_dfb73_row14_col1, #T_dfb73_row14_col9, #T_dfb73_row14_col19, #T_dfb73_row14_col20, #T_dfb73_row14_col21, #T_dfb73_row14_col22, #T_dfb73_row14_col23, #T_dfb73_row15_col0, #T_dfb73_row15_col1, #T_dfb73_row15_col17, #T_dfb73_row15_col18, #T_dfb73_row15_col19, #T_dfb73_row15_col20, #T_dfb73_row15_col21, #T_dfb73_row15_col22, #T_dfb73_row15_col23, #T_dfb73_row16_col0, #T_dfb73_row16_col1, #T_dfb73_row16_col2, #T_dfb73_row16_col15, #T_dfb73_row16_col16, #T_dfb73_row16_col17, #T_dfb73_row16_col18, #T_dfb73_row16_col19, #T_dfb73_row16_col20, #T_dfb73_row16_col21, #T_dfb73_row16_col22, #T_dfb73_row16_col23, #T_dfb73_row17_col0, #T_dfb73_row17_col1, #T_dfb73_row17_col2, #T_dfb73_row17_col3, #T_dfb73_row17_col4, #T_dfb73_row17_col14, #T_dfb73_row17_col15, #T_dfb73_row17_col16, #T_dfb73_row17_col17, #T_dfb73_row17_col18, #T_dfb73_row17_col19, #T_dfb73_row17_col20, #T_dfb73_row17_col21, #T_dfb73_row17_col22, #T_dfb73_row17_col23, #T_dfb73_row18_col0, #T_dfb73_row18_col1, #T_dfb73_row18_col2, #T_dfb73_row18_col3, #T_dfb73_row18_col4, #T_dfb73_row18_col5, #T_dfb73_row18_col14, #T_dfb73_row18_col15, #T_dfb73_row18_col16, #T_dfb73_row18_col17, #T_dfb73_row18_col18, #T_dfb73_row18_col19, #T_dfb73_row18_col20, #T_dfb73_row18_col21, #T_dfb73_row18_col22, #T_dfb73_row18_col23, #T_dfb73_row19_col0, #T_dfb73_row19_col1, #T_dfb73_row19_col2, #T_dfb73_row19_col3, #T_dfb73_row19_col4, #T_dfb73_row19_col15, #T_dfb73_row19_col16, #T_dfb73_row19_col17, #T_dfb73_row19_col18, #T_dfb73_row19_col19, #T_dfb73_row19_col20, #T_dfb73_row19_col21, #T_dfb73_row19_col22, #T_dfb73_row19_col23, #T_dfb73_row20_col0, #T_dfb73_row20_col1, #T_dfb73_row20_col2, #T_dfb73_row20_col3, #T_dfb73_row20_col15, #T_dfb73_row20_col16, #T_dfb73_row20_col17, #T_dfb73_row20_col18, #T_dfb73_row20_col19, #T_dfb73_row20_col20, #T_dfb73_row20_col21, #T_dfb73_row20_col22, #T_dfb73_row20_col23, #T_dfb73_row21_col0, #T_dfb73_row21_col1, #T_dfb73_row21_col2, #T_dfb73_row21_col3, #T_dfb73_row21_col16, #T_dfb73_row21_col17, #T_dfb73_row21_col18, #T_dfb73_row21_col19, #T_dfb73_row21_col20, #T_dfb73_row21_col21, #T_dfb73_row21_col22, #T_dfb73_row21_col23, #T_dfb73_row22_col0, #T_dfb73_row22_col1, #T_dfb73_row22_col2, #T_dfb73_row22_col16, #T_dfb73_row22_col17, #T_dfb73_row22_col18, #T_dfb73_row22_col19, #T_dfb73_row22_col20, #T_dfb73_row22_col21, #T_dfb73_row22_col22, #T_dfb73_row22_col23, #T_dfb73_row23_col0, #T_dfb73_row23_col1, #T_dfb73_row23_col2, #T_dfb73_row23_col9, #T_dfb73_row23_col17, #T_dfb73_row23_col18, #T_dfb73_row23_col19, #T_dfb73_row23_col20, #T_dfb73_row23_col21, #T_dfb73_row23_col22, #T_dfb73_row23_col23 {\n",
       "  font-size: 6pt;\n",
       "  background-color: #ffffff;\n",
       "  color: #000000;\n",
       "}\n",
       "#T_dfb73_row2_col6, #T_dfb73_row7_col9, #T_dfb73_row7_col20, #T_dfb73_row11_col23, #T_dfb73_row12_col12, #T_dfb73_row16_col3, #T_dfb73_row18_col13, #T_dfb73_row19_col14, #T_dfb73_row20_col4, #T_dfb73_row22_col3, #T_dfb73_row23_col16 {\n",
       "  font-size: 6pt;\n",
       "  background-color: #fefefe;\n",
       "  color: #000000;\n",
       "}\n",
       "#T_dfb73_row2_col7, #T_dfb73_row3_col4, #T_dfb73_row5_col13, #T_dfb73_row6_col13, #T_dfb73_row6_col22, #T_dfb73_row9_col5, #T_dfb73_row9_col17, #T_dfb73_row10_col5, #T_dfb73_row13_col7, #T_dfb73_row14_col18, #T_dfb73_row15_col2, #T_dfb73_row22_col9, #T_dfb73_row23_col10 {\n",
       "  font-size: 6pt;\n",
       "  background-color: #fdfdfd;\n",
       "  color: #000000;\n",
       "}\n",
       "#T_dfb73_row2_col8, #T_dfb73_row11_col14, #T_dfb73_row15_col16 {\n",
       "  font-size: 6pt;\n",
       "  background-color: #fbfbfb;\n",
       "  color: #000000;\n",
       "}\n",
       "#T_dfb73_row2_col9, #T_dfb73_row6_col8, #T_dfb73_row7_col12, #T_dfb73_row12_col6, #T_dfb73_row12_col21, #T_dfb73_row13_col11, #T_dfb73_row21_col15, #T_dfb73_row23_col3 {\n",
       "  font-size: 6pt;\n",
       "  background-color: #fcfcfc;\n",
       "  color: #000000;\n",
       "}\n",
       "#T_dfb73_row3_col5, #T_dfb73_row12_col13, #T_dfb73_row22_col10 {\n",
       "  font-size: 6pt;\n",
       "  background-color: #f2f2f2;\n",
       "  color: #000000;\n",
       "}\n",
       "#T_dfb73_row3_col6 {\n",
       "  font-size: 6pt;\n",
       "  background-color: #c6c6c6;\n",
       "  color: #000000;\n",
       "}\n",
       "#T_dfb73_row3_col7 {\n",
       "  font-size: 6pt;\n",
       "  background-color: #848484;\n",
       "  color: #f1f1f1;\n",
       "}\n",
       "#T_dfb73_row3_col8, #T_dfb73_row16_col5 {\n",
       "  font-size: 6pt;\n",
       "  background-color: #656565;\n",
       "  color: #f1f1f1;\n",
       "}\n",
       "#T_dfb73_row3_col9 {\n",
       "  font-size: 6pt;\n",
       "  background-color: #7b7b7b;\n",
       "  color: #f1f1f1;\n",
       "}\n",
       "#T_dfb73_row3_col10 {\n",
       "  font-size: 6pt;\n",
       "  background-color: #d3d3d3;\n",
       "  color: #000000;\n",
       "}\n",
       "#T_dfb73_row3_col11, #T_dfb73_row7_col6, #T_dfb73_row7_col10, #T_dfb73_row8_col19, #T_dfb73_row16_col14, #T_dfb73_row17_col13 {\n",
       "  font-size: 6pt;\n",
       "  background-color: #f9f9f9;\n",
       "  color: #000000;\n",
       "}\n",
       "#T_dfb73_row4_col3, #T_dfb73_row4_col12, #T_dfb73_row19_col5 {\n",
       "  font-size: 6pt;\n",
       "  background-color: #f8f8f8;\n",
       "  color: #000000;\n",
       "}\n",
       "#T_dfb73_row4_col4 {\n",
       "  font-size: 6pt;\n",
       "  background-color: #c2c2c2;\n",
       "  color: #000000;\n",
       "}\n",
       "#T_dfb73_row4_col5, #T_dfb73_row14_col3 {\n",
       "  font-size: 6pt;\n",
       "  background-color: #3f3f3f;\n",
       "  color: #f1f1f1;\n",
       "}\n",
       "#T_dfb73_row4_col6, #T_dfb73_row16_col8 {\n",
       "  font-size: 6pt;\n",
       "  background-color: #060606;\n",
       "  color: #f1f1f1;\n",
       "}\n",
       "#T_dfb73_row4_col7, #T_dfb73_row4_col8, #T_dfb73_row4_col9, #T_dfb73_row5_col5, #T_dfb73_row5_col10, #T_dfb73_row6_col4, #T_dfb73_row7_col3, #T_dfb73_row8_col2, #T_dfb73_row8_col3, #T_dfb73_row8_col23, #T_dfb73_row9_col2, #T_dfb73_row9_col21, #T_dfb73_row9_col22, #T_dfb73_row10_col2, #T_dfb73_row10_col19, #T_dfb73_row10_col20, #T_dfb73_row11_col2, #T_dfb73_row11_col3, #T_dfb73_row11_col18, #T_dfb73_row12_col2, #T_dfb73_row12_col3, #T_dfb73_row12_col16, #T_dfb73_row12_col17, #T_dfb73_row13_col3, #T_dfb73_row13_col4, #T_dfb73_row13_col15, #T_dfb73_row14_col4, #T_dfb73_row14_col5, #T_dfb73_row14_col13, #T_dfb73_row14_col14, #T_dfb73_row15_col5, #T_dfb73_row15_col6, #T_dfb73_row15_col12, #T_dfb73_row16_col7, #T_dfb73_row16_col11, #T_dfb73_row17_col8, #T_dfb73_row17_col9, #T_dfb73_row17_col10, #T_dfb73_row18_col8, #T_dfb73_row18_col9, #T_dfb73_row18_col10, #T_dfb73_row19_col8, #T_dfb73_row19_col9, #T_dfb73_row19_col10, #T_dfb73_row19_col11, #T_dfb73_row20_col7, #T_dfb73_row20_col11, #T_dfb73_row21_col6, #T_dfb73_row21_col7, #T_dfb73_row21_col12, #T_dfb73_row22_col6, #T_dfb73_row22_col12, #T_dfb73_row22_col13, #T_dfb73_row23_col6, #T_dfb73_row23_col13 {\n",
       "  font-size: 6pt;\n",
       "  background-color: #000000;\n",
       "  color: #f1f1f1;\n",
       "}\n",
       "#T_dfb73_row4_col10 {\n",
       "  font-size: 6pt;\n",
       "  background-color: #111111;\n",
       "  color: #f1f1f1;\n",
       "}\n",
       "#T_dfb73_row4_col11 {\n",
       "  font-size: 6pt;\n",
       "  background-color: #989898;\n",
       "  color: #f1f1f1;\n",
       "}\n",
       "#T_dfb73_row5_col2, #T_dfb73_row7_col11 {\n",
       "  font-size: 6pt;\n",
       "  background-color: #f6f6f6;\n",
       "  color: #000000;\n",
       "}\n",
       "#T_dfb73_row5_col3, #T_dfb73_row5_col8, #T_dfb73_row23_col4 {\n",
       "  font-size: 6pt;\n",
       "  background-color: #949494;\n",
       "  color: #f1f1f1;\n",
       "}\n",
       "#T_dfb73_row5_col4, #T_dfb73_row6_col5, #T_dfb73_row22_col7 {\n",
       "  font-size: 6pt;\n",
       "  background-color: #0f0f0f;\n",
       "  color: #f1f1f1;\n",
       "}\n",
       "#T_dfb73_row5_col6, #T_dfb73_row21_col13 {\n",
       "  font-size: 6pt;\n",
       "  background-color: #080808;\n",
       "  color: #f1f1f1;\n",
       "}\n",
       "#T_dfb73_row5_col7 {\n",
       "  font-size: 6pt;\n",
       "  background-color: #707070;\n",
       "  color: #f1f1f1;\n",
       "}\n",
       "#T_dfb73_row5_col9, #T_dfb73_row18_col7 {\n",
       "  font-size: 6pt;\n",
       "  background-color: #303030;\n",
       "  color: #f1f1f1;\n",
       "}\n",
       "#T_dfb73_row5_col11, #T_dfb73_row16_col12, #T_dfb73_row20_col6 {\n",
       "  font-size: 6pt;\n",
       "  background-color: #141414;\n",
       "  color: #f1f1f1;\n",
       "}\n",
       "#T_dfb73_row5_col12, #T_dfb73_row6_col12 {\n",
       "  font-size: 6pt;\n",
       "  background-color: #d7d7d7;\n",
       "  color: #000000;\n",
       "}\n",
       "#T_dfb73_row6_col2 {\n",
       "  font-size: 6pt;\n",
       "  background-color: #939393;\n",
       "  color: #f1f1f1;\n",
       "}\n",
       "#T_dfb73_row6_col3, #T_dfb73_row15_col13, #T_dfb73_row20_col10, #T_dfb73_row22_col5, #T_dfb73_row23_col14 {\n",
       "  font-size: 6pt;\n",
       "  background-color: #0d0d0d;\n",
       "  color: #f1f1f1;\n",
       "}\n",
       "#T_dfb73_row6_col6 {\n",
       "  font-size: 6pt;\n",
       "  background-color: #a2a2a2;\n",
       "  color: #f1f1f1;\n",
       "}\n",
       "#T_dfb73_row6_col7, #T_dfb73_row10_col16 {\n",
       "  font-size: 6pt;\n",
       "  background-color: #f7f7f7;\n",
       "  color: #000000;\n",
       "}\n",
       "#T_dfb73_row6_col9 {\n",
       "  font-size: 6pt;\n",
       "  background-color: #e1e1e1;\n",
       "  color: #000000;\n",
       "}\n",
       "#T_dfb73_row6_col10 {\n",
       "  font-size: 6pt;\n",
       "  background-color: #6f6f6f;\n",
       "  color: #f1f1f1;\n",
       "}\n",
       "#T_dfb73_row6_col11 {\n",
       "  font-size: 6pt;\n",
       "  background-color: #575757;\n",
       "  color: #f1f1f1;\n",
       "}\n",
       "#T_dfb73_row6_col23 {\n",
       "  font-size: 6pt;\n",
       "  background-color: #f0f0f0;\n",
       "  color: #000000;\n",
       "}\n",
       "#T_dfb73_row7_col2, #T_dfb73_row11_col19, #T_dfb73_row16_col10, #T_dfb73_row20_col12 {\n",
       "  font-size: 6pt;\n",
       "  background-color: #010101;\n",
       "  color: #f1f1f1;\n",
       "}\n",
       "#T_dfb73_row7_col4 {\n",
       "  font-size: 6pt;\n",
       "  background-color: #090909;\n",
       "  color: #f1f1f1;\n",
       "}\n",
       "#T_dfb73_row7_col5, #T_dfb73_row14_col11 {\n",
       "  font-size: 6pt;\n",
       "  background-color: #a3a3a3;\n",
       "  color: #f1f1f1;\n",
       "}\n",
       "#T_dfb73_row7_col21, #T_dfb73_row13_col19, #T_dfb73_row14_col17, #T_dfb73_row17_col5, #T_dfb73_row22_col15 {\n",
       "  font-size: 6pt;\n",
       "  background-color: #f3f3f3;\n",
       "  color: #000000;\n",
       "}\n",
       "#T_dfb73_row7_col22 {\n",
       "  font-size: 6pt;\n",
       "  background-color: #b4b4b4;\n",
       "  color: #000000;\n",
       "}\n",
       "#T_dfb73_row7_col23 {\n",
       "  font-size: 6pt;\n",
       "  background-color: #3c3c3c;\n",
       "  color: #f1f1f1;\n",
       "}\n",
       "#T_dfb73_row8_col4 {\n",
       "  font-size: 6pt;\n",
       "  background-color: #646464;\n",
       "  color: #f1f1f1;\n",
       "}\n",
       "#T_dfb73_row8_col5, #T_dfb73_row11_col5 {\n",
       "  font-size: 6pt;\n",
       "  background-color: #f5f5f5;\n",
       "  color: #000000;\n",
       "}\n",
       "#T_dfb73_row8_col20 {\n",
       "  font-size: 6pt;\n",
       "  background-color: #cbcbcb;\n",
       "  color: #000000;\n",
       "}\n",
       "#T_dfb73_row8_col21 {\n",
       "  font-size: 6pt;\n",
       "  background-color: #4a4a4a;\n",
       "  color: #f1f1f1;\n",
       "}\n",
       "#T_dfb73_row8_col22, #T_dfb73_row16_col6, #T_dfb73_row20_col8 {\n",
       "  font-size: 6pt;\n",
       "  background-color: #050505;\n",
       "  color: #f1f1f1;\n",
       "}\n",
       "#T_dfb73_row9_col3, #T_dfb73_row10_col3, #T_dfb73_row13_col16, #T_dfb73_row19_col7 {\n",
       "  font-size: 6pt;\n",
       "  background-color: #030303;\n",
       "  color: #f1f1f1;\n",
       "}\n",
       "#T_dfb73_row9_col4 {\n",
       "  font-size: 6pt;\n",
       "  background-color: #a9a9a9;\n",
       "  color: #f1f1f1;\n",
       "}\n",
       "#T_dfb73_row9_col18, #T_dfb73_row15_col9, #T_dfb73_row19_col13 {\n",
       "  font-size: 6pt;\n",
       "  background-color: #e7e7e7;\n",
       "  color: #000000;\n",
       "}\n",
       "#T_dfb73_row9_col19 {\n",
       "  font-size: 6pt;\n",
       "  background-color: #757575;\n",
       "  color: #f1f1f1;\n",
       "}\n",
       "#T_dfb73_row9_col20, #T_dfb73_row17_col11 {\n",
       "  font-size: 6pt;\n",
       "  background-color: #0a0a0a;\n",
       "  color: #f1f1f1;\n",
       "}\n",
       "#T_dfb73_row9_col23, #T_dfb73_row12_col4 {\n",
       "  font-size: 6pt;\n",
       "  background-color: #0c0c0c;\n",
       "  color: #f1f1f1;\n",
       "}\n",
       "#T_dfb73_row10_col4 {\n",
       "  font-size: 6pt;\n",
       "  background-color: #a5a5a5;\n",
       "  color: #f1f1f1;\n",
       "}\n",
       "#T_dfb73_row10_col17 {\n",
       "  font-size: 6pt;\n",
       "  background-color: #b9b9b9;\n",
       "  color: #000000;\n",
       "}\n",
       "#T_dfb73_row10_col18 {\n",
       "  font-size: 6pt;\n",
       "  background-color: #2f2f2f;\n",
       "  color: #f1f1f1;\n",
       "}\n",
       "#T_dfb73_row10_col21 {\n",
       "  font-size: 6pt;\n",
       "  background-color: #101010;\n",
       "  color: #f1f1f1;\n",
       "}\n",
       "#T_dfb73_row10_col22 {\n",
       "  font-size: 6pt;\n",
       "  background-color: #6e6e6e;\n",
       "  color: #f1f1f1;\n",
       "}\n",
       "#T_dfb73_row10_col23 {\n",
       "  font-size: 6pt;\n",
       "  background-color: #c7c7c7;\n",
       "  color: #000000;\n",
       "}\n",
       "#T_dfb73_row11_col4 {\n",
       "  font-size: 6pt;\n",
       "  background-color: #606060;\n",
       "  color: #f1f1f1;\n",
       "}\n",
       "#T_dfb73_row11_col15, #T_dfb73_row18_col12 {\n",
       "  font-size: 6pt;\n",
       "  background-color: #dfdfdf;\n",
       "  color: #000000;\n",
       "}\n",
       "#T_dfb73_row11_col16 {\n",
       "  font-size: 6pt;\n",
       "  background-color: #676767;\n",
       "  color: #f1f1f1;\n",
       "}\n",
       "#T_dfb73_row11_col17, #T_dfb73_row12_col18, #T_dfb73_row15_col11, #T_dfb73_row17_col7, #T_dfb73_row21_col11 {\n",
       "  font-size: 6pt;\n",
       "  background-color: #070707;\n",
       "  color: #f1f1f1;\n",
       "}\n",
       "#T_dfb73_row11_col20 {\n",
       "  font-size: 6pt;\n",
       "  background-color: #434343;\n",
       "  color: #f1f1f1;\n",
       "}\n",
       "#T_dfb73_row11_col21, #T_dfb73_row14_col7 {\n",
       "  font-size: 6pt;\n",
       "  background-color: #cccccc;\n",
       "  color: #000000;\n",
       "}\n",
       "#T_dfb73_row11_col22, #T_dfb73_row14_col8 {\n",
       "  font-size: 6pt;\n",
       "  background-color: #fafafa;\n",
       "  color: #000000;\n",
       "}\n",
       "#T_dfb73_row12_col5 {\n",
       "  font-size: 6pt;\n",
       "  background-color: #c3c3c3;\n",
       "  color: #000000;\n",
       "}\n",
       "#T_dfb73_row12_col14 {\n",
       "  font-size: 6pt;\n",
       "  background-color: #929292;\n",
       "  color: #f1f1f1;\n",
       "}\n",
       "#T_dfb73_row12_col15, #T_dfb73_row14_col12 {\n",
       "  font-size: 6pt;\n",
       "  background-color: #1b1b1b;\n",
       "  color: #f1f1f1;\n",
       "}\n",
       "#T_dfb73_row12_col19 {\n",
       "  font-size: 6pt;\n",
       "  background-color: #787878;\n",
       "  color: #f1f1f1;\n",
       "}\n",
       "#T_dfb73_row12_col20 {\n",
       "  font-size: 6pt;\n",
       "  background-color: #eeeeee;\n",
       "  color: #000000;\n",
       "}\n",
       "#T_dfb73_row13_col2 {\n",
       "  font-size: 6pt;\n",
       "  background-color: #2b2b2b;\n",
       "  color: #f1f1f1;\n",
       "}\n",
       "#T_dfb73_row13_col5 {\n",
       "  font-size: 6pt;\n",
       "  background-color: #2e2e2e;\n",
       "  color: #f1f1f1;\n",
       "}\n",
       "#T_dfb73_row13_col6, #T_dfb73_row23_col15 {\n",
       "  font-size: 6pt;\n",
       "  background-color: #d9d9d9;\n",
       "  color: #000000;\n",
       "}\n",
       "#T_dfb73_row13_col12 {\n",
       "  font-size: 6pt;\n",
       "  background-color: #dbdbdb;\n",
       "  color: #000000;\n",
       "}\n",
       "#T_dfb73_row13_col13, #T_dfb73_row21_col8 {\n",
       "  font-size: 6pt;\n",
       "  background-color: #555555;\n",
       "  color: #f1f1f1;\n",
       "}\n",
       "#T_dfb73_row13_col14, #T_dfb73_row23_col5, #T_dfb73_row23_col12 {\n",
       "  font-size: 6pt;\n",
       "  background-color: #020202;\n",
       "  color: #f1f1f1;\n",
       "}\n",
       "#T_dfb73_row13_col17 {\n",
       "  font-size: 6pt;\n",
       "  background-color: #404040;\n",
       "  color: #f1f1f1;\n",
       "}\n",
       "#T_dfb73_row13_col18 {\n",
       "  font-size: 6pt;\n",
       "  background-color: #a7a7a7;\n",
       "  color: #f1f1f1;\n",
       "}\n",
       "#T_dfb73_row14_col2 {\n",
       "  font-size: 6pt;\n",
       "  background-color: #dedede;\n",
       "  color: #000000;\n",
       "}\n",
       "#T_dfb73_row14_col6 {\n",
       "  font-size: 6pt;\n",
       "  background-color: #282828;\n",
       "  color: #f1f1f1;\n",
       "}\n",
       "#T_dfb73_row14_col10, #T_dfb73_row20_col14, #T_dfb73_row21_col4 {\n",
       "  font-size: 6pt;\n",
       "  background-color: #f4f4f4;\n",
       "  color: #000000;\n",
       "}\n",
       "#T_dfb73_row14_col15 {\n",
       "  font-size: 6pt;\n",
       "  background-color: #242424;\n",
       "  color: #f1f1f1;\n",
       "}\n",
       "#T_dfb73_row14_col16 {\n",
       "  font-size: 6pt;\n",
       "  background-color: #aaaaaa;\n",
       "  color: #f1f1f1;\n",
       "}\n",
       "#T_dfb73_row15_col3 {\n",
       "  font-size: 6pt;\n",
       "  background-color: #dadada;\n",
       "  color: #000000;\n",
       "}\n",
       "#T_dfb73_row15_col4 {\n",
       "  font-size: 6pt;\n",
       "  background-color: #393939;\n",
       "  color: #f1f1f1;\n",
       "}\n",
       "#T_dfb73_row15_col7 {\n",
       "  font-size: 6pt;\n",
       "  background-color: #151515;\n",
       "  color: #f1f1f1;\n",
       "}\n",
       "#T_dfb73_row15_col8 {\n",
       "  font-size: 6pt;\n",
       "  background-color: #a4a4a4;\n",
       "  color: #f1f1f1;\n",
       "}\n",
       "#T_dfb73_row15_col10, #T_dfb73_row15_col14 {\n",
       "  font-size: 6pt;\n",
       "  background-color: #717171;\n",
       "  color: #f1f1f1;\n",
       "}\n",
       "#T_dfb73_row15_col15 {\n",
       "  font-size: 6pt;\n",
       "  background-color: #e0e0e0;\n",
       "  color: #000000;\n",
       "}\n",
       "#T_dfb73_row16_col4, #T_dfb73_row21_col9, #T_dfb73_row23_col8 {\n",
       "  font-size: 6pt;\n",
       "  background-color: #e9e9e9;\n",
       "  color: #000000;\n",
       "}\n",
       "#T_dfb73_row16_col9 {\n",
       "  font-size: 6pt;\n",
       "  background-color: #1e1e1e;\n",
       "  color: #f1f1f1;\n",
       "}\n",
       "#T_dfb73_row16_col13 {\n",
       "  font-size: 6pt;\n",
       "  background-color: #bababa;\n",
       "  color: #000000;\n",
       "}\n",
       "#T_dfb73_row17_col6 {\n",
       "  font-size: 6pt;\n",
       "  background-color: #898989;\n",
       "  color: #f1f1f1;\n",
       "}\n",
       "#T_dfb73_row17_col12 {\n",
       "  font-size: 6pt;\n",
       "  background-color: #ababab;\n",
       "  color: #000000;\n",
       "}\n",
       "#T_dfb73_row18_col6 {\n",
       "  font-size: 6pt;\n",
       "  background-color: #ececec;\n",
       "  color: #000000;\n",
       "}\n",
       "#T_dfb73_row18_col11 {\n",
       "  font-size: 6pt;\n",
       "  background-color: #1d1d1d;\n",
       "  color: #f1f1f1;\n",
       "}\n",
       "#T_dfb73_row19_col6 {\n",
       "  font-size: 6pt;\n",
       "  background-color: #8f8f8f;\n",
       "  color: #f1f1f1;\n",
       "}\n",
       "#T_dfb73_row19_col12 {\n",
       "  font-size: 6pt;\n",
       "  background-color: #505050;\n",
       "  color: #f1f1f1;\n",
       "}\n",
       "#T_dfb73_row20_col5 {\n",
       "  font-size: 6pt;\n",
       "  background-color: #cacaca;\n",
       "  color: #000000;\n",
       "}\n",
       "#T_dfb73_row20_col9 {\n",
       "  font-size: 6pt;\n",
       "  background-color: #464646;\n",
       "  color: #f1f1f1;\n",
       "}\n",
       "#T_dfb73_row20_col13 {\n",
       "  font-size: 6pt;\n",
       "  background-color: #686868;\n",
       "  color: #f1f1f1;\n",
       "}\n",
       "#T_dfb73_row21_col5 {\n",
       "  font-size: 6pt;\n",
       "  background-color: #565656;\n",
       "  color: #f1f1f1;\n",
       "}\n",
       "#T_dfb73_row21_col10 {\n",
       "  font-size: 6pt;\n",
       "  background-color: #979797;\n",
       "  color: #f1f1f1;\n",
       "}\n",
       "#T_dfb73_row21_col14 {\n",
       "  font-size: 6pt;\n",
       "  background-color: #aeaeae;\n",
       "  color: #000000;\n",
       "}\n",
       "#T_dfb73_row22_col4 {\n",
       "  font-size: 6pt;\n",
       "  background-color: #d1d1d1;\n",
       "  color: #000000;\n",
       "}\n",
       "#T_dfb73_row22_col8 {\n",
       "  font-size: 6pt;\n",
       "  background-color: #c8c8c8;\n",
       "  color: #000000;\n",
       "}\n",
       "#T_dfb73_row22_col11 {\n",
       "  font-size: 6pt;\n",
       "  background-color: #535353;\n",
       "  color: #f1f1f1;\n",
       "}\n",
       "#T_dfb73_row22_col14 {\n",
       "  font-size: 6pt;\n",
       "  background-color: #474747;\n",
       "  color: #f1f1f1;\n",
       "}\n",
       "#T_dfb73_row23_col7 {\n",
       "  font-size: 6pt;\n",
       "  background-color: #252525;\n",
       "  color: #f1f1f1;\n",
       "}\n",
       "#T_dfb73_row23_col11 {\n",
       "  font-size: 6pt;\n",
       "  background-color: #bebebe;\n",
       "  color: #000000;\n",
       "}\n",
       "</style>\n",
       "<table id=\"T_dfb73\">\n",
       "  <thead>\n",
       "    <tr>\n",
       "      <th class=\"blank level0\" >&nbsp;</th>\n",
       "      <th id=\"T_dfb73_level0_col0\" class=\"col_heading level0 col0\" >0</th>\n",
       "      <th id=\"T_dfb73_level0_col1\" class=\"col_heading level0 col1\" >1</th>\n",
       "      <th id=\"T_dfb73_level0_col2\" class=\"col_heading level0 col2\" >2</th>\n",
       "      <th id=\"T_dfb73_level0_col3\" class=\"col_heading level0 col3\" >3</th>\n",
       "      <th id=\"T_dfb73_level0_col4\" class=\"col_heading level0 col4\" >4</th>\n",
       "      <th id=\"T_dfb73_level0_col5\" class=\"col_heading level0 col5\" >5</th>\n",
       "      <th id=\"T_dfb73_level0_col6\" class=\"col_heading level0 col6\" >6</th>\n",
       "      <th id=\"T_dfb73_level0_col7\" class=\"col_heading level0 col7\" >7</th>\n",
       "      <th id=\"T_dfb73_level0_col8\" class=\"col_heading level0 col8\" >8</th>\n",
       "      <th id=\"T_dfb73_level0_col9\" class=\"col_heading level0 col9\" >9</th>\n",
       "      <th id=\"T_dfb73_level0_col10\" class=\"col_heading level0 col10\" >10</th>\n",
       "      <th id=\"T_dfb73_level0_col11\" class=\"col_heading level0 col11\" >11</th>\n",
       "      <th id=\"T_dfb73_level0_col12\" class=\"col_heading level0 col12\" >12</th>\n",
       "      <th id=\"T_dfb73_level0_col13\" class=\"col_heading level0 col13\" >13</th>\n",
       "      <th id=\"T_dfb73_level0_col14\" class=\"col_heading level0 col14\" >14</th>\n",
       "      <th id=\"T_dfb73_level0_col15\" class=\"col_heading level0 col15\" >15</th>\n",
       "      <th id=\"T_dfb73_level0_col16\" class=\"col_heading level0 col16\" >16</th>\n",
       "      <th id=\"T_dfb73_level0_col17\" class=\"col_heading level0 col17\" >17</th>\n",
       "      <th id=\"T_dfb73_level0_col18\" class=\"col_heading level0 col18\" >18</th>\n",
       "      <th id=\"T_dfb73_level0_col19\" class=\"col_heading level0 col19\" >19</th>\n",
       "      <th id=\"T_dfb73_level0_col20\" class=\"col_heading level0 col20\" >20</th>\n",
       "      <th id=\"T_dfb73_level0_col21\" class=\"col_heading level0 col21\" >21</th>\n",
       "      <th id=\"T_dfb73_level0_col22\" class=\"col_heading level0 col22\" >22</th>\n",
       "      <th id=\"T_dfb73_level0_col23\" class=\"col_heading level0 col23\" >23</th>\n",
       "    </tr>\n",
       "  </thead>\n",
       "  <tbody>\n",
       "    <tr>\n",
       "      <th id=\"T_dfb73_level0_row0\" class=\"row_heading level0 row0\" >0</th>\n",
       "      <td id=\"T_dfb73_row0_col0\" class=\"data row0 col0\" >0</td>\n",
       "      <td id=\"T_dfb73_row0_col1\" class=\"data row0 col1\" >0</td>\n",
       "      <td id=\"T_dfb73_row0_col2\" class=\"data row0 col2\" >0</td>\n",
       "      <td id=\"T_dfb73_row0_col3\" class=\"data row0 col3\" >0</td>\n",
       "      <td id=\"T_dfb73_row0_col4\" class=\"data row0 col4\" >0</td>\n",
       "      <td id=\"T_dfb73_row0_col5\" class=\"data row0 col5\" >0</td>\n",
       "      <td id=\"T_dfb73_row0_col6\" class=\"data row0 col6\" >0</td>\n",
       "      <td id=\"T_dfb73_row0_col7\" class=\"data row0 col7\" >0</td>\n",
       "      <td id=\"T_dfb73_row0_col8\" class=\"data row0 col8\" >0</td>\n",
       "      <td id=\"T_dfb73_row0_col9\" class=\"data row0 col9\" >0</td>\n",
       "      <td id=\"T_dfb73_row0_col10\" class=\"data row0 col10\" >0</td>\n",
       "      <td id=\"T_dfb73_row0_col11\" class=\"data row0 col11\" >0</td>\n",
       "      <td id=\"T_dfb73_row0_col12\" class=\"data row0 col12\" >0</td>\n",
       "      <td id=\"T_dfb73_row0_col13\" class=\"data row0 col13\" >0</td>\n",
       "      <td id=\"T_dfb73_row0_col14\" class=\"data row0 col14\" >0</td>\n",
       "      <td id=\"T_dfb73_row0_col15\" class=\"data row0 col15\" >0</td>\n",
       "      <td id=\"T_dfb73_row0_col16\" class=\"data row0 col16\" >0</td>\n",
       "      <td id=\"T_dfb73_row0_col17\" class=\"data row0 col17\" >0</td>\n",
       "      <td id=\"T_dfb73_row0_col18\" class=\"data row0 col18\" >0</td>\n",
       "      <td id=\"T_dfb73_row0_col19\" class=\"data row0 col19\" >0</td>\n",
       "      <td id=\"T_dfb73_row0_col20\" class=\"data row0 col20\" >0</td>\n",
       "      <td id=\"T_dfb73_row0_col21\" class=\"data row0 col21\" >0</td>\n",
       "      <td id=\"T_dfb73_row0_col22\" class=\"data row0 col22\" >0</td>\n",
       "      <td id=\"T_dfb73_row0_col23\" class=\"data row0 col23\" >0</td>\n",
       "    </tr>\n",
       "    <tr>\n",
       "      <th id=\"T_dfb73_level0_row1\" class=\"row_heading level0 row1\" >1</th>\n",
       "      <td id=\"T_dfb73_row1_col0\" class=\"data row1 col0\" >0</td>\n",
       "      <td id=\"T_dfb73_row1_col1\" class=\"data row1 col1\" >0</td>\n",
       "      <td id=\"T_dfb73_row1_col2\" class=\"data row1 col2\" >0</td>\n",
       "      <td id=\"T_dfb73_row1_col3\" class=\"data row1 col3\" >0</td>\n",
       "      <td id=\"T_dfb73_row1_col4\" class=\"data row1 col4\" >0</td>\n",
       "      <td id=\"T_dfb73_row1_col5\" class=\"data row1 col5\" >0</td>\n",
       "      <td id=\"T_dfb73_row1_col6\" class=\"data row1 col6\" >0</td>\n",
       "      <td id=\"T_dfb73_row1_col7\" class=\"data row1 col7\" >0</td>\n",
       "      <td id=\"T_dfb73_row1_col8\" class=\"data row1 col8\" >0</td>\n",
       "      <td id=\"T_dfb73_row1_col9\" class=\"data row1 col9\" >0</td>\n",
       "      <td id=\"T_dfb73_row1_col10\" class=\"data row1 col10\" >0</td>\n",
       "      <td id=\"T_dfb73_row1_col11\" class=\"data row1 col11\" >0</td>\n",
       "      <td id=\"T_dfb73_row1_col12\" class=\"data row1 col12\" >0</td>\n",
       "      <td id=\"T_dfb73_row1_col13\" class=\"data row1 col13\" >0</td>\n",
       "      <td id=\"T_dfb73_row1_col14\" class=\"data row1 col14\" >0</td>\n",
       "      <td id=\"T_dfb73_row1_col15\" class=\"data row1 col15\" >0</td>\n",
       "      <td id=\"T_dfb73_row1_col16\" class=\"data row1 col16\" >0</td>\n",
       "      <td id=\"T_dfb73_row1_col17\" class=\"data row1 col17\" >0</td>\n",
       "      <td id=\"T_dfb73_row1_col18\" class=\"data row1 col18\" >0</td>\n",
       "      <td id=\"T_dfb73_row1_col19\" class=\"data row1 col19\" >0</td>\n",
       "      <td id=\"T_dfb73_row1_col20\" class=\"data row1 col20\" >0</td>\n",
       "      <td id=\"T_dfb73_row1_col21\" class=\"data row1 col21\" >0</td>\n",
       "      <td id=\"T_dfb73_row1_col22\" class=\"data row1 col22\" >0</td>\n",
       "      <td id=\"T_dfb73_row1_col23\" class=\"data row1 col23\" >0</td>\n",
       "    </tr>\n",
       "    <tr>\n",
       "      <th id=\"T_dfb73_level0_row2\" class=\"row_heading level0 row2\" >2</th>\n",
       "      <td id=\"T_dfb73_row2_col0\" class=\"data row2 col0\" >0</td>\n",
       "      <td id=\"T_dfb73_row2_col1\" class=\"data row2 col1\" >0</td>\n",
       "      <td id=\"T_dfb73_row2_col2\" class=\"data row2 col2\" >0</td>\n",
       "      <td id=\"T_dfb73_row2_col3\" class=\"data row2 col3\" >0</td>\n",
       "      <td id=\"T_dfb73_row2_col4\" class=\"data row2 col4\" >0</td>\n",
       "      <td id=\"T_dfb73_row2_col5\" class=\"data row2 col5\" >0</td>\n",
       "      <td id=\"T_dfb73_row2_col6\" class=\"data row2 col6\" >2</td>\n",
       "      <td id=\"T_dfb73_row2_col7\" class=\"data row2 col7\" >5</td>\n",
       "      <td id=\"T_dfb73_row2_col8\" class=\"data row2 col8\" >9</td>\n",
       "      <td id=\"T_dfb73_row2_col9\" class=\"data row2 col9\" >6</td>\n",
       "      <td id=\"T_dfb73_row2_col10\" class=\"data row2 col10\" >1</td>\n",
       "      <td id=\"T_dfb73_row2_col11\" class=\"data row2 col11\" >0</td>\n",
       "      <td id=\"T_dfb73_row2_col12\" class=\"data row2 col12\" >0</td>\n",
       "      <td id=\"T_dfb73_row2_col13\" class=\"data row2 col13\" >0</td>\n",
       "      <td id=\"T_dfb73_row2_col14\" class=\"data row2 col14\" >0</td>\n",
       "      <td id=\"T_dfb73_row2_col15\" class=\"data row2 col15\" >0</td>\n",
       "      <td id=\"T_dfb73_row2_col16\" class=\"data row2 col16\" >0</td>\n",
       "      <td id=\"T_dfb73_row2_col17\" class=\"data row2 col17\" >0</td>\n",
       "      <td id=\"T_dfb73_row2_col18\" class=\"data row2 col18\" >0</td>\n",
       "      <td id=\"T_dfb73_row2_col19\" class=\"data row2 col19\" >0</td>\n",
       "      <td id=\"T_dfb73_row2_col20\" class=\"data row2 col20\" >0</td>\n",
       "      <td id=\"T_dfb73_row2_col21\" class=\"data row2 col21\" >0</td>\n",
       "      <td id=\"T_dfb73_row2_col22\" class=\"data row2 col22\" >0</td>\n",
       "      <td id=\"T_dfb73_row2_col23\" class=\"data row2 col23\" >0</td>\n",
       "    </tr>\n",
       "    <tr>\n",
       "      <th id=\"T_dfb73_level0_row3\" class=\"row_heading level0 row3\" >3</th>\n",
       "      <td id=\"T_dfb73_row3_col0\" class=\"data row3 col0\" >0</td>\n",
       "      <td id=\"T_dfb73_row3_col1\" class=\"data row3 col1\" >0</td>\n",
       "      <td id=\"T_dfb73_row3_col2\" class=\"data row3 col2\" >0</td>\n",
       "      <td id=\"T_dfb73_row3_col3\" class=\"data row3 col3\" >0</td>\n",
       "      <td id=\"T_dfb73_row3_col4\" class=\"data row3 col4\" >4</td>\n",
       "      <td id=\"T_dfb73_row3_col5\" class=\"data row3 col5\" >28</td>\n",
       "      <td id=\"T_dfb73_row3_col6\" class=\"data row3 col6\" >85</td>\n",
       "      <td id=\"T_dfb73_row3_col7\" class=\"data row3 col7\" >144</td>\n",
       "      <td id=\"T_dfb73_row3_col8\" class=\"data row3 col8\" >173</td>\n",
       "      <td id=\"T_dfb73_row3_col9\" class=\"data row3 col9\" >152</td>\n",
       "      <td id=\"T_dfb73_row3_col10\" class=\"data row3 col10\" >71</td>\n",
       "      <td id=\"T_dfb73_row3_col11\" class=\"data row3 col11\" >13</td>\n",
       "      <td id=\"T_dfb73_row3_col12\" class=\"data row3 col12\" >1</td>\n",
       "      <td id=\"T_dfb73_row3_col13\" class=\"data row3 col13\" >0</td>\n",
       "      <td id=\"T_dfb73_row3_col14\" class=\"data row3 col14\" >0</td>\n",
       "      <td id=\"T_dfb73_row3_col15\" class=\"data row3 col15\" >0</td>\n",
       "      <td id=\"T_dfb73_row3_col16\" class=\"data row3 col16\" >0</td>\n",
       "      <td id=\"T_dfb73_row3_col17\" class=\"data row3 col17\" >0</td>\n",
       "      <td id=\"T_dfb73_row3_col18\" class=\"data row3 col18\" >0</td>\n",
       "      <td id=\"T_dfb73_row3_col19\" class=\"data row3 col19\" >0</td>\n",
       "      <td id=\"T_dfb73_row3_col20\" class=\"data row3 col20\" >0</td>\n",
       "      <td id=\"T_dfb73_row3_col21\" class=\"data row3 col21\" >0</td>\n",
       "      <td id=\"T_dfb73_row3_col22\" class=\"data row3 col22\" >0</td>\n",
       "      <td id=\"T_dfb73_row3_col23\" class=\"data row3 col23\" >0</td>\n",
       "    </tr>\n",
       "    <tr>\n",
       "      <th id=\"T_dfb73_level0_row4\" class=\"row_heading level0 row4\" >4</th>\n",
       "      <td id=\"T_dfb73_row4_col0\" class=\"data row4 col0\" >0</td>\n",
       "      <td id=\"T_dfb73_row4_col1\" class=\"data row4 col1\" >0</td>\n",
       "      <td id=\"T_dfb73_row4_col2\" class=\"data row4 col2\" >0</td>\n",
       "      <td id=\"T_dfb73_row4_col3\" class=\"data row4 col3\" >14</td>\n",
       "      <td id=\"T_dfb73_row4_col4\" class=\"data row4 col4\" >90</td>\n",
       "      <td id=\"T_dfb73_row4_col5\" class=\"data row4 col5\" >205</td>\n",
       "      <td id=\"T_dfb73_row4_col6\" class=\"data row4 col6\" >250</td>\n",
       "      <td id=\"T_dfb73_row4_col7\" class=\"data row4 col7\" >255</td>\n",
       "      <td id=\"T_dfb73_row4_col8\" class=\"data row4 col8\" >255</td>\n",
       "      <td id=\"T_dfb73_row4_col9\" class=\"data row4 col9\" >255</td>\n",
       "      <td id=\"T_dfb73_row4_col10\" class=\"data row4 col10\" >240</td>\n",
       "      <td id=\"T_dfb73_row4_col11\" class=\"data row4 col11\" >126</td>\n",
       "      <td id=\"T_dfb73_row4_col12\" class=\"data row4 col12\" >14</td>\n",
       "      <td id=\"T_dfb73_row4_col13\" class=\"data row4 col13\" >0</td>\n",
       "      <td id=\"T_dfb73_row4_col14\" class=\"data row4 col14\" >0</td>\n",
       "      <td id=\"T_dfb73_row4_col15\" class=\"data row4 col15\" >0</td>\n",
       "      <td id=\"T_dfb73_row4_col16\" class=\"data row4 col16\" >0</td>\n",
       "      <td id=\"T_dfb73_row4_col17\" class=\"data row4 col17\" >0</td>\n",
       "      <td id=\"T_dfb73_row4_col18\" class=\"data row4 col18\" >0</td>\n",
       "      <td id=\"T_dfb73_row4_col19\" class=\"data row4 col19\" >0</td>\n",
       "      <td id=\"T_dfb73_row4_col20\" class=\"data row4 col20\" >0</td>\n",
       "      <td id=\"T_dfb73_row4_col21\" class=\"data row4 col21\" >0</td>\n",
       "      <td id=\"T_dfb73_row4_col22\" class=\"data row4 col22\" >0</td>\n",
       "      <td id=\"T_dfb73_row4_col23\" class=\"data row4 col23\" >0</td>\n",
       "    </tr>\n",
       "    <tr>\n",
       "      <th id=\"T_dfb73_level0_row5\" class=\"row_heading level0 row5\" >5</th>\n",
       "      <td id=\"T_dfb73_row5_col0\" class=\"data row5 col0\" >0</td>\n",
       "      <td id=\"T_dfb73_row5_col1\" class=\"data row5 col1\" >0</td>\n",
       "      <td id=\"T_dfb73_row5_col2\" class=\"data row5 col2\" >20</td>\n",
       "      <td id=\"T_dfb73_row5_col3\" class=\"data row5 col3\" >129</td>\n",
       "      <td id=\"T_dfb73_row5_col4\" class=\"data row5 col4\" >242</td>\n",
       "      <td id=\"T_dfb73_row5_col5\" class=\"data row5 col5\" >255</td>\n",
       "      <td id=\"T_dfb73_row5_col6\" class=\"data row5 col6\" >248</td>\n",
       "      <td id=\"T_dfb73_row5_col7\" class=\"data row5 col7\" >162</td>\n",
       "      <td id=\"T_dfb73_row5_col8\" class=\"data row5 col8\" >129</td>\n",
       "      <td id=\"T_dfb73_row5_col9\" class=\"data row5 col9\" >215</td>\n",
       "      <td id=\"T_dfb73_row5_col10\" class=\"data row5 col10\" >255</td>\n",
       "      <td id=\"T_dfb73_row5_col11\" class=\"data row5 col11\" >238</td>\n",
       "      <td id=\"T_dfb73_row5_col12\" class=\"data row5 col12\" >66</td>\n",
       "      <td id=\"T_dfb73_row5_col13\" class=\"data row5 col13\" >4</td>\n",
       "      <td id=\"T_dfb73_row5_col14\" class=\"data row5 col14\" >0</td>\n",
       "      <td id=\"T_dfb73_row5_col15\" class=\"data row5 col15\" >0</td>\n",
       "      <td id=\"T_dfb73_row5_col16\" class=\"data row5 col16\" >0</td>\n",
       "      <td id=\"T_dfb73_row5_col17\" class=\"data row5 col17\" >0</td>\n",
       "      <td id=\"T_dfb73_row5_col18\" class=\"data row5 col18\" >0</td>\n",
       "      <td id=\"T_dfb73_row5_col19\" class=\"data row5 col19\" >0</td>\n",
       "      <td id=\"T_dfb73_row5_col20\" class=\"data row5 col20\" >0</td>\n",
       "      <td id=\"T_dfb73_row5_col21\" class=\"data row5 col21\" >0</td>\n",
       "      <td id=\"T_dfb73_row5_col22\" class=\"data row5 col22\" >0</td>\n",
       "      <td id=\"T_dfb73_row5_col23\" class=\"data row5 col23\" >0</td>\n",
       "    </tr>\n",
       "    <tr>\n",
       "      <th id=\"T_dfb73_level0_row6\" class=\"row_heading level0 row6\" >6</th>\n",
       "      <td id=\"T_dfb73_row6_col0\" class=\"data row6 col0\" >0</td>\n",
       "      <td id=\"T_dfb73_row6_col1\" class=\"data row6 col1\" >0</td>\n",
       "      <td id=\"T_dfb73_row6_col2\" class=\"data row6 col2\" >130</td>\n",
       "      <td id=\"T_dfb73_row6_col3\" class=\"data row6 col3\" >244</td>\n",
       "      <td id=\"T_dfb73_row6_col4\" class=\"data row6 col4\" >255</td>\n",
       "      <td id=\"T_dfb73_row6_col5\" class=\"data row6 col5\" >242</td>\n",
       "      <td id=\"T_dfb73_row6_col6\" class=\"data row6 col6\" >118</td>\n",
       "      <td id=\"T_dfb73_row6_col7\" class=\"data row6 col7\" >16</td>\n",
       "      <td id=\"T_dfb73_row6_col8\" class=\"data row6 col8\" >6</td>\n",
       "      <td id=\"T_dfb73_row6_col9\" class=\"data row6 col9\" >53</td>\n",
       "      <td id=\"T_dfb73_row6_col10\" class=\"data row6 col10\" >163</td>\n",
       "      <td id=\"T_dfb73_row6_col11\" class=\"data row6 col11\" >186</td>\n",
       "      <td id=\"T_dfb73_row6_col12\" class=\"data row6 col12\" >66</td>\n",
       "      <td id=\"T_dfb73_row6_col13\" class=\"data row6 col13\" >5</td>\n",
       "      <td id=\"T_dfb73_row6_col14\" class=\"data row6 col14\" >0</td>\n",
       "      <td id=\"T_dfb73_row6_col15\" class=\"data row6 col15\" >0</td>\n",
       "      <td id=\"T_dfb73_row6_col16\" class=\"data row6 col16\" >0</td>\n",
       "      <td id=\"T_dfb73_row6_col17\" class=\"data row6 col17\" >0</td>\n",
       "      <td id=\"T_dfb73_row6_col18\" class=\"data row6 col18\" >0</td>\n",
       "      <td id=\"T_dfb73_row6_col19\" class=\"data row6 col19\" >0</td>\n",
       "      <td id=\"T_dfb73_row6_col20\" class=\"data row6 col20\" >0</td>\n",
       "      <td id=\"T_dfb73_row6_col21\" class=\"data row6 col21\" >0</td>\n",
       "      <td id=\"T_dfb73_row6_col22\" class=\"data row6 col22\" >4</td>\n",
       "      <td id=\"T_dfb73_row6_col23\" class=\"data row6 col23\" >31</td>\n",
       "    </tr>\n",
       "    <tr>\n",
       "      <th id=\"T_dfb73_level0_row7\" class=\"row_heading level0 row7\" >7</th>\n",
       "      <td id=\"T_dfb73_row7_col0\" class=\"data row7 col0\" >0</td>\n",
       "      <td id=\"T_dfb73_row7_col1\" class=\"data row7 col1\" >0</td>\n",
       "      <td id=\"T_dfb73_row7_col2\" class=\"data row7 col2\" >254</td>\n",
       "      <td id=\"T_dfb73_row7_col3\" class=\"data row7 col3\" >255</td>\n",
       "      <td id=\"T_dfb73_row7_col4\" class=\"data row7 col4\" >247</td>\n",
       "      <td id=\"T_dfb73_row7_col5\" class=\"data row7 col5\" >117</td>\n",
       "      <td id=\"T_dfb73_row7_col6\" class=\"data row7 col6\" >13</td>\n",
       "      <td id=\"T_dfb73_row7_col7\" class=\"data row7 col7\" >0</td>\n",
       "      <td id=\"T_dfb73_row7_col8\" class=\"data row7 col8\" >0</td>\n",
       "      <td id=\"T_dfb73_row7_col9\" class=\"data row7 col9\" >2</td>\n",
       "      <td id=\"T_dfb73_row7_col10\" class=\"data row7 col10\" >12</td>\n",
       "      <td id=\"T_dfb73_row7_col11\" class=\"data row7 col11\" >20</td>\n",
       "      <td id=\"T_dfb73_row7_col12\" class=\"data row7 col12\" >7</td>\n",
       "      <td id=\"T_dfb73_row7_col13\" class=\"data row7 col13\" >0</td>\n",
       "      <td id=\"T_dfb73_row7_col14\" class=\"data row7 col14\" >0</td>\n",
       "      <td id=\"T_dfb73_row7_col15\" class=\"data row7 col15\" >0</td>\n",
       "      <td id=\"T_dfb73_row7_col16\" class=\"data row7 col16\" >0</td>\n",
       "      <td id=\"T_dfb73_row7_col17\" class=\"data row7 col17\" >0</td>\n",
       "      <td id=\"T_dfb73_row7_col18\" class=\"data row7 col18\" >0</td>\n",
       "      <td id=\"T_dfb73_row7_col19\" class=\"data row7 col19\" >0</td>\n",
       "      <td id=\"T_dfb73_row7_col20\" class=\"data row7 col20\" >3</td>\n",
       "      <td id=\"T_dfb73_row7_col21\" class=\"data row7 col21\" >26</td>\n",
       "      <td id=\"T_dfb73_row7_col22\" class=\"data row7 col22\" >103</td>\n",
       "      <td id=\"T_dfb73_row7_col23\" class=\"data row7 col23\" >207</td>\n",
       "    </tr>\n",
       "    <tr>\n",
       "      <th id=\"T_dfb73_level0_row8\" class=\"row_heading level0 row8\" >8</th>\n",
       "      <td id=\"T_dfb73_row8_col0\" class=\"data row8 col0\" >0</td>\n",
       "      <td id=\"T_dfb73_row8_col1\" class=\"data row8 col1\" >0</td>\n",
       "      <td id=\"T_dfb73_row8_col2\" class=\"data row8 col2\" >255</td>\n",
       "      <td id=\"T_dfb73_row8_col3\" class=\"data row8 col3\" >255</td>\n",
       "      <td id=\"T_dfb73_row8_col4\" class=\"data row8 col4\" >174</td>\n",
       "      <td id=\"T_dfb73_row8_col5\" class=\"data row8 col5\" >21</td>\n",
       "      <td id=\"T_dfb73_row8_col6\" class=\"data row8 col6\" >0</td>\n",
       "      <td id=\"T_dfb73_row8_col7\" class=\"data row8 col7\" >0</td>\n",
       "      <td id=\"T_dfb73_row8_col8\" class=\"data row8 col8\" >0</td>\n",
       "      <td id=\"T_dfb73_row8_col9\" class=\"data row8 col9\" >0</td>\n",
       "      <td id=\"T_dfb73_row8_col10\" class=\"data row8 col10\" >0</td>\n",
       "      <td id=\"T_dfb73_row8_col11\" class=\"data row8 col11\" >0</td>\n",
       "      <td id=\"T_dfb73_row8_col12\" class=\"data row8 col12\" >0</td>\n",
       "      <td id=\"T_dfb73_row8_col13\" class=\"data row8 col13\" >0</td>\n",
       "      <td id=\"T_dfb73_row8_col14\" class=\"data row8 col14\" >0</td>\n",
       "      <td id=\"T_dfb73_row8_col15\" class=\"data row8 col15\" >0</td>\n",
       "      <td id=\"T_dfb73_row8_col16\" class=\"data row8 col16\" >0</td>\n",
       "      <td id=\"T_dfb73_row8_col17\" class=\"data row8 col17\" >0</td>\n",
       "      <td id=\"T_dfb73_row8_col18\" class=\"data row8 col18\" >1</td>\n",
       "      <td id=\"T_dfb73_row8_col19\" class=\"data row8 col19\" >12</td>\n",
       "      <td id=\"T_dfb73_row8_col20\" class=\"data row8 col20\" >80</td>\n",
       "      <td id=\"T_dfb73_row8_col21\" class=\"data row8 col21\" >197</td>\n",
       "      <td id=\"T_dfb73_row8_col22\" class=\"data row8 col22\" >251</td>\n",
       "      <td id=\"T_dfb73_row8_col23\" class=\"data row8 col23\" >255</td>\n",
       "    </tr>\n",
       "    <tr>\n",
       "      <th id=\"T_dfb73_level0_row9\" class=\"row_heading level0 row9\" >9</th>\n",
       "      <td id=\"T_dfb73_row9_col0\" class=\"data row9 col0\" >0</td>\n",
       "      <td id=\"T_dfb73_row9_col1\" class=\"data row9 col1\" >0</td>\n",
       "      <td id=\"T_dfb73_row9_col2\" class=\"data row9 col2\" >255</td>\n",
       "      <td id=\"T_dfb73_row9_col3\" class=\"data row9 col3\" >252</td>\n",
       "      <td id=\"T_dfb73_row9_col4\" class=\"data row9 col4\" >112</td>\n",
       "      <td id=\"T_dfb73_row9_col5\" class=\"data row9 col5\" >4</td>\n",
       "      <td id=\"T_dfb73_row9_col6\" class=\"data row9 col6\" >0</td>\n",
       "      <td id=\"T_dfb73_row9_col7\" class=\"data row9 col7\" >0</td>\n",
       "      <td id=\"T_dfb73_row9_col8\" class=\"data row9 col8\" >0</td>\n",
       "      <td id=\"T_dfb73_row9_col9\" class=\"data row9 col9\" >0</td>\n",
       "      <td id=\"T_dfb73_row9_col10\" class=\"data row9 col10\" >0</td>\n",
       "      <td id=\"T_dfb73_row9_col11\" class=\"data row9 col11\" >0</td>\n",
       "      <td id=\"T_dfb73_row9_col12\" class=\"data row9 col12\" >0</td>\n",
       "      <td id=\"T_dfb73_row9_col13\" class=\"data row9 col13\" >0</td>\n",
       "      <td id=\"T_dfb73_row9_col14\" class=\"data row9 col14\" >0</td>\n",
       "      <td id=\"T_dfb73_row9_col15\" class=\"data row9 col15\" >0</td>\n",
       "      <td id=\"T_dfb73_row9_col16\" class=\"data row9 col16\" >0</td>\n",
       "      <td id=\"T_dfb73_row9_col17\" class=\"data row9 col17\" >5</td>\n",
       "      <td id=\"T_dfb73_row9_col18\" class=\"data row9 col18\" >45</td>\n",
       "      <td id=\"T_dfb73_row9_col19\" class=\"data row9 col19\" >157</td>\n",
       "      <td id=\"T_dfb73_row9_col20\" class=\"data row9 col20\" >246</td>\n",
       "      <td id=\"T_dfb73_row9_col21\" class=\"data row9 col21\" >255</td>\n",
       "      <td id=\"T_dfb73_row9_col22\" class=\"data row9 col22\" >255</td>\n",
       "      <td id=\"T_dfb73_row9_col23\" class=\"data row9 col23\" >245</td>\n",
       "    </tr>\n",
       "    <tr>\n",
       "      <th id=\"T_dfb73_level0_row10\" class=\"row_heading level0 row10\" >10</th>\n",
       "      <td id=\"T_dfb73_row10_col0\" class=\"data row10 col0\" >0</td>\n",
       "      <td id=\"T_dfb73_row10_col1\" class=\"data row10 col1\" >0</td>\n",
       "      <td id=\"T_dfb73_row10_col2\" class=\"data row10 col2\" >255</td>\n",
       "      <td id=\"T_dfb73_row10_col3\" class=\"data row10 col3\" >252</td>\n",
       "      <td id=\"T_dfb73_row10_col4\" class=\"data row10 col4\" >115</td>\n",
       "      <td id=\"T_dfb73_row10_col5\" class=\"data row10 col5\" >4</td>\n",
       "      <td id=\"T_dfb73_row10_col6\" class=\"data row10 col6\" >0</td>\n",
       "      <td id=\"T_dfb73_row10_col7\" class=\"data row10 col7\" >0</td>\n",
       "      <td id=\"T_dfb73_row10_col8\" class=\"data row10 col8\" >0</td>\n",
       "      <td id=\"T_dfb73_row10_col9\" class=\"data row10 col9\" >0</td>\n",
       "      <td id=\"T_dfb73_row10_col10\" class=\"data row10 col10\" >0</td>\n",
       "      <td id=\"T_dfb73_row10_col11\" class=\"data row10 col11\" >0</td>\n",
       "      <td id=\"T_dfb73_row10_col12\" class=\"data row10 col12\" >0</td>\n",
       "      <td id=\"T_dfb73_row10_col13\" class=\"data row10 col13\" >0</td>\n",
       "      <td id=\"T_dfb73_row10_col14\" class=\"data row10 col14\" >0</td>\n",
       "      <td id=\"T_dfb73_row10_col15\" class=\"data row10 col15\" >1</td>\n",
       "      <td id=\"T_dfb73_row10_col16\" class=\"data row10 col16\" >18</td>\n",
       "      <td id=\"T_dfb73_row10_col17\" class=\"data row10 col17\" >99</td>\n",
       "      <td id=\"T_dfb73_row10_col18\" class=\"data row10 col18\" >216</td>\n",
       "      <td id=\"T_dfb73_row10_col19\" class=\"data row10 col19\" >254</td>\n",
       "      <td id=\"T_dfb73_row10_col20\" class=\"data row10 col20\" >255</td>\n",
       "      <td id=\"T_dfb73_row10_col21\" class=\"data row10 col21\" >241</td>\n",
       "      <td id=\"T_dfb73_row10_col22\" class=\"data row10 col22\" >164</td>\n",
       "      <td id=\"T_dfb73_row10_col23\" class=\"data row10 col23\" >84</td>\n",
       "    </tr>\n",
       "    <tr>\n",
       "      <th id=\"T_dfb73_level0_row11\" class=\"row_heading level0 row11\" >11</th>\n",
       "      <td id=\"T_dfb73_row11_col0\" class=\"data row11 col0\" >0</td>\n",
       "      <td id=\"T_dfb73_row11_col1\" class=\"data row11 col1\" >0</td>\n",
       "      <td id=\"T_dfb73_row11_col2\" class=\"data row11 col2\" >255</td>\n",
       "      <td id=\"T_dfb73_row11_col3\" class=\"data row11 col3\" >255</td>\n",
       "      <td id=\"T_dfb73_row11_col4\" class=\"data row11 col4\" >178</td>\n",
       "      <td id=\"T_dfb73_row11_col5\" class=\"data row11 col5\" >21</td>\n",
       "      <td id=\"T_dfb73_row11_col6\" class=\"data row11 col6\" >0</td>\n",
       "      <td id=\"T_dfb73_row11_col7\" class=\"data row11 col7\" >0</td>\n",
       "      <td id=\"T_dfb73_row11_col8\" class=\"data row11 col8\" >0</td>\n",
       "      <td id=\"T_dfb73_row11_col9\" class=\"data row11 col9\" >0</td>\n",
       "      <td id=\"T_dfb73_row11_col10\" class=\"data row11 col10\" >0</td>\n",
       "      <td id=\"T_dfb73_row11_col11\" class=\"data row11 col11\" >0</td>\n",
       "      <td id=\"T_dfb73_row11_col12\" class=\"data row11 col12\" >0</td>\n",
       "      <td id=\"T_dfb73_row11_col13\" class=\"data row11 col13\" >1</td>\n",
       "      <td id=\"T_dfb73_row11_col14\" class=\"data row11 col14\" >8</td>\n",
       "      <td id=\"T_dfb73_row11_col15\" class=\"data row11 col15\" >55</td>\n",
       "      <td id=\"T_dfb73_row11_col16\" class=\"data row11 col16\" >171</td>\n",
       "      <td id=\"T_dfb73_row11_col17\" class=\"data row11 col17\" >249</td>\n",
       "      <td id=\"T_dfb73_row11_col18\" class=\"data row11 col18\" >255</td>\n",
       "      <td id=\"T_dfb73_row11_col19\" class=\"data row11 col19\" >253</td>\n",
       "      <td id=\"T_dfb73_row11_col20\" class=\"data row11 col20\" >202</td>\n",
       "      <td id=\"T_dfb73_row11_col21\" class=\"data row11 col21\" >79</td>\n",
       "      <td id=\"T_dfb73_row11_col22\" class=\"data row11 col22\" >11</td>\n",
       "      <td id=\"T_dfb73_row11_col23\" class=\"data row11 col23\" >2</td>\n",
       "    </tr>\n",
       "    <tr>\n",
       "      <th id=\"T_dfb73_level0_row12\" class=\"row_heading level0 row12\" >12</th>\n",
       "      <td id=\"T_dfb73_row12_col0\" class=\"data row12 col0\" >0</td>\n",
       "      <td id=\"T_dfb73_row12_col1\" class=\"data row12 col1\" >0</td>\n",
       "      <td id=\"T_dfb73_row12_col2\" class=\"data row12 col2\" >255</td>\n",
       "      <td id=\"T_dfb73_row12_col3\" class=\"data row12 col3\" >255</td>\n",
       "      <td id=\"T_dfb73_row12_col4\" class=\"data row12 col4\" >245</td>\n",
       "      <td id=\"T_dfb73_row12_col5\" class=\"data row12 col5\" >89</td>\n",
       "      <td id=\"T_dfb73_row12_col6\" class=\"data row12 col6\" >6</td>\n",
       "      <td id=\"T_dfb73_row12_col7\" class=\"data row12 col7\" >0</td>\n",
       "      <td id=\"T_dfb73_row12_col8\" class=\"data row12 col8\" >0</td>\n",
       "      <td id=\"T_dfb73_row12_col9\" class=\"data row12 col9\" >0</td>\n",
       "      <td id=\"T_dfb73_row12_col10\" class=\"data row12 col10\" >0</td>\n",
       "      <td id=\"T_dfb73_row12_col11\" class=\"data row12 col11\" >0</td>\n",
       "      <td id=\"T_dfb73_row12_col12\" class=\"data row12 col12\" >2</td>\n",
       "      <td id=\"T_dfb73_row12_col13\" class=\"data row12 col13\" >28</td>\n",
       "      <td id=\"T_dfb73_row12_col14\" class=\"data row12 col14\" >131</td>\n",
       "      <td id=\"T_dfb73_row12_col15\" class=\"data row12 col15\" >232</td>\n",
       "      <td id=\"T_dfb73_row12_col16\" class=\"data row12 col16\" >255</td>\n",
       "      <td id=\"T_dfb73_row12_col17\" class=\"data row12 col17\" >255</td>\n",
       "      <td id=\"T_dfb73_row12_col18\" class=\"data row12 col18\" >249</td>\n",
       "      <td id=\"T_dfb73_row12_col19\" class=\"data row12 col19\" >154</td>\n",
       "      <td id=\"T_dfb73_row12_col20\" class=\"data row12 col20\" >35</td>\n",
       "      <td id=\"T_dfb73_row12_col21\" class=\"data row12 col21\" >6</td>\n",
       "      <td id=\"T_dfb73_row12_col22\" class=\"data row12 col22\" >0</td>\n",
       "      <td id=\"T_dfb73_row12_col23\" class=\"data row12 col23\" >0</td>\n",
       "    </tr>\n",
       "    <tr>\n",
       "      <th id=\"T_dfb73_level0_row13\" class=\"row_heading level0 row13\" >13</th>\n",
       "      <td id=\"T_dfb73_row13_col0\" class=\"data row13 col0\" >0</td>\n",
       "      <td id=\"T_dfb73_row13_col1\" class=\"data row13 col1\" >0</td>\n",
       "      <td id=\"T_dfb73_row13_col2\" class=\"data row13 col2\" >219</td>\n",
       "      <td id=\"T_dfb73_row13_col3\" class=\"data row13 col3\" >255</td>\n",
       "      <td id=\"T_dfb73_row13_col4\" class=\"data row13 col4\" >255</td>\n",
       "      <td id=\"T_dfb73_row13_col5\" class=\"data row13 col5\" >217</td>\n",
       "      <td id=\"T_dfb73_row13_col6\" class=\"data row13 col6\" >64</td>\n",
       "      <td id=\"T_dfb73_row13_col7\" class=\"data row13 col7\" >4</td>\n",
       "      <td id=\"T_dfb73_row13_col8\" class=\"data row13 col8\" >0</td>\n",
       "      <td id=\"T_dfb73_row13_col9\" class=\"data row13 col9\" >0</td>\n",
       "      <td id=\"T_dfb73_row13_col10\" class=\"data row13 col10\" >0</td>\n",
       "      <td id=\"T_dfb73_row13_col11\" class=\"data row13 col11\" >7</td>\n",
       "      <td id=\"T_dfb73_row13_col12\" class=\"data row13 col12\" >61</td>\n",
       "      <td id=\"T_dfb73_row13_col13\" class=\"data row13 col13\" >188</td>\n",
       "      <td id=\"T_dfb73_row13_col14\" class=\"data row13 col14\" >253</td>\n",
       "      <td id=\"T_dfb73_row13_col15\" class=\"data row13 col15\" >255</td>\n",
       "      <td id=\"T_dfb73_row13_col16\" class=\"data row13 col16\" >252</td>\n",
       "      <td id=\"T_dfb73_row13_col17\" class=\"data row13 col17\" >204</td>\n",
       "      <td id=\"T_dfb73_row13_col18\" class=\"data row13 col18\" >114</td>\n",
       "      <td id=\"T_dfb73_row13_col19\" class=\"data row13 col19\" >26</td>\n",
       "      <td id=\"T_dfb73_row13_col20\" class=\"data row13 col20\" >1</td>\n",
       "      <td id=\"T_dfb73_row13_col21\" class=\"data row13 col21\" >0</td>\n",
       "      <td id=\"T_dfb73_row13_col22\" class=\"data row13 col22\" >0</td>\n",
       "      <td id=\"T_dfb73_row13_col23\" class=\"data row13 col23\" >0</td>\n",
       "    </tr>\n",
       "    <tr>\n",
       "      <th id=\"T_dfb73_level0_row14\" class=\"row_heading level0 row14\" >14</th>\n",
       "      <td id=\"T_dfb73_row14_col0\" class=\"data row14 col0\" >0</td>\n",
       "      <td id=\"T_dfb73_row14_col1\" class=\"data row14 col1\" >0</td>\n",
       "      <td id=\"T_dfb73_row14_col2\" class=\"data row14 col2\" >57</td>\n",
       "      <td id=\"T_dfb73_row14_col3\" class=\"data row14 col3\" >205</td>\n",
       "      <td id=\"T_dfb73_row14_col4\" class=\"data row14 col4\" >255</td>\n",
       "      <td id=\"T_dfb73_row14_col5\" class=\"data row14 col5\" >255</td>\n",
       "      <td id=\"T_dfb73_row14_col6\" class=\"data row14 col6\" >221</td>\n",
       "      <td id=\"T_dfb73_row14_col7\" class=\"data row14 col7\" >79</td>\n",
       "      <td id=\"T_dfb73_row14_col8\" class=\"data row14 col8\" >10</td>\n",
       "      <td id=\"T_dfb73_row14_col9\" class=\"data row14 col9\" >1</td>\n",
       "      <td id=\"T_dfb73_row14_col10\" class=\"data row14 col10\" >23</td>\n",
       "      <td id=\"T_dfb73_row14_col11\" class=\"data row14 col11\" >117</td>\n",
       "      <td id=\"T_dfb73_row14_col12\" class=\"data row14 col12\" >232</td>\n",
       "      <td id=\"T_dfb73_row14_col13\" class=\"data row14 col13\" >255</td>\n",
       "      <td id=\"T_dfb73_row14_col14\" class=\"data row14 col14\" >255</td>\n",
       "      <td id=\"T_dfb73_row14_col15\" class=\"data row14 col15\" >224</td>\n",
       "      <td id=\"T_dfb73_row14_col16\" class=\"data row14 col16\" >111</td>\n",
       "      <td id=\"T_dfb73_row14_col17\" class=\"data row14 col17\" >25</td>\n",
       "      <td id=\"T_dfb73_row14_col18\" class=\"data row14 col18\" >5</td>\n",
       "      <td id=\"T_dfb73_row14_col19\" class=\"data row14 col19\" >1</td>\n",
       "      <td id=\"T_dfb73_row14_col20\" class=\"data row14 col20\" >0</td>\n",
       "      <td id=\"T_dfb73_row14_col21\" class=\"data row14 col21\" >0</td>\n",
       "      <td id=\"T_dfb73_row14_col22\" class=\"data row14 col22\" >0</td>\n",
       "      <td id=\"T_dfb73_row14_col23\" class=\"data row14 col23\" >0</td>\n",
       "    </tr>\n",
       "    <tr>\n",
       "      <th id=\"T_dfb73_level0_row15\" class=\"row_heading level0 row15\" >15</th>\n",
       "      <td id=\"T_dfb73_row15_col0\" class=\"data row15 col0\" >0</td>\n",
       "      <td id=\"T_dfb73_row15_col1\" class=\"data row15 col1\" >0</td>\n",
       "      <td id=\"T_dfb73_row15_col2\" class=\"data row15 col2\" >5</td>\n",
       "      <td id=\"T_dfb73_row15_col3\" class=\"data row15 col3\" >62</td>\n",
       "      <td id=\"T_dfb73_row15_col4\" class=\"data row15 col4\" >209</td>\n",
       "      <td id=\"T_dfb73_row15_col5\" class=\"data row15 col5\" >255</td>\n",
       "      <td id=\"T_dfb73_row15_col6\" class=\"data row15 col6\" >255</td>\n",
       "      <td id=\"T_dfb73_row15_col7\" class=\"data row15 col7\" >237</td>\n",
       "      <td id=\"T_dfb73_row15_col8\" class=\"data row15 col8\" >116</td>\n",
       "      <td id=\"T_dfb73_row15_col9\" class=\"data row15 col9\" >44</td>\n",
       "      <td id=\"T_dfb73_row15_col10\" class=\"data row15 col10\" >161</td>\n",
       "      <td id=\"T_dfb73_row15_col11\" class=\"data row15 col11\" >249</td>\n",
       "      <td id=\"T_dfb73_row15_col12\" class=\"data row15 col12\" >255</td>\n",
       "      <td id=\"T_dfb73_row15_col13\" class=\"data row15 col13\" >244</td>\n",
       "      <td id=\"T_dfb73_row15_col14\" class=\"data row15 col14\" >161</td>\n",
       "      <td id=\"T_dfb73_row15_col15\" class=\"data row15 col15\" >54</td>\n",
       "      <td id=\"T_dfb73_row15_col16\" class=\"data row15 col16\" >9</td>\n",
       "      <td id=\"T_dfb73_row15_col17\" class=\"data row15 col17\" >0</td>\n",
       "      <td id=\"T_dfb73_row15_col18\" class=\"data row15 col18\" >0</td>\n",
       "      <td id=\"T_dfb73_row15_col19\" class=\"data row15 col19\" >0</td>\n",
       "      <td id=\"T_dfb73_row15_col20\" class=\"data row15 col20\" >0</td>\n",
       "      <td id=\"T_dfb73_row15_col21\" class=\"data row15 col21\" >0</td>\n",
       "      <td id=\"T_dfb73_row15_col22\" class=\"data row15 col22\" >0</td>\n",
       "      <td id=\"T_dfb73_row15_col23\" class=\"data row15 col23\" >0</td>\n",
       "    </tr>\n",
       "    <tr>\n",
       "      <th id=\"T_dfb73_level0_row16\" class=\"row_heading level0 row16\" >16</th>\n",
       "      <td id=\"T_dfb73_row16_col0\" class=\"data row16 col0\" >0</td>\n",
       "      <td id=\"T_dfb73_row16_col1\" class=\"data row16 col1\" >0</td>\n",
       "      <td id=\"T_dfb73_row16_col2\" class=\"data row16 col2\" >0</td>\n",
       "      <td id=\"T_dfb73_row16_col3\" class=\"data row16 col3\" >3</td>\n",
       "      <td id=\"T_dfb73_row16_col4\" class=\"data row16 col4\" >41</td>\n",
       "      <td id=\"T_dfb73_row16_col5\" class=\"data row16 col5\" >173</td>\n",
       "      <td id=\"T_dfb73_row16_col6\" class=\"data row16 col6\" >251</td>\n",
       "      <td id=\"T_dfb73_row16_col7\" class=\"data row16 col7\" >255</td>\n",
       "      <td id=\"T_dfb73_row16_col8\" class=\"data row16 col8\" >250</td>\n",
       "      <td id=\"T_dfb73_row16_col9\" class=\"data row16 col9\" >229</td>\n",
       "      <td id=\"T_dfb73_row16_col10\" class=\"data row16 col10\" >254</td>\n",
       "      <td id=\"T_dfb73_row16_col11\" class=\"data row16 col11\" >255</td>\n",
       "      <td id=\"T_dfb73_row16_col12\" class=\"data row16 col12\" >238</td>\n",
       "      <td id=\"T_dfb73_row16_col13\" class=\"data row16 col13\" >98</td>\n",
       "      <td id=\"T_dfb73_row16_col14\" class=\"data row16 col14\" >12</td>\n",
       "      <td id=\"T_dfb73_row16_col15\" class=\"data row16 col15\" >1</td>\n",
       "      <td id=\"T_dfb73_row16_col16\" class=\"data row16 col16\" >0</td>\n",
       "      <td id=\"T_dfb73_row16_col17\" class=\"data row16 col17\" >0</td>\n",
       "      <td id=\"T_dfb73_row16_col18\" class=\"data row16 col18\" >0</td>\n",
       "      <td id=\"T_dfb73_row16_col19\" class=\"data row16 col19\" >0</td>\n",
       "      <td id=\"T_dfb73_row16_col20\" class=\"data row16 col20\" >0</td>\n",
       "      <td id=\"T_dfb73_row16_col21\" class=\"data row16 col21\" >0</td>\n",
       "      <td id=\"T_dfb73_row16_col22\" class=\"data row16 col22\" >0</td>\n",
       "      <td id=\"T_dfb73_row16_col23\" class=\"data row16 col23\" >0</td>\n",
       "    </tr>\n",
       "    <tr>\n",
       "      <th id=\"T_dfb73_level0_row17\" class=\"row_heading level0 row17\" >17</th>\n",
       "      <td id=\"T_dfb73_row17_col0\" class=\"data row17 col0\" >0</td>\n",
       "      <td id=\"T_dfb73_row17_col1\" class=\"data row17 col1\" >0</td>\n",
       "      <td id=\"T_dfb73_row17_col2\" class=\"data row17 col2\" >0</td>\n",
       "      <td id=\"T_dfb73_row17_col3\" class=\"data row17 col3\" >0</td>\n",
       "      <td id=\"T_dfb73_row17_col4\" class=\"data row17 col4\" >1</td>\n",
       "      <td id=\"T_dfb73_row17_col5\" class=\"data row17 col5\" >26</td>\n",
       "      <td id=\"T_dfb73_row17_col6\" class=\"data row17 col6\" >139</td>\n",
       "      <td id=\"T_dfb73_row17_col7\" class=\"data row17 col7\" >249</td>\n",
       "      <td id=\"T_dfb73_row17_col8\" class=\"data row17 col8\" >255</td>\n",
       "      <td id=\"T_dfb73_row17_col9\" class=\"data row17 col9\" >255</td>\n",
       "      <td id=\"T_dfb73_row17_col10\" class=\"data row17 col10\" >255</td>\n",
       "      <td id=\"T_dfb73_row17_col11\" class=\"data row17 col11\" >246</td>\n",
       "      <td id=\"T_dfb73_row17_col12\" class=\"data row17 col12\" >110</td>\n",
       "      <td id=\"T_dfb73_row17_col13\" class=\"data row17 col13\" >13</td>\n",
       "      <td id=\"T_dfb73_row17_col14\" class=\"data row17 col14\" >0</td>\n",
       "      <td id=\"T_dfb73_row17_col15\" class=\"data row17 col15\" >0</td>\n",
       "      <td id=\"T_dfb73_row17_col16\" class=\"data row17 col16\" >0</td>\n",
       "      <td id=\"T_dfb73_row17_col17\" class=\"data row17 col17\" >0</td>\n",
       "      <td id=\"T_dfb73_row17_col18\" class=\"data row17 col18\" >0</td>\n",
       "      <td id=\"T_dfb73_row17_col19\" class=\"data row17 col19\" >0</td>\n",
       "      <td id=\"T_dfb73_row17_col20\" class=\"data row17 col20\" >0</td>\n",
       "      <td id=\"T_dfb73_row17_col21\" class=\"data row17 col21\" >0</td>\n",
       "      <td id=\"T_dfb73_row17_col22\" class=\"data row17 col22\" >0</td>\n",
       "      <td id=\"T_dfb73_row17_col23\" class=\"data row17 col23\" >0</td>\n",
       "    </tr>\n",
       "    <tr>\n",
       "      <th id=\"T_dfb73_level0_row18\" class=\"row_heading level0 row18\" >18</th>\n",
       "      <td id=\"T_dfb73_row18_col0\" class=\"data row18 col0\" >0</td>\n",
       "      <td id=\"T_dfb73_row18_col1\" class=\"data row18 col1\" >0</td>\n",
       "      <td id=\"T_dfb73_row18_col2\" class=\"data row18 col2\" >0</td>\n",
       "      <td id=\"T_dfb73_row18_col3\" class=\"data row18 col3\" >0</td>\n",
       "      <td id=\"T_dfb73_row18_col4\" class=\"data row18 col4\" >0</td>\n",
       "      <td id=\"T_dfb73_row18_col5\" class=\"data row18 col5\" >1</td>\n",
       "      <td id=\"T_dfb73_row18_col6\" class=\"data row18 col6\" >37</td>\n",
       "      <td id=\"T_dfb73_row18_col7\" class=\"data row18 col7\" >215</td>\n",
       "      <td id=\"T_dfb73_row18_col8\" class=\"data row18 col8\" >255</td>\n",
       "      <td id=\"T_dfb73_row18_col9\" class=\"data row18 col9\" >255</td>\n",
       "      <td id=\"T_dfb73_row18_col10\" class=\"data row18 col10\" >255</td>\n",
       "      <td id=\"T_dfb73_row18_col11\" class=\"data row18 col11\" >230</td>\n",
       "      <td id=\"T_dfb73_row18_col12\" class=\"data row18 col12\" >56</td>\n",
       "      <td id=\"T_dfb73_row18_col13\" class=\"data row18 col13\" >3</td>\n",
       "      <td id=\"T_dfb73_row18_col14\" class=\"data row18 col14\" >0</td>\n",
       "      <td id=\"T_dfb73_row18_col15\" class=\"data row18 col15\" >0</td>\n",
       "      <td id=\"T_dfb73_row18_col16\" class=\"data row18 col16\" >0</td>\n",
       "      <td id=\"T_dfb73_row18_col17\" class=\"data row18 col17\" >0</td>\n",
       "      <td id=\"T_dfb73_row18_col18\" class=\"data row18 col18\" >0</td>\n",
       "      <td id=\"T_dfb73_row18_col19\" class=\"data row18 col19\" >0</td>\n",
       "      <td id=\"T_dfb73_row18_col20\" class=\"data row18 col20\" >0</td>\n",
       "      <td id=\"T_dfb73_row18_col21\" class=\"data row18 col21\" >0</td>\n",
       "      <td id=\"T_dfb73_row18_col22\" class=\"data row18 col22\" >0</td>\n",
       "      <td id=\"T_dfb73_row18_col23\" class=\"data row18 col23\" >0</td>\n",
       "    </tr>\n",
       "    <tr>\n",
       "      <th id=\"T_dfb73_level0_row19\" class=\"row_heading level0 row19\" >19</th>\n",
       "      <td id=\"T_dfb73_row19_col0\" class=\"data row19 col0\" >0</td>\n",
       "      <td id=\"T_dfb73_row19_col1\" class=\"data row19 col1\" >0</td>\n",
       "      <td id=\"T_dfb73_row19_col2\" class=\"data row19 col2\" >0</td>\n",
       "      <td id=\"T_dfb73_row19_col3\" class=\"data row19 col3\" >0</td>\n",
       "      <td id=\"T_dfb73_row19_col4\" class=\"data row19 col4\" >0</td>\n",
       "      <td id=\"T_dfb73_row19_col5\" class=\"data row19 col5\" >15</td>\n",
       "      <td id=\"T_dfb73_row19_col6\" class=\"data row19 col6\" >134</td>\n",
       "      <td id=\"T_dfb73_row19_col7\" class=\"data row19 col7\" >252</td>\n",
       "      <td id=\"T_dfb73_row19_col8\" class=\"data row19 col8\" >255</td>\n",
       "      <td id=\"T_dfb73_row19_col9\" class=\"data row19 col9\" >255</td>\n",
       "      <td id=\"T_dfb73_row19_col10\" class=\"data row19 col10\" >255</td>\n",
       "      <td id=\"T_dfb73_row19_col11\" class=\"data row19 col11\" >255</td>\n",
       "      <td id=\"T_dfb73_row19_col12\" class=\"data row19 col12\" >193</td>\n",
       "      <td id=\"T_dfb73_row19_col13\" class=\"data row19 col13\" >44</td>\n",
       "      <td id=\"T_dfb73_row19_col14\" class=\"data row19 col14\" >2</td>\n",
       "      <td id=\"T_dfb73_row19_col15\" class=\"data row19 col15\" >0</td>\n",
       "      <td id=\"T_dfb73_row19_col16\" class=\"data row19 col16\" >0</td>\n",
       "      <td id=\"T_dfb73_row19_col17\" class=\"data row19 col17\" >0</td>\n",
       "      <td id=\"T_dfb73_row19_col18\" class=\"data row19 col18\" >0</td>\n",
       "      <td id=\"T_dfb73_row19_col19\" class=\"data row19 col19\" >0</td>\n",
       "      <td id=\"T_dfb73_row19_col20\" class=\"data row19 col20\" >0</td>\n",
       "      <td id=\"T_dfb73_row19_col21\" class=\"data row19 col21\" >0</td>\n",
       "      <td id=\"T_dfb73_row19_col22\" class=\"data row19 col22\" >0</td>\n",
       "      <td id=\"T_dfb73_row19_col23\" class=\"data row19 col23\" >0</td>\n",
       "    </tr>\n",
       "    <tr>\n",
       "      <th id=\"T_dfb73_level0_row20\" class=\"row_heading level0 row20\" >20</th>\n",
       "      <td id=\"T_dfb73_row20_col0\" class=\"data row20 col0\" >0</td>\n",
       "      <td id=\"T_dfb73_row20_col1\" class=\"data row20 col1\" >0</td>\n",
       "      <td id=\"T_dfb73_row20_col2\" class=\"data row20 col2\" >0</td>\n",
       "      <td id=\"T_dfb73_row20_col3\" class=\"data row20 col3\" >0</td>\n",
       "      <td id=\"T_dfb73_row20_col4\" class=\"data row20 col4\" >3</td>\n",
       "      <td id=\"T_dfb73_row20_col5\" class=\"data row20 col5\" >81</td>\n",
       "      <td id=\"T_dfb73_row20_col6\" class=\"data row20 col6\" >238</td>\n",
       "      <td id=\"T_dfb73_row20_col7\" class=\"data row20 col7\" >255</td>\n",
       "      <td id=\"T_dfb73_row20_col8\" class=\"data row20 col8\" >251</td>\n",
       "      <td id=\"T_dfb73_row20_col9\" class=\"data row20 col9\" >200</td>\n",
       "      <td id=\"T_dfb73_row20_col10\" class=\"data row20 col10\" >244</td>\n",
       "      <td id=\"T_dfb73_row20_col11\" class=\"data row20 col11\" >255</td>\n",
       "      <td id=\"T_dfb73_row20_col12\" class=\"data row20 col12\" >254</td>\n",
       "      <td id=\"T_dfb73_row20_col13\" class=\"data row20 col13\" >170</td>\n",
       "      <td id=\"T_dfb73_row20_col14\" class=\"data row20 col14\" >24</td>\n",
       "      <td id=\"T_dfb73_row20_col15\" class=\"data row20 col15\" >0</td>\n",
       "      <td id=\"T_dfb73_row20_col16\" class=\"data row20 col16\" >0</td>\n",
       "      <td id=\"T_dfb73_row20_col17\" class=\"data row20 col17\" >0</td>\n",
       "      <td id=\"T_dfb73_row20_col18\" class=\"data row20 col18\" >0</td>\n",
       "      <td id=\"T_dfb73_row20_col19\" class=\"data row20 col19\" >0</td>\n",
       "      <td id=\"T_dfb73_row20_col20\" class=\"data row20 col20\" >0</td>\n",
       "      <td id=\"T_dfb73_row20_col21\" class=\"data row20 col21\" >0</td>\n",
       "      <td id=\"T_dfb73_row20_col22\" class=\"data row20 col22\" >0</td>\n",
       "      <td id=\"T_dfb73_row20_col23\" class=\"data row20 col23\" >0</td>\n",
       "    </tr>\n",
       "    <tr>\n",
       "      <th id=\"T_dfb73_level0_row21\" class=\"row_heading level0 row21\" >21</th>\n",
       "      <td id=\"T_dfb73_row21_col0\" class=\"data row21 col0\" >0</td>\n",
       "      <td id=\"T_dfb73_row21_col1\" class=\"data row21 col1\" >0</td>\n",
       "      <td id=\"T_dfb73_row21_col2\" class=\"data row21 col2\" >0</td>\n",
       "      <td id=\"T_dfb73_row21_col3\" class=\"data row21 col3\" >0</td>\n",
       "      <td id=\"T_dfb73_row21_col4\" class=\"data row21 col4\" >24</td>\n",
       "      <td id=\"T_dfb73_row21_col5\" class=\"data row21 col5\" >187</td>\n",
       "      <td id=\"T_dfb73_row21_col6\" class=\"data row21 col6\" >255</td>\n",
       "      <td id=\"T_dfb73_row21_col7\" class=\"data row21 col7\" >255</td>\n",
       "      <td id=\"T_dfb73_row21_col8\" class=\"data row21 col8\" >188</td>\n",
       "      <td id=\"T_dfb73_row21_col9\" class=\"data row21 col9\" >41</td>\n",
       "      <td id=\"T_dfb73_row21_col10\" class=\"data row21 col10\" >127</td>\n",
       "      <td id=\"T_dfb73_row21_col11\" class=\"data row21 col11\" >249</td>\n",
       "      <td id=\"T_dfb73_row21_col12\" class=\"data row21 col12\" >255</td>\n",
       "      <td id=\"T_dfb73_row21_col13\" class=\"data row21 col13\" >248</td>\n",
       "      <td id=\"T_dfb73_row21_col14\" class=\"data row21 col14\" >108</td>\n",
       "      <td id=\"T_dfb73_row21_col15\" class=\"data row21 col15\" >6</td>\n",
       "      <td id=\"T_dfb73_row21_col16\" class=\"data row21 col16\" >0</td>\n",
       "      <td id=\"T_dfb73_row21_col17\" class=\"data row21 col17\" >0</td>\n",
       "      <td id=\"T_dfb73_row21_col18\" class=\"data row21 col18\" >0</td>\n",
       "      <td id=\"T_dfb73_row21_col19\" class=\"data row21 col19\" >0</td>\n",
       "      <td id=\"T_dfb73_row21_col20\" class=\"data row21 col20\" >0</td>\n",
       "      <td id=\"T_dfb73_row21_col21\" class=\"data row21 col21\" >0</td>\n",
       "      <td id=\"T_dfb73_row21_col22\" class=\"data row21 col22\" >0</td>\n",
       "      <td id=\"T_dfb73_row21_col23\" class=\"data row21 col23\" >0</td>\n",
       "    </tr>\n",
       "    <tr>\n",
       "      <th id=\"T_dfb73_level0_row22\" class=\"row_heading level0 row22\" >22</th>\n",
       "      <td id=\"T_dfb73_row22_col0\" class=\"data row22 col0\" >0</td>\n",
       "      <td id=\"T_dfb73_row22_col1\" class=\"data row22 col1\" >0</td>\n",
       "      <td id=\"T_dfb73_row22_col2\" class=\"data row22 col2\" >0</td>\n",
       "      <td id=\"T_dfb73_row22_col3\" class=\"data row22 col3\" >2</td>\n",
       "      <td id=\"T_dfb73_row22_col4\" class=\"data row22 col4\" >73</td>\n",
       "      <td id=\"T_dfb73_row22_col5\" class=\"data row22 col5\" >244</td>\n",
       "      <td id=\"T_dfb73_row22_col6\" class=\"data row22 col6\" >255</td>\n",
       "      <td id=\"T_dfb73_row22_col7\" class=\"data row22 col7\" >242</td>\n",
       "      <td id=\"T_dfb73_row22_col8\" class=\"data row22 col8\" >83</td>\n",
       "      <td id=\"T_dfb73_row22_col9\" class=\"data row22 col9\" >4</td>\n",
       "      <td id=\"T_dfb73_row22_col10\" class=\"data row22 col10\" >28</td>\n",
       "      <td id=\"T_dfb73_row22_col11\" class=\"data row22 col11\" >190</td>\n",
       "      <td id=\"T_dfb73_row22_col12\" class=\"data row22 col12\" >255</td>\n",
       "      <td id=\"T_dfb73_row22_col13\" class=\"data row22 col13\" >255</td>\n",
       "      <td id=\"T_dfb73_row22_col14\" class=\"data row22 col14\" >199</td>\n",
       "      <td id=\"T_dfb73_row22_col15\" class=\"data row22 col15\" >25</td>\n",
       "      <td id=\"T_dfb73_row22_col16\" class=\"data row22 col16\" >0</td>\n",
       "      <td id=\"T_dfb73_row22_col17\" class=\"data row22 col17\" >0</td>\n",
       "      <td id=\"T_dfb73_row22_col18\" class=\"data row22 col18\" >0</td>\n",
       "      <td id=\"T_dfb73_row22_col19\" class=\"data row22 col19\" >0</td>\n",
       "      <td id=\"T_dfb73_row22_col20\" class=\"data row22 col20\" >0</td>\n",
       "      <td id=\"T_dfb73_row22_col21\" class=\"data row22 col21\" >0</td>\n",
       "      <td id=\"T_dfb73_row22_col22\" class=\"data row22 col22\" >0</td>\n",
       "      <td id=\"T_dfb73_row22_col23\" class=\"data row22 col23\" >0</td>\n",
       "    </tr>\n",
       "    <tr>\n",
       "      <th id=\"T_dfb73_level0_row23\" class=\"row_heading level0 row23\" >23</th>\n",
       "      <td id=\"T_dfb73_row23_col0\" class=\"data row23 col0\" >0</td>\n",
       "      <td id=\"T_dfb73_row23_col1\" class=\"data row23 col1\" >0</td>\n",
       "      <td id=\"T_dfb73_row23_col2\" class=\"data row23 col2\" >0</td>\n",
       "      <td id=\"T_dfb73_row23_col3\" class=\"data row23 col3\" >6</td>\n",
       "      <td id=\"T_dfb73_row23_col4\" class=\"data row23 col4\" >129</td>\n",
       "      <td id=\"T_dfb73_row23_col5\" class=\"data row23 col5\" >253</td>\n",
       "      <td id=\"T_dfb73_row23_col6\" class=\"data row23 col6\" >255</td>\n",
       "      <td id=\"T_dfb73_row23_col7\" class=\"data row23 col7\" >223</td>\n",
       "      <td id=\"T_dfb73_row23_col8\" class=\"data row23 col8\" >42</td>\n",
       "      <td id=\"T_dfb73_row23_col9\" class=\"data row23 col9\" >1</td>\n",
       "      <td id=\"T_dfb73_row23_col10\" class=\"data row23 col10\" >4</td>\n",
       "      <td id=\"T_dfb73_row23_col11\" class=\"data row23 col11\" >95</td>\n",
       "      <td id=\"T_dfb73_row23_col12\" class=\"data row23 col12\" >253</td>\n",
       "      <td id=\"T_dfb73_row23_col13\" class=\"data row23 col13\" >255</td>\n",
       "      <td id=\"T_dfb73_row23_col14\" class=\"data row23 col14\" >244</td>\n",
       "      <td id=\"T_dfb73_row23_col15\" class=\"data row23 col15\" >64</td>\n",
       "      <td id=\"T_dfb73_row23_col16\" class=\"data row23 col16\" >2</td>\n",
       "      <td id=\"T_dfb73_row23_col17\" class=\"data row23 col17\" >0</td>\n",
       "      <td id=\"T_dfb73_row23_col18\" class=\"data row23 col18\" >0</td>\n",
       "      <td id=\"T_dfb73_row23_col19\" class=\"data row23 col19\" >0</td>\n",
       "      <td id=\"T_dfb73_row23_col20\" class=\"data row23 col20\" >0</td>\n",
       "      <td id=\"T_dfb73_row23_col21\" class=\"data row23 col21\" >0</td>\n",
       "      <td id=\"T_dfb73_row23_col22\" class=\"data row23 col22\" >0</td>\n",
       "      <td id=\"T_dfb73_row23_col23\" class=\"data row23 col23\" >0</td>\n",
       "    </tr>\n",
       "  </tbody>\n",
       "</table>\n"
      ],
      "text/plain": [
       "<pandas.io.formats.style.Styler at 0x7f29e3de7d60>"
      ]
     },
     "execution_count": 39,
     "metadata": {},
     "output_type": "execute_result"
    }
   ],
   "source": [
    "df = pd.DataFrame(img_4_np[:24, :24])\n",
    "df.style.set_properties(**{'font-size':'6pt'}).background_gradient('Greys')"
   ]
  },
  {
   "cell_type": "markdown",
   "id": "b5cdde28-13fa-47f7-98dc-f46493e861a0",
   "metadata": {},
   "source": [
    "## Let's try out pixel similarity"
   ]
  },
  {
   "cell_type": "markdown",
   "id": "e70dfbdb-7256-4227-96fd-9efbc7e6aeb8",
   "metadata": {},
   "source": [
    "### Calculate the average ४ (4) and average ८ (8)"
   ]
  },
  {
   "cell_type": "markdown",
   "id": "c2039a74-688f-4eb3-9192-aa042448eecd",
   "metadata": {},
   "source": [
    "Let's first convert all the images in training set to tensors."
   ]
  },
  {
   "cell_type": "code",
   "execution_count": 40,
   "id": "9f86c70f-fcb6-46ee-994f-4c7cd8a8e033",
   "metadata": {},
   "outputs": [
    {
     "data": {
      "text/plain": [
       "torch.Size([32, 32])"
      ]
     },
     "execution_count": 40,
     "metadata": {},
     "output_type": "execute_result"
    }
   ],
   "source": [
    "four_tensors = [torch.tensor(np.array(Image.open(f))) for f in fours.files]\n",
    "choice(four_tensors).shape"
   ]
  },
  {
   "cell_type": "code",
   "execution_count": 41,
   "id": "8b7d4911-cd1b-4e1a-b23b-9a150e6d6434",
   "metadata": {},
   "outputs": [
    {
     "data": {
      "text/plain": [
       "torch.Size([32, 32])"
      ]
     },
     "execution_count": 41,
     "metadata": {},
     "output_type": "execute_result"
    }
   ],
   "source": [
    "eight_tensors = [torch.tensor(np.array(Image.open(f))) for f in eights.files]\n",
    "choice(eight_tensors).shape"
   ]
  },
  {
   "cell_type": "markdown",
   "id": "a13886a7-3036-4f11-9586-b50e7ddb96ef",
   "metadata": {},
   "source": [
    "Let's define a quick function to print the tensor."
   ]
  },
  {
   "cell_type": "code",
   "execution_count": 42,
   "id": "b0c226fd-9645-4aaa-9b50-8a5f04c5aa4c",
   "metadata": {},
   "outputs": [],
   "source": [
    "def tshow(t):\n",
    "    plt.imshow(t, cmap=\"gray\")"
   ]
  },
  {
   "cell_type": "code",
   "execution_count": 43,
   "id": "69ad930e-b11e-4637-9df6-b8cebf36f53a",
   "metadata": {},
   "outputs": [
    {
     "data": {
      "image/png": "[encoded data removed]",
      "text/plain": [
       "<Figure size 432x288 with 1 Axes>"
      ]
     },
     "metadata": {
      "needs_background": "light"
     },
     "output_type": "display_data"
    }
   ],
   "source": [
    "tshow(four_tensors[0])"
   ]
  },
  {
   "cell_type": "code",
   "execution_count": 44,
   "id": "0ac1ca36-50e0-4875-a435-c4cc43c1574c",
   "metadata": {},
   "outputs": [
    {
     "data": {
      "image/png": "[encoded data removed]",
      "text/plain": [
       "<Figure size 432x288 with 1 Axes>"
      ]
     },
     "metadata": {
      "needs_background": "light"
     },
     "output_type": "display_data"
    }
   ],
   "source": [
    "tshow(eight_tensors[0])"
   ]
  },
  {
   "cell_type": "markdown",
   "id": "a1221548-01a3-4203-8036-f5e58fc30513",
   "metadata": {},
   "source": [
    "The next step is to stack all the tensors in a single tensor, convert them to float, and normalise them. Pixels when represented in float tend to be in the 0.0 - 1.0 range."
   ]
  },
  {
   "cell_type": "code",
   "execution_count": 45,
   "id": "54a6c4f4-1fa3-49c3-acdb-acf0ec5d6ed5",
   "metadata": {},
   "outputs": [
    {
     "data": {
      "text/plain": [
       "torch.Size([1700, 32, 32])"
      ]
     },
     "execution_count": 45,
     "metadata": {},
     "output_type": "execute_result"
    }
   ],
   "source": [
    "stacked_fours = torch.stack(four_tensors).float()/255\n",
    "stacked_fours.shape"
   ]
  },
  {
   "cell_type": "code",
   "execution_count": 46,
   "id": "5cd084fa-acca-4e80-9e4f-833629b69a58",
   "metadata": {},
   "outputs": [
    {
     "data": {
      "text/plain": [
       "torch.Size([1700, 32, 32])"
      ]
     },
     "execution_count": 46,
     "metadata": {},
     "output_type": "execute_result"
    }
   ],
   "source": [
    "stacked_eights = torch.stack(eight_tensors).float()/255\n",
    "stacked_eights.shape"
   ]
  },
  {
   "cell_type": "markdown",
   "id": "86764add-6357-4982-9baa-cd08af6f97eb",
   "metadata": {},
   "source": [
    "Finally, let's calculate the average ४ and ८. We can do this by simply averaging the stack over the 0th axis. As you can see in the shape above, this is is the axis along which individual images are spread."
   ]
  },
  {
   "cell_type": "code",
   "execution_count": 47,
   "id": "46f7b1e0-d68b-46e0-874b-125e70663dd1",
   "metadata": {},
   "outputs": [
    {
     "data": {
      "text/plain": [
       "torch.Size([32, 32])"
      ]
     },
     "execution_count": 47,
     "metadata": {},
     "output_type": "execute_result"
    }
   ],
   "source": [
    "mean_four = stacked_fours.mean(0)\n",
    "mean_four.shape"
   ]
  },
  {
   "cell_type": "code",
   "execution_count": 48,
   "id": "8cef8b0c-da30-4236-958b-32323837cfba",
   "metadata": {},
   "outputs": [
    {
     "data": {
      "text/plain": [
       "torch.Size([32, 32])"
      ]
     },
     "execution_count": 48,
     "metadata": {},
     "output_type": "execute_result"
    }
   ],
   "source": [
    "mean_eight = stacked_eights.mean(0)\n",
    "mean_eight.shape"
   ]
  },
  {
   "cell_type": "markdown",
   "id": "5737e238-84fe-47bf-aecd-b9bc272095d8",
   "metadata": {},
   "source": [
    "### Big reveal for the average ४ and ८"
   ]
  },
  {
   "cell_type": "code",
   "execution_count": 49,
   "id": "010d5122-e52a-4367-b2eb-46b2dc5bd7b9",
   "metadata": {},
   "outputs": [
    {
     "data": {
      "image/png": "[encoded data removed]",
      "text/plain": [
       "<Figure size 432x288 with 1 Axes>"
      ]
     },
     "metadata": {
      "needs_background": "light"
     },
     "output_type": "display_data"
    }
   ],
   "source": [
    "tshow(mean_four)"
   ]
  },
  {
   "cell_type": "code",
   "execution_count": 50,
   "id": "b9de2e25-49ff-4480-953f-caf81386950d",
   "metadata": {},
   "outputs": [
    {
     "data": {
      "image/png": "[encoded data removed]",
      "text/plain": [
       "<Figure size 432x288 with 1 Axes>"
      ]
     },
     "metadata": {
      "needs_background": "light"
     },
     "output_type": "display_data"
    }
   ],
   "source": [
    "tshow(mean_eight)"
   ]
  },
  {
   "cell_type": "markdown",
   "id": "48385880-ef04-47bc-a40a-8ef23e096c72",
   "metadata": {},
   "source": [
    "## Distance from the average"
   ]
  },
  {
   "cell_type": "markdown",
   "id": "803dd026-6347-4734-95bc-b6d8d7d5a810",
   "metadata": {},
   "source": [
    "Next, we can measure the distance(how similar) of a particular image from the average one. \n",
    "\n",
    "The main idea for similarity being that the lower the distance from a class average, the closer it is to that particular class.\n",
    "\n",
    "We can do this in two different ways:\n",
    "- Calculate the Mean Absolute Different (also know as L1 norm)\n",
    "- Calculate the Root Mean Squared Error (also knows as L2 norm)"
   ]
  },
  {
   "cell_type": "markdown",
   "id": "7df30d2f-c399-4b47-bde7-b70ea1e5e033",
   "metadata": {},
   "source": [
    "Let's pick a random sample from the stack and find it's distance/similarity"
   ]
  },
  {
   "cell_type": "code",
   "execution_count": 51,
   "id": "ccffb8dc-ac2c-435e-be44-2b4c750a0d27",
   "metadata": {},
   "outputs": [
    {
     "data": {
      "image/png": "[encoded data removed]",
      "text/plain": [
       "<Figure size 432x288 with 1 Axes>"
      ]
     },
     "metadata": {
      "needs_background": "light"
     },
     "output_type": "display_data"
    }
   ],
   "source": [
    "a_4 = stacked_fours[1]\n",
    "a_8 = stacked_eights[1]\n",
    "\n",
    "tshow(a_4)"
   ]
  },
  {
   "cell_type": "code",
   "execution_count": 52,
   "id": "8d9f2137-31c4-4e1e-b597-80a99ec54b78",
   "metadata": {},
   "outputs": [
    {
     "data": {
      "text/plain": [
       "(tensor(0.2466), tensor(0.3496))"
      ]
     },
     "execution_count": 52,
     "metadata": {},
     "output_type": "execute_result"
    }
   ],
   "source": [
    "dist_4_abs = (a_4 - mean_four).abs().mean()\n",
    "dist_4_rmse = ((a_4 - mean_four)**2).mean().sqrt()\n",
    "\n",
    "dist_4_abs, dist_4_rmse"
   ]
  },
  {
   "cell_type": "markdown",
   "id": "fc2c5652-0b2d-4e4d-b874-0d7e392dcbe2",
   "metadata": {},
   "source": [
    "PyTorch has builtin functions for these distances, all called losses. Let's use these loss function to calculate the distance of a sample from the two different averages."
   ]
  },
  {
   "cell_type": "code",
   "execution_count": 53,
   "id": "7ff26767-dfeb-48b0-a52f-0fe326959b05",
   "metadata": {},
   "outputs": [
    {
     "data": {
      "text/plain": [
       "(tensor(0.2466), tensor(0.3496))"
      ]
     },
     "execution_count": 53,
     "metadata": {},
     "output_type": "execute_result"
    }
   ],
   "source": [
    "F.l1_loss(a_4, mean_four), F.mse_loss(a_4, mean_four).sqrt()"
   ]
  },
  {
   "cell_type": "code",
   "execution_count": 54,
   "id": "6610ab14-3c52-4d64-af50-8b07d976b4b0",
   "metadata": {},
   "outputs": [
    {
     "data": {
      "text/plain": [
       "(tensor(0.3533), tensor(0.4772))"
      ]
     },
     "execution_count": 54,
     "metadata": {},
     "output_type": "execute_result"
    }
   ],
   "source": [
    "F.l1_loss(a_4, mean_eight), F.mse_loss(a_4, mean_eight).sqrt()"
   ]
  },
  {
   "cell_type": "markdown",
   "id": "718cbafd-319b-40e9-9910-85e48408b589",
   "metadata": {},
   "source": [
    "We can see that the image for 4 is nearer to the average 4 compared to average 8, which should be the case."
   ]
  },
  {
   "cell_type": "markdown",
   "id": "b6d3b4b3-a88a-4325-8ac6-ddc970a16d16",
   "metadata": {},
   "source": [
    "## Accuracy of the mean digit on validation set"
   ]
  },
  {
   "cell_type": "markdown",
   "id": "b09de91f-3650-4657-9c91-58a331f39be9",
   "metadata": {},
   "source": [
    "We use the same idea as mentioned above to calculate the accuracy of the mean digit. We have to make sure that we always measure accuracy on a dataset the model has not seen before.\n",
    "\n",
    "We can finally use the validation set to measure the accuracy."
   ]
  },
  {
   "cell_type": "code",
   "execution_count": 55,
   "id": "73fedc5b-53af-411a-aab2-e45e06a8c9d2",
   "metadata": {},
   "outputs": [],
   "source": [
    "four_valid_tensors = [torch.tensor(np.array(Image.open(f))) for f in fours_valid.files]"
   ]
  },
  {
   "cell_type": "code",
   "execution_count": 56,
   "id": "15ee72f5-5ce6-4e42-aac9-7ce1fb0047a0",
   "metadata": {},
   "outputs": [],
   "source": [
    "eight_valid_tensors = [torch.tensor(np.array(Image.open(f))) for f in eights_valid.files]"
   ]
  },
  {
   "cell_type": "code",
   "execution_count": 57,
   "id": "84a9c5fa-bf67-4256-a63e-f9a29887e00d",
   "metadata": {},
   "outputs": [
    {
     "data": {
      "text/plain": [
       "torch.Size([300, 32, 32])"
      ]
     },
     "execution_count": 57,
     "metadata": {},
     "output_type": "execute_result"
    }
   ],
   "source": [
    "stacked_fours_valid = torch.stack(four_valid_tensors).float()/255\n",
    "stacked_fours_valid.shape"
   ]
  },
  {
   "cell_type": "code",
   "execution_count": 58,
   "id": "c597057e-5f43-4888-9a47-a84c026d589d",
   "metadata": {},
   "outputs": [
    {
     "data": {
      "text/plain": [
       "torch.Size([300, 32, 32])"
      ]
     },
     "execution_count": 58,
     "metadata": {},
     "output_type": "execute_result"
    }
   ],
   "source": [
    "stacked_eights_valid = torch.stack(eight_valid_tensors).float()/255\n",
    "stacked_eights_valid.shape"
   ]
  },
  {
   "cell_type": "markdown",
   "id": "5983db3f-c1fc-4a83-b2d4-4a46019f27d9",
   "metadata": {},
   "source": [
    "### Distance measurement"
   ]
  },
  {
   "cell_type": "markdown",
   "id": "e7efbc51-bf64-411e-9f3b-ac30dd1ec139",
   "metadata": {},
   "source": [
    "The validation set has 300 images each, which we convert to tensors.\n",
    "\n",
    "We then measure the distance of each image by \n",
    "- taking the pixelwise difference with the average image (shape 32x32)\n",
    "- getting the absolute of that value (shape 32x32)\n",
    "- getting the mean along the last and second to last axis\n",
    "\n",
    "Pytorch can easily broadcast this between two tensors of different ranks, so we can simply get the distance of the whole stack at once."
   ]
  },
  {
   "cell_type": "code",
   "execution_count": 59,
   "id": "d13bdba6-7da6-4bb6-afef-a89b137ac878",
   "metadata": {},
   "outputs": [],
   "source": [
    "def dhcd_distance(a, b):\n",
    "    return (a - b).abs().mean((-2, -1)) # mean across the second last and the last axis"
   ]
  },
  {
   "cell_type": "code",
   "execution_count": 60,
   "id": "8f46bbdb-78cb-4d8b-90fd-3eea622c9edd",
   "metadata": {},
   "outputs": [
    {
     "data": {
      "text/plain": [
       "tensor(0.2264)"
      ]
     },
     "execution_count": 60,
     "metadata": {},
     "output_type": "execute_result"
    }
   ],
   "source": [
    "dhcd_distance(stacked_fours_valid[3], mean_four)"
   ]
  },
  {
   "cell_type": "code",
   "execution_count": 61,
   "id": "4c3854db-eb67-41f4-9176-2d8f53a0612b",
   "metadata": {},
   "outputs": [
    {
     "data": {
      "text/plain": [
       "torch.Size([300])"
      ]
     },
     "execution_count": 61,
     "metadata": {},
     "output_type": "execute_result"
    }
   ],
   "source": [
    "dhcd_distance(stacked_fours_valid, mean_four).shape"
   ]
  },
  {
   "cell_type": "markdown",
   "id": "43030c18-1add-4f69-83a6-c2e651e6db31",
   "metadata": {},
   "source": [
    "### Classification based on distance"
   ]
  },
  {
   "cell_type": "markdown",
   "id": "9402da38-ef6e-464d-b782-2a3a33ad3c9b",
   "metadata": {},
   "source": [
    "Finally we can define a function to classify whether an image is ४ (4) or not based on the distances to the averge class value"
   ]
  },
  {
   "cell_type": "code",
   "execution_count": 62,
   "id": "30301549-c8c6-4520-b578-b9f42bae075c",
   "metadata": {},
   "outputs": [],
   "source": [
    "def is_4(x):\n",
    "    return dhcd_distance(x, mean_four) < dhcd_distance(x, mean_eight)"
   ]
  },
  {
   "cell_type": "code",
   "execution_count": 63,
   "id": "e2383423-bbd8-4448-8466-506bbfba790d",
   "metadata": {},
   "outputs": [
    {
     "data": {
      "text/plain": [
       "(tensor(True), tensor(1.))"
      ]
     },
     "execution_count": 63,
     "metadata": {},
     "output_type": "execute_result"
    }
   ],
   "source": [
    "is_4(a_4), is_4(a_4).float()"
   ]
  },
  {
   "cell_type": "code",
   "execution_count": 64,
   "id": "0b3dfbed-27f9-46b6-b433-daceda96d795",
   "metadata": {},
   "outputs": [
    {
     "data": {
      "text/plain": [
       "(tensor(False), tensor(0.))"
      ]
     },
     "execution_count": 64,
     "metadata": {},
     "output_type": "execute_result"
    }
   ],
   "source": [
    "is_4(a_8), is_4(a_8).float()"
   ]
  },
  {
   "cell_type": "markdown",
   "id": "289b53ab-040f-4d97-9ce7-0f1a36a00852",
   "metadata": {},
   "source": [
    "As we can see above the classifer does the job well. Now, let's test it on the entire validation set and see how accurate our model is."
   ]
  },
  {
   "cell_type": "code",
   "execution_count": 65,
   "id": "e33e8ade-9ca6-4bb6-9fed-a194fccc5e36",
   "metadata": {},
   "outputs": [
    {
     "data": {
      "text/plain": [
       "torch.Size([300])"
      ]
     },
     "execution_count": 65,
     "metadata": {},
     "output_type": "execute_result"
    }
   ],
   "source": [
    "is_4(stacked_fours_valid).shape"
   ]
  },
  {
   "cell_type": "markdown",
   "id": "93b590e0-54a0-436f-b4cb-fb5ed79eee7e",
   "metadata": {},
   "source": [
    "### Accuracy on the validation set"
   ]
  },
  {
   "cell_type": "code",
   "execution_count": 66,
   "id": "ef329ce7-bc24-45b6-a975-c4f6dfb7f91a",
   "metadata": {},
   "outputs": [
    {
     "data": {
      "text/plain": [
       "(tensor(0.9467), tensor(0.9933), tensor(0.9700))"
      ]
     },
     "execution_count": 66,
     "metadata": {},
     "output_type": "execute_result"
    }
   ],
   "source": [
    "accuracy_fours  =      is_4(stacked_fours_valid).float().mean()\n",
    "accuracy_eights = (1 - is_4(stacked_eights_valid).float()).mean()\n",
    "\n",
    "accuracy_fours, accuracy_eights, (accuracy_fours+accuracy_eights)/2"
   ]
  },
  {
   "cell_type": "markdown",
   "id": "9c52b0f6-8b77-4bad-b152-766b758e2f98",
   "metadata": {},
   "source": [
    "As we can see above, the averaging pixel classifier is not really that bad to get started with."
   ]
  }
 ],
 "metadata": {
  "kernelspec": {
   "display_name": "Python 3 (ipykernel)",
   "language": "python",
   "name": "python3"
  },
  "language_info": {
   "codemirror_mode": {
    "name": "ipython",
    "version": 3
   },
   "file_extension": ".py",
   "mimetype": "text/x-python",
   "name": "python",
   "nbconvert_exporter": "python",
   "pygments_lexer": "ipython3",
   "version": "3.10.4"
  }
 },
 "nbformat": 4,
 "nbformat_minor": 5
}
