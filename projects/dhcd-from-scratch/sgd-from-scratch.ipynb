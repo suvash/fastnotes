{
 "cells": [
  {
   "cell_type": "code",
   "execution_count": 1,
   "id": "4bd53ab2-c3d6-4dcb-8746-7f7552e9f421",
   "metadata": {},
   "outputs": [],
   "source": [
    "%load_ext autoreload\n",
    "%autoreload 2"
   ]
  },
  {
   "cell_type": "code",
   "execution_count": 2,
   "id": "9fb5b1f8-5d85-40c9-bd2c-f303a7869e98",
   "metadata": {},
   "outputs": [],
   "source": [
    "import torch"
   ]
  },
  {
   "cell_type": "code",
   "execution_count": 3,
   "id": "258fc9fd-e2cb-485b-b27f-353098f6fc6f",
   "metadata": {},
   "outputs": [],
   "source": [
    "import matplotlib.pyplot as plt"
   ]
  },
  {
   "cell_type": "markdown",
   "id": "362b4ce2-a284-46dc-b5ec-f1204d5d1ad1",
   "metadata": {},
   "source": [
    "Random data we want to fit"
   ]
  },
  {
   "cell_type": "code",
   "execution_count": 4,
   "id": "4fefcd21-0152-4438-a4a0-9a49767f4472",
   "metadata": {},
   "outputs": [],
   "source": [
    "seconds = 20"
   ]
  },
  {
   "cell_type": "code",
   "execution_count": 5,
   "id": "a9867660-a57a-4101-96dd-72b52825c6d1",
   "metadata": {},
   "outputs": [],
   "source": [
    "time = torch.arange(0, seconds)"
   ]
  },
  {
   "cell_type": "code",
   "execution_count": 6,
   "id": "6b3c126f-0f4e-4996-9446-1136e4c99ce3",
   "metadata": {},
   "outputs": [],
   "source": [
    "speed = torch.randn(seconds)*3 + 0.75*(time-9.5)**2 + 1"
   ]
  },
  {
   "cell_type": "code",
   "execution_count": 7,
   "id": "593fbd89-d300-4693-8a4f-dd3cf27ffd81",
   "metadata": {},
   "outputs": [
    {
     "data": {
      "text/plain": [
       "<matplotlib.collections.PathCollection at 0x7f7f54a92290>"
      ]
     },
     "execution_count": 7,
     "metadata": {},
     "output_type": "execute_result"
    },
    {
     "data": {
      "image/png": "[encoded data removed]",
      "text/plain": [
       "<Figure size 432x288 with 1 Axes>"
      ]
     },
     "metadata": {
      "needs_background": "light"
     },
     "output_type": "display_data"
    }
   ],
   "source": [
    "plt.scatter(time, speed)"
   ]
  },
  {
   "cell_type": "markdown",
   "id": "31b863e7-0c06-43ce-9439-bf13acbf1d28",
   "metadata": {},
   "source": [
    "Function we want to fit : a quadratic function so we can get back the => speed = function(time)"
   ]
  },
  {
   "cell_type": "code",
   "execution_count": 8,
   "id": "003447a8-e4d5-47b4-aa20-f13e460af557",
   "metadata": {},
   "outputs": [],
   "source": [
    "def f(t, params):\n",
    "    a,b,c = params\n",
    "    return a*(t**2) + (b*t) + c"
   ]
  },
  {
   "cell_type": "markdown",
   "id": "b2015ef7-49cb-46d9-8ef1-b6473d2621be",
   "metadata": {},
   "source": [
    "Loss function"
   ]
  },
  {
   "cell_type": "code",
   "execution_count": 9,
   "id": "36facfa6-5333-4051-8e58-af785c44707a",
   "metadata": {},
   "outputs": [],
   "source": [
    "def mse(preds, targets): return ((preds-targets)**2).mean()"
   ]
  },
  {
   "cell_type": "markdown",
   "id": "0febac66-a8cf-45c2-8c1b-a0b9a924fa9c",
   "metadata": {},
   "source": [
    "Step 1. Initalise parameters"
   ]
  },
  {
   "cell_type": "code",
   "execution_count": 10,
   "id": "4fe5ab8c-bccc-4d0e-bde8-205e5fba9f13",
   "metadata": {},
   "outputs": [],
   "source": [
    "no_params = 3 # because a,b,c"
   ]
  },
  {
   "cell_type": "code",
   "execution_count": 11,
   "id": "e0d70c1e-6c9d-4e04-bcad-2ded59ae5afe",
   "metadata": {},
   "outputs": [
    {
     "data": {
      "text/plain": [
       "tensor([ 0.0403, -0.7959, -0.2067], requires_grad=True)"
      ]
     },
     "execution_count": 11,
     "metadata": {},
     "output_type": "execute_result"
    }
   ],
   "source": [
    "params = torch.randn(no_params).requires_grad_()\n",
    "params"
   ]
  },
  {
   "cell_type": "code",
   "execution_count": 12,
   "id": "c005cc5c-9886-47a1-9591-05698727a5f5",
   "metadata": {},
   "outputs": [
    {
     "data": {
      "text/plain": [
       "tensor([ 0.0403, -0.7959, -0.2067])"
      ]
     },
     "execution_count": 12,
     "metadata": {},
     "output_type": "execute_result"
    }
   ],
   "source": [
    "params.data"
   ]
  },
  {
   "cell_type": "code",
   "execution_count": 13,
   "id": "e398cc1f-2526-463f-bd8c-939861888f33",
   "metadata": {},
   "outputs": [],
   "source": [
    "params.grad # no gradients yet"
   ]
  },
  {
   "cell_type": "markdown",
   "id": "9dd3333c-4776-44c8-9b46-5a073d70af9c",
   "metadata": {},
   "source": [
    "Step 2. Get predictions"
   ]
  },
  {
   "cell_type": "code",
   "execution_count": 14,
   "id": "a321ddf1-90e6-449d-a6d0-b4ac4fc6bc80",
   "metadata": {},
   "outputs": [],
   "source": [
    "preds = f(time, params)"
   ]
  },
  {
   "cell_type": "code",
   "execution_count": 15,
   "id": "e4ad88ec-7a2a-4479-9a82-24007684d62b",
   "metadata": {},
   "outputs": [
    {
     "data": {
      "text/plain": [
       "torch.Size([20])"
      ]
     },
     "execution_count": 15,
     "metadata": {},
     "output_type": "execute_result"
    }
   ],
   "source": [
    "preds.shape"
   ]
  },
  {
   "cell_type": "code",
   "execution_count": 16,
   "id": "6ab7fa2f-4c41-4435-92ce-0adce5e6a95e",
   "metadata": {},
   "outputs": [],
   "source": [
    "def show_preds(preds, time, speed):\n",
    "    ax=plt.subplots()[1]\n",
    "    ax.scatter(time, speed)\n",
    "    ax.scatter(time, preds.detach().numpy(), color='red')\n",
    "    ax.set_ylim(-200,100)"
   ]
  },
  {
   "cell_type": "code",
   "execution_count": 17,
   "id": "d3dbc380-d639-469b-b164-ccf30955ca35",
   "metadata": {},
   "outputs": [
    {
     "data": {
      "image/png": "[encoded data removed]",
      "text/plain": [
       "<Figure size 432x288 with 1 Axes>"
      ]
     },
     "metadata": {
      "needs_background": "light"
     },
     "output_type": "display_data"
    }
   ],
   "source": [
    "show_preds(preds, time, speed)"
   ]
  },
  {
   "cell_type": "markdown",
   "id": "125851ec-d9e3-4a50-bfa9-24a3778f2c02",
   "metadata": {},
   "source": [
    "Step 3. Calculate Loss"
   ]
  },
  {
   "cell_type": "code",
   "execution_count": 18,
   "id": "756ef8f4-cda1-41ed-82d4-8ffbf734d799",
   "metadata": {},
   "outputs": [
    {
     "data": {
      "text/plain": [
       "tensor(1231.0374, grad_fn=<MeanBackward0>)"
      ]
     },
     "execution_count": 18,
     "metadata": {},
     "output_type": "execute_result"
    }
   ],
   "source": [
    "loss = mse(preds, speed)\n",
    "loss"
   ]
  },
  {
   "cell_type": "markdown",
   "id": "86d34e63-6e57-4330-90a5-0966c0850e5f",
   "metadata": {},
   "source": [
    "Step 4. Calculate gradients"
   ]
  },
  {
   "cell_type": "code",
   "execution_count": 19,
   "id": "fd2fe5a7-9d5c-43d4-8528-1312ea943e54",
   "metadata": {},
   "outputs": [
    {
     "data": {
      "text/plain": [
       "tensor([ 0.0403, -0.7959, -0.2067])"
      ]
     },
     "execution_count": 19,
     "metadata": {},
     "output_type": "execute_result"
    }
   ],
   "source": [
    "params.data"
   ]
  },
  {
   "cell_type": "markdown",
   "id": "f4f2f7b4-4c6c-44b4-8a53-b6e6c1c6f9b2",
   "metadata": {},
   "source": [
    "should be no gradients yet"
   ]
  },
  {
   "cell_type": "code",
   "execution_count": 20,
   "id": "cd10b60b-eebe-44c6-9872-7ae0f63e26c8",
   "metadata": {},
   "outputs": [],
   "source": [
    "params.grad # no gradients yet"
   ]
  },
  {
   "cell_type": "code",
   "execution_count": 21,
   "id": "451b2c02-8e76-41eb-8aad-58c54ae0f06f",
   "metadata": {},
   "outputs": [],
   "source": [
    "loss.backward() # this does a backprop and updates the gradients for all pytorch vars that requires grads involved in calculating loss"
   ]
  },
  {
   "cell_type": "code",
   "execution_count": 22,
   "id": "78eccde8-1fdb-49c9-a4dc-c5b529c813da",
   "metadata": {},
   "outputs": [
    {
     "data": {
      "text/plain": [
       "tensor([-8320.9023,  -550.1086,   -57.7930])"
      ]
     },
     "execution_count": 22,
     "metadata": {},
     "output_type": "execute_result"
    }
   ],
   "source": [
    "params.grad # now we have gradients"
   ]
  },
  {
   "cell_type": "markdown",
   "id": "75cd63de-7132-4ebc-bc1c-eb74c8b39458",
   "metadata": {},
   "source": [
    "Step 5. Update/Step the weights"
   ]
  },
  {
   "cell_type": "code",
   "execution_count": 23,
   "id": "5dd8bb6f-bc2b-4302-985f-38cb54c9dbe7",
   "metadata": {},
   "outputs": [],
   "source": [
    "lr = 1e-5"
   ]
  },
  {
   "cell_type": "code",
   "execution_count": 24,
   "id": "efc8eeb6-c31d-494d-a8fb-5bc409ff56e1",
   "metadata": {},
   "outputs": [],
   "source": [
    "params.data -= lr * params.grad.data"
   ]
  },
  {
   "cell_type": "code",
   "execution_count": 25,
   "id": "8e72134b-df7a-4d16-a220-2a78990d9336",
   "metadata": {},
   "outputs": [],
   "source": [
    "params.grad = None # empty the gradients for the next round, else it will accumulate over time"
   ]
  },
  {
   "cell_type": "code",
   "execution_count": null,
   "id": "99b4591d-fbeb-4618-b108-ccc7673af3c1",
   "metadata": {},
   "outputs": [],
   "source": []
  },
  {
   "cell_type": "code",
   "execution_count": 26,
   "id": "f9ef9260-1236-48f7-8a74-eda3d669b979",
   "metadata": {},
   "outputs": [],
   "source": [
    "preds = f(time, params)"
   ]
  },
  {
   "cell_type": "code",
   "execution_count": 27,
   "id": "c306fd1e-3e12-4755-923a-63602e7a9b66",
   "metadata": {},
   "outputs": [
    {
     "data": {
      "image/png": "[encoded data removed]",
      "text/plain": [
       "<Figure size 432x288 with 1 Axes>"
      ]
     },
     "metadata": {
      "needs_background": "light"
     },
     "output_type": "display_data"
    }
   ],
   "source": [
    "show_preds(preds, time, speed)"
   ]
  },
  {
   "cell_type": "markdown",
   "id": "351d346b-984e-4e32-84ba-62759543ab85",
   "metadata": {},
   "source": [
    "Step 6. Repeat the process"
   ]
  },
  {
   "cell_type": "code",
   "execution_count": 28,
   "id": "289048a6-ccc3-450a-a47e-1bdf447f7cf4",
   "metadata": {},
   "outputs": [],
   "source": [
    "def step(params, lr, time, speed):\n",
    "    preds = f(time, params)\n",
    "    loss = mse(preds, speed)\n",
    "    loss.backward()\n",
    "    params.data -= lr * params.grad.data\n",
    "    params.grad = None\n",
    "    #print(loss.item())\n",
    "    show_preds(preds, time, speed)"
   ]
  },
  {
   "cell_type": "code",
   "execution_count": 29,
   "id": "65214a2b-2fc1-4e49-a711-b69a582b1453",
   "metadata": {},
   "outputs": [
    {
     "data": {
      "image/png": "[encoded data removed]",
      "text/plain": [
       "<Figure size 432x288 with 1 Axes>"
      ]
     },
     "metadata": {
      "needs_background": "light"
     },
     "output_type": "display_data"
    },
    {
     "data": {
      "image/png": "[encoded data removed]",
      "text/plain": [
       "<Figure size 432x288 with 1 Axes>"
      ]
     },
     "metadata": {
      "needs_background": "light"
     },
     "output_type": "display_data"
    },
    {
     "data": {
      "image/png": "[encoded data removed]",
      "text/plain": [
       "<Figure size 432x288 with 1 Axes>"
      ]
     },
     "metadata": {
      "needs_background": "light"
     },
     "output_type": "display_data"
    },
    {
     "data": {
      "image/png": "[encoded data removed]",
      "text/plain": [
       "<Figure size 432x288 with 1 Axes>"
      ]
     },
     "metadata": {
      "needs_background": "light"
     },
     "output_type": "display_data"
    },
    {
     "data": {
      "image/png": "[encoded data removed]",
      "text/plain": [
       "<Figure size 432x288 with 1 Axes>"
      ]
     },
     "metadata": {
      "needs_background": "light"
     },
     "output_type": "display_data"
    },
    {
     "data": {
      "image/png": "[encoded data removed]",
      "text/plain": [
       "<Figure size 432x288 with 1 Axes>"
      ]
     },
     "metadata": {
      "needs_background": "light"
     },
     "output_type": "display_data"
    },
    {
     "data": {
      "image/png": "[encoded data removed]",
      "text/plain": [
       "<Figure size 432x288 with 1 Axes>"
      ]
     },
     "metadata": {
      "needs_background": "light"
     },
     "output_type": "display_data"
    },
    {
     "data": {
      "image/png": "[encoded data removed]",
      "text/plain": [
       "<Figure size 432x288 with 1 Axes>"
      ]
     },
     "metadata": {
      "needs_background": "light"
     },
     "output_type": "display_data"
    },
    {
     "data": {
      "image/png": "[encoded data removed]",
      "text/plain": [
       "<Figure size 432x288 with 1 Axes>"
      ]
     },
     "metadata": {
      "needs_background": "light"
     },
     "output_type": "display_data"
    },
    {
     "data": {
      "image/png": "[encoded data removed]",
      "text/plain": [
       "<Figure size 432x288 with 1 Axes>"
      ]
     },
     "metadata": {
      "needs_background": "light"
     },
     "output_type": "display_data"
    }
   ],
   "source": [
    "for i in range(10):\n",
    "    step(params, lr, time, speed)"
   ]
  },
  {
   "cell_type": "code",
   "execution_count": null,
   "id": "ee456afc-069d-4bab-9cf1-f88702cf4100",
   "metadata": {},
   "outputs": [],
   "source": []
  }
 ],
 "metadata": {
  "kernelspec": {
   "display_name": "Python 3 (ipykernel)",
   "language": "python",
   "name": "python3"
  },
  "language_info": {
   "codemirror_mode": {
    "name": "ipython",
    "version": 3
   },
   "file_extension": ".py",
   "mimetype": "text/x-python",
   "name": "python",
   "nbconvert_exporter": "python",
   "pygments_lexer": "ipython3",
   "version": "3.10.4"
  }
 },
 "nbformat": 4,
 "nbformat_minor": 5
}
