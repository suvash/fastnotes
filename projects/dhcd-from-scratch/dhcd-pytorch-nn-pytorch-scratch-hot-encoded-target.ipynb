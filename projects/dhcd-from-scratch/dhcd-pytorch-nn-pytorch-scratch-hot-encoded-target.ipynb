{
 "cells": [
  {
   "cell_type": "code",
   "execution_count": 1,
   "id": "0e2f2f26-8a4a-4db0-8ea9-610d734e5012",
   "metadata": {},
   "outputs": [],
   "source": [
    "%load_ext autoreload\n",
    "%autoreload 2"
   ]
  },
  {
   "cell_type": "code",
   "execution_count": 2,
   "id": "2ea07628-4c36-4477-8c3d-6acf275407b9",
   "metadata": {},
   "outputs": [],
   "source": [
    "import os\n",
    "from pathlib import Path"
   ]
  },
  {
   "cell_type": "code",
   "execution_count": 3,
   "id": "33d457ec-2f3b-479e-965b-1a4a82197c6a",
   "metadata": {},
   "outputs": [],
   "source": [
    "import utils as U"
   ]
  },
  {
   "cell_type": "code",
   "execution_count": null,
   "id": "27520dfe-6c6d-42fc-b1e9-6d346544ba69",
   "metadata": {},
   "outputs": [],
   "source": []
  },
  {
   "cell_type": "code",
   "execution_count": 4,
   "id": "05804d2f-9c62-42f4-b0d2-a2feaa4ab11f",
   "metadata": {},
   "outputs": [
    {
     "data": {
      "text/plain": [
       "PosixPath('/datasets')"
      ]
     },
     "execution_count": 4,
     "metadata": {},
     "output_type": "execute_result"
    }
   ],
   "source": [
    "DATASETS_DIR = Path(os.environ.get('DATASETS_DIR', '.'))\n",
    "DATASETS_DIR"
   ]
  },
  {
   "cell_type": "code",
   "execution_count": 5,
   "id": "29a1ae34-d815-47e2-b9b6-d3e43411e704",
   "metadata": {},
   "outputs": [
    {
     "data": {
      "text/plain": [
       "Files: (0) | Folders: (2)"
      ]
     },
     "execution_count": 5,
     "metadata": {},
     "output_type": "execute_result"
    }
   ],
   "source": [
    "U.list_contents(DATASETS_DIR/'DHCD')"
   ]
  },
  {
   "cell_type": "code",
   "execution_count": 6,
   "id": "1e9bf922-cb78-48cc-bad5-64bab1c8aee7",
   "metadata": {},
   "outputs": [
    {
     "data": {
      "text/plain": [
       "[PosixPath('/datasets/DHCD/Train'), PosixPath('/datasets/DHCD/Test')]"
      ]
     },
     "execution_count": 6,
     "metadata": {},
     "output_type": "execute_result"
    }
   ],
   "source": [
    "U.list_contents(DATASETS_DIR/'DHCD').folders"
   ]
  },
  {
   "cell_type": "code",
   "execution_count": 7,
   "id": "4dc63225-9bce-4760-be1c-2585b3a69b5a",
   "metadata": {},
   "outputs": [
    {
     "data": {
      "text/plain": [
       "Files: (0) | Folders: (46)"
      ]
     },
     "execution_count": 7,
     "metadata": {},
     "output_type": "execute_result"
    }
   ],
   "source": [
    "U.list_contents(DATASETS_DIR/'DHCD'/'Train')"
   ]
  },
  {
   "cell_type": "code",
   "execution_count": 8,
   "id": "2bf828be-30e7-42b0-9cc1-8a8700fe5b1c",
   "metadata": {},
   "outputs": [
    {
     "data": {
      "text/plain": [
       "Files: (0) | Folders: (46)"
      ]
     },
     "execution_count": 8,
     "metadata": {},
     "output_type": "execute_result"
    }
   ],
   "source": [
    "U.list_contents(DATASETS_DIR/'DHCD'/'Test')"
   ]
  },
  {
   "cell_type": "code",
   "execution_count": 9,
   "id": "502e017f-2958-4094-aa92-d43d797c7146",
   "metadata": {},
   "outputs": [
    {
     "data": {
      "text/plain": [
       "[PosixPath('/datasets/DHCD/Train/character_29_waw'),\n",
       " PosixPath('/datasets/DHCD/Train/character_19_dha'),\n",
       " PosixPath('/datasets/DHCD/Train/character_2_kha'),\n",
       " PosixPath('/datasets/DHCD/Train/character_14_dhaa'),\n",
       " PosixPath('/datasets/DHCD/Train/digit_8')]"
      ]
     },
     "execution_count": 9,
     "metadata": {},
     "output_type": "execute_result"
    }
   ],
   "source": [
    "U.list_contents(DATASETS_DIR/'DHCD'/'Train').folders[:5]"
   ]
  },
  {
   "cell_type": "code",
   "execution_count": 10,
   "id": "30f90233-1b99-498d-b85d-5017d1c25db4",
   "metadata": {},
   "outputs": [
    {
     "data": {
      "text/plain": [
       "[PosixPath('/datasets/DHCD/Test/character_29_waw'),\n",
       " PosixPath('/datasets/DHCD/Test/character_19_dha'),\n",
       " PosixPath('/datasets/DHCD/Test/character_2_kha'),\n",
       " PosixPath('/datasets/DHCD/Test/character_14_dhaa'),\n",
       " PosixPath('/datasets/DHCD/Test/digit_8')]"
      ]
     },
     "execution_count": 10,
     "metadata": {},
     "output_type": "execute_result"
    }
   ],
   "source": [
    "U.list_contents(DATASETS_DIR/'DHCD'/'Test').folders[:5]"
   ]
  },
  {
   "cell_type": "code",
   "execution_count": null,
   "id": "872744a2-aa40-45a2-9a2c-43a788869bca",
   "metadata": {},
   "outputs": [],
   "source": []
  },
  {
   "cell_type": "code",
   "execution_count": null,
   "id": "2ab510be-a694-4b34-a855-db765aab500a",
   "metadata": {},
   "outputs": [],
   "source": []
  },
  {
   "cell_type": "code",
   "execution_count": null,
   "id": "c790bbbb-f341-4e75-971d-2a2972bab608",
   "metadata": {},
   "outputs": [],
   "source": []
  },
  {
   "cell_type": "code",
   "execution_count": 11,
   "id": "0c0aaffa-6ed3-4106-8a31-d4df3b8ea01a",
   "metadata": {},
   "outputs": [],
   "source": [
    "import numpy as np\n",
    "import torch\n",
    "import random"
   ]
  },
  {
   "cell_type": "code",
   "execution_count": 12,
   "id": "f5fe0207-44aa-4123-8fb0-7e597d0b1268",
   "metadata": {},
   "outputs": [],
   "source": [
    "RANDOM_SEED = 817\n",
    "\n",
    "torch.manual_seed(RANDOM_SEED)\n",
    "random.seed(RANDOM_SEED)\n",
    "np.random.seed(RANDOM_SEED)"
   ]
  },
  {
   "cell_type": "code",
   "execution_count": 13,
   "id": "7e835598-727a-43b9-837e-8dbbdf87122d",
   "metadata": {},
   "outputs": [
    {
     "data": {
      "text/plain": [
       "(True, 1)"
      ]
     },
     "execution_count": 13,
     "metadata": {},
     "output_type": "execute_result"
    }
   ],
   "source": [
    "torch.cuda.is_available(), torch.cuda.device_count()"
   ]
  },
  {
   "cell_type": "code",
   "execution_count": 14,
   "id": "c76f0879-5138-40b8-bd5d-c43f35712914",
   "metadata": {},
   "outputs": [
    {
     "data": {
      "text/plain": [
       "device(type='cuda')"
      ]
     },
     "execution_count": 14,
     "metadata": {},
     "output_type": "execute_result"
    }
   ],
   "source": [
    "DEVICE = 'cuda' if torch.cuda.is_available() else 'cpu'\n",
    "DEVICE = torch.device(DEVICE)\n",
    "DEVICE"
   ]
  },
  {
   "cell_type": "code",
   "execution_count": null,
   "id": "e72857aa-73d7-472d-8412-15ac67ac5ad1",
   "metadata": {},
   "outputs": [],
   "source": []
  },
  {
   "cell_type": "code",
   "execution_count": 15,
   "id": "1abda54e-b207-48c0-879e-1b4b665d5a02",
   "metadata": {},
   "outputs": [],
   "source": [
    "from torch.utils.data import Dataset\n",
    "\n",
    "from PIL import Image"
   ]
  },
  {
   "cell_type": "code",
   "execution_count": 16,
   "id": "fedfea31-aaf8-4e8b-bba9-4b4a3288e0a0",
   "metadata": {},
   "outputs": [],
   "source": [
    "class DHCDDataset(Dataset):\n",
    "    \n",
    "    LABELS = [ \n",
    "        'digit_0',                   'digit_1',                'digit_2',             'digit_3',               'digit_4',\n",
    "        'digit_5',                   'digit_6',                'digit_7',             'digit_8',               'digit_9',\n",
    "        'character_1_ka',            'character_2_kha',        'character_3_ga',      'character_4_gha',       'character_5_kna',\n",
    "        'character_6_cha',           'character_7_chha',       'character_8_ja',      'character_9_jha',       'character_10_yna',\n",
    "        'character_11_taamatar',     'character_12_thaa',      'character_13_daa',    'character_14_dhaa',     'character_15_adna',\n",
    "        'character_16_tabala',       'character_17_tha',       'character_18_da',     'character_19_dha',      'character_20_na',\n",
    "        'character_21_pa',           'character_22_pha',       'character_23_ba',     'character_24_bha',      'character_25_ma',\n",
    "        'character_26_yaw',          'character_27_ra',        'character_28_la',     'character_29_waw',      'character_30_motosaw',\n",
    "        'character_31_petchiryakha', 'character_32_patalosaw', 'character_33_ha',     'character_34_chhya',    'character_35_tra',\n",
    "        'character_36_gya'\n",
    "    ]\n",
    "    LABELS_TO_IDX = {label: i for i, label in enumerate(LABELS)}\n",
    "\n",
    "    LABELS_DV = [ \n",
    "        '०', '१', '२', '३', '४', \n",
    "        '५', '६', '७', '८', '९',\n",
    "        'क', 'ख', 'ग', 'घ', 'ङ',\n",
    "        'च', 'छ', 'ज', 'झ', 'ञ',\n",
    "        'ट', 'ठ', 'ड', 'ढ', 'ण',\n",
    "        'त', 'थ', 'द', 'ध', 'न',\n",
    "        'प', 'फ', 'ब', 'भ', 'म',\n",
    "        'य', 'र', 'ल', 'व', 'श',\n",
    "        'ष', 'स', 'ह', 'क्ष', 'त्र',\n",
    "        'ज्ञ'\n",
    "    ]\n",
    "\n",
    "    def __init__(self, img_dir, transform=None, target_transform=None):\n",
    "        self.img_dir = img_dir\n",
    "        self.transform = transform\n",
    "        self.target_transform = target_transform\n",
    "        self.data = self.__load_data()\n",
    "    \n",
    "    def __len__(self):\n",
    "        return len(self.data)\n",
    "    \n",
    "    def __getitem__(self, idx):\n",
    "        img_path, label= self.data[idx]\n",
    "        target = self.label_to_idx(label)\n",
    "        img = Image.open(img_path)\n",
    "        \n",
    "        if self.transform is not None:\n",
    "            img = self.transform(img)\n",
    "\n",
    "        if self.target_transform is not None:\n",
    "            target = self.target_transform(target)\n",
    "            \n",
    "        return img, target\n",
    "    \n",
    "    def __load_data(self):\n",
    "        return [(p.as_posix(), p.parent.name) \n",
    "                for p in self.img_dir.rglob('*.png')]\n",
    "\n",
    "    def label_to_idx(self, label):\n",
    "        return self.LABELS_TO_IDX[label]\n",
    "    \n",
    "    def idx_to_label(self, idx):\n",
    "        return self.idx_to_labels(idx)[\"label\"]\n",
    "\n",
    "    def idx_to_labels(self, idx):\n",
    "        return {\n",
    "            \"label\": self.LABELS[idx],\n",
    "            \"label_dv\": self.LABELS_DV[idx],\n",
    "        }"
   ]
  },
  {
   "cell_type": "code",
   "execution_count": 17,
   "id": "6642b75a-88c7-4b98-8b8e-ffbab13cbabd",
   "metadata": {},
   "outputs": [],
   "source": [
    "from torchvision import transforms"
   ]
  },
  {
   "cell_type": "code",
   "execution_count": 18,
   "id": "c27b6db3-497a-41e8-8f6e-1ed674778cd1",
   "metadata": {},
   "outputs": [],
   "source": [
    "train_data_path = DATASETS_DIR/'DHCD'/'Train'\n",
    "valid_data_path = DATASETS_DIR/'DHCD'/'Test'"
   ]
  },
  {
   "cell_type": "code",
   "execution_count": 19,
   "id": "623ffb4b-0431-43c3-93f9-b6a9e9d034dd",
   "metadata": {},
   "outputs": [],
   "source": [
    "transform = transforms.Compose(\n",
    "    [transforms.ToTensor()]\n",
    ")\n",
    "\n",
    "target_transform = transforms.Compose(\n",
    "    [transforms.Lambda(lambda y: torch.zeros(46, dtype=torch.float).scatter_(dim=0, index=torch.tensor(y), value=1))]\n",
    ")\n",
    "\n",
    "train_ds = DHCDDataset(img_dir=train_data_path, transform=transform, target_transform=target_transform)\n",
    "valid_ds = DHCDDataset(img_dir=valid_data_path, transform=transform, target_transform=target_transform)"
   ]
  },
  {
   "cell_type": "code",
   "execution_count": 20,
   "id": "322e25cd-dbbb-459e-b3a4-d11232ad22c5",
   "metadata": {},
   "outputs": [
    {
     "data": {
      "text/plain": [
       "(torch.Size([1, 32, 32]), torch.Size([46]))"
      ]
     },
     "execution_count": 20,
     "metadata": {},
     "output_type": "execute_result"
    }
   ],
   "source": [
    "x, y = train_ds[45]\n",
    "x.shape, y.shape"
   ]
  },
  {
   "cell_type": "code",
   "execution_count": 21,
   "id": "6f1c5b30-adc6-4fb6-823b-3dc8f938d6ac",
   "metadata": {},
   "outputs": [],
   "source": [
    "import matplotlib.pyplot as plt"
   ]
  },
  {
   "cell_type": "code",
   "execution_count": 22,
   "id": "ae059aa8-510e-4d29-8087-6d457dd3339a",
   "metadata": {},
   "outputs": [],
   "source": [
    "def rand_show_dataset(dataset, rows=3, cols=7, size=3):\n",
    "    fig = plt.figure(figsize=(cols*size, rows*size))\n",
    "    for i in range(1, rows * cols + 1):\n",
    "        idx = torch.randint(len(dataset), size=(1,)).item()\n",
    "        img_t, target = dataset[idx]\n",
    "        label_idx = torch.argmax(target)\n",
    "        label = dataset.idx_to_label(label_idx)\n",
    "        fig.add_subplot(rows, cols, i)\n",
    "        plt.title(label)\n",
    "        plt.axis(\"off\")\n",
    "        plt.imshow(img_t.squeeze(), cmap=\"gray\")\n",
    "\n",
    "    plt.show()"
   ]
  },
  {
   "cell_type": "code",
   "execution_count": 23,
   "id": "ac68438b-f57c-4bf0-8b8e-5f26251e2d9c",
   "metadata": {},
   "outputs": [
    {
     "data": {
      "image/png": "[encoded data removed]",
      "text/plain": [
       "<Figure size 1512x648 with 21 Axes>"
      ]
     },
     "metadata": {
      "needs_background": "light"
     },
     "output_type": "display_data"
    }
   ],
   "source": [
    "rand_show_dataset(train_ds)"
   ]
  },
  {
   "cell_type": "code",
   "execution_count": 24,
   "id": "cd7deb38-1d2d-48d7-a97a-6a0eab504958",
   "metadata": {},
   "outputs": [
    {
     "data": {
      "image/png": "[encoded data removed]",
      "text/plain": [
       "<Figure size 1512x648 with 21 Axes>"
      ]
     },
     "metadata": {
      "needs_background": "light"
     },
     "output_type": "display_data"
    }
   ],
   "source": [
    "rand_show_dataset(valid_ds)"
   ]
  },
  {
   "cell_type": "code",
   "execution_count": 25,
   "id": "8fcc8179-48b6-4869-bb39-935afa7c7127",
   "metadata": {},
   "outputs": [],
   "source": [
    "from torch.utils.data import DataLoader"
   ]
  },
  {
   "cell_type": "code",
   "execution_count": 26,
   "id": "d0e88c14-be51-456b-8b8b-eed19a40aeff",
   "metadata": {},
   "outputs": [],
   "source": [
    "dl_kwargs = {\n",
    "    'batch_size': 3910,\n",
    "    'shuffle': True\n",
    "}\n",
    "\n",
    "train_dl = DataLoader(train_ds, **dl_kwargs)\n",
    "valid_dl = DataLoader(valid_ds, **dl_kwargs)"
   ]
  },
  {
   "cell_type": "code",
   "execution_count": 27,
   "id": "2f485bcb-530f-4dce-9916-b5f5aaffdbac",
   "metadata": {},
   "outputs": [],
   "source": [
    "def show_first_batch_info(dl):\n",
    "    imgs, targets = next(iter(dl))\n",
    "    print(f\"Images batch shape: {imgs.size()}\")\n",
    "    print(f\"Labels batch shape: {targets.size()}\")\n",
    "\n",
    "    print(\"First image & label in the batch\")\n",
    "    img = imgs[0].squeeze()\n",
    "    label_idx = torch.argmax(targets[0])\n",
    "    labels = dl.dataset.idx_to_labels(label_idx)\n",
    "    plt.imshow(img, cmap=\"gray\")\n",
    "    plt.title(f'Label : {labels[\"label\"]}')\n",
    "    plt.axis(\"off\")\n",
    "    plt.show()\n",
    "    print(f\"{labels['label_dv']} | {labels['label']}\")"
   ]
  },
  {
   "cell_type": "code",
   "execution_count": 28,
   "id": "89761288-8d3d-46b3-a478-c6e4243e865c",
   "metadata": {
    "tags": []
   },
   "outputs": [
    {
     "name": "stdout",
     "output_type": "stream",
     "text": [
      "Images batch shape: torch.Size([3910, 1, 32, 32])\n",
      "Labels batch shape: torch.Size([3910, 46])\n",
      "First image & label in the batch\n"
     ]
    },
    {
     "data": {
      "image/png": "[encoded data removed]",
      "text/plain": [
       "<Figure size 432x288 with 1 Axes>"
      ]
     },
     "metadata": {
      "needs_background": "light"
     },
     "output_type": "display_data"
    },
    {
     "name": "stdout",
     "output_type": "stream",
     "text": [
      "५ | digit_5\n"
     ]
    }
   ],
   "source": [
    "show_first_batch_info(train_dl)"
   ]
  },
  {
   "cell_type": "code",
   "execution_count": 29,
   "id": "db876782-32cf-48f7-b39b-db6d32ff10e4",
   "metadata": {},
   "outputs": [
    {
     "name": "stdout",
     "output_type": "stream",
     "text": [
      "Images batch shape: torch.Size([3910, 1, 32, 32])\n",
      "Labels batch shape: torch.Size([3910, 46])\n",
      "First image & label in the batch\n"
     ]
    },
    {
     "data": {
      "image/png": "[encoded data removed]",
      "text/plain": [
       "<Figure size 432x288 with 1 Axes>"
      ]
     },
     "metadata": {
      "needs_background": "light"
     },
     "output_type": "display_data"
    },
    {
     "name": "stdout",
     "output_type": "stream",
     "text": [
      "झ | character_9_jha\n"
     ]
    }
   ],
   "source": [
    "show_first_batch_info(valid_dl)"
   ]
  },
  {
   "cell_type": "code",
   "execution_count": null,
   "id": "dc6e243e-c5ac-4961-9dd8-13be14c1da30",
   "metadata": {},
   "outputs": [],
   "source": []
  },
  {
   "cell_type": "code",
   "execution_count": null,
   "id": "7bee155c-a95a-44ba-8ac3-f4a30245e94d",
   "metadata": {},
   "outputs": [],
   "source": []
  },
  {
   "cell_type": "code",
   "execution_count": null,
   "id": "a3a83ab9-e130-40a1-8682-bae62b3bae23",
   "metadata": {},
   "outputs": [],
   "source": []
  },
  {
   "cell_type": "code",
   "execution_count": 30,
   "id": "8e64a318-66f0-4aa4-ad17-db5ee11cbcc6",
   "metadata": {},
   "outputs": [],
   "source": [
    "import torch.nn as nn\n",
    "import torch.nn.functional as F"
   ]
  },
  {
   "cell_type": "code",
   "execution_count": 31,
   "id": "261c1e33-2d55-41bd-85fd-ac368705c52d",
   "metadata": {},
   "outputs": [],
   "source": [
    "class DHCDNet(nn.Module):\n",
    "    def __init__(self):\n",
    "        super().__init__()\n",
    "        self.flatten = nn.Flatten() # 32x32 -> 1024\n",
    "        self.l1 = nn.Linear(32 * 32, 512)\n",
    "        self.l2 = nn.Linear(512, 92)\n",
    "        self.l3 = nn.Linear(92, 46)\n",
    "        \n",
    "    def forward(self, x):\n",
    "        x = self.flatten(x)\n",
    "        x = self.l1(x)\n",
    "        x = F.relu(x)\n",
    "        x = self.l2(x)\n",
    "        x = F.relu(x)\n",
    "        logits = self.l3(x)\n",
    "        \n",
    "        return logits"
   ]
  },
  {
   "cell_type": "code",
   "execution_count": 32,
   "id": "2c250346-5654-46eb-9532-100cb6c9a3dc",
   "metadata": {},
   "outputs": [
    {
     "name": "stdout",
     "output_type": "stream",
     "text": [
      "Layer: l1.weight  \t Size: torch.Size([512, 1024])\n",
      "Layer: l1.bias  \t Size: torch.Size([512])\n",
      "Layer: l2.weight  \t Size: torch.Size([92, 512])\n",
      "Layer: l2.bias  \t Size: torch.Size([92])\n",
      "Layer: l3.weight  \t Size: torch.Size([46, 92])\n",
      "Layer: l3.bias  \t Size: torch.Size([46])\n"
     ]
    }
   ],
   "source": [
    "for name, param in DHCDNet().named_parameters():\n",
    "    print(f\"Layer: {name}  \\t Size: {param.size()}\")"
   ]
  },
  {
   "cell_type": "code",
   "execution_count": null,
   "id": "deafef75-529b-4fac-ae38-9aeb475f0821",
   "metadata": {},
   "outputs": [],
   "source": []
  },
  {
   "cell_type": "code",
   "execution_count": null,
   "id": "b9aa7842-88af-4ae3-a052-7910951cb348",
   "metadata": {},
   "outputs": [],
   "source": []
  },
  {
   "cell_type": "code",
   "execution_count": null,
   "id": "6c664658-8d36-4516-8a9e-c156a488a6d4",
   "metadata": {},
   "outputs": [],
   "source": [
    "data, target = next(iter(train_dl))"
   ]
  },
  {
   "cell_type": "code",
   "execution_count": null,
   "id": "4b4f1030-779f-418a-8563-9b038052571d",
   "metadata": {},
   "outputs": [
    {
     "data": {
      "text/plain": [
       "torch.Size([3910, 1, 32, 32])"
      ]
     },
     "execution_count": 38,
     "metadata": {},
     "output_type": "execute_result"
    }
   ],
   "source": [
    "data.shape"
   ]
  },
  {
   "cell_type": "code",
   "execution_count": null,
   "id": "3fd35300-92c4-401a-8fd9-672849edf17f",
   "metadata": {},
   "outputs": [
    {
     "data": {
      "text/plain": [
       "torch.Size([3910, 46])"
      ]
     },
     "execution_count": 39,
     "metadata": {},
     "output_type": "execute_result"
    }
   ],
   "source": [
    "target.shape"
   ]
  },
  {
   "cell_type": "code",
   "execution_count": 46,
   "id": "c6ff293a-62a3-4a1b-a12f-24bee01a4810",
   "metadata": {},
   "outputs": [
    {
     "data": {
      "text/plain": [
       "torch.Size([3910, 1024])"
      ]
     },
     "execution_count": 46,
     "metadata": {},
     "output_type": "execute_result"
    }
   ],
   "source": [
    "data.view(3910, -1).shape"
   ]
  },
  {
   "cell_type": "code",
   "execution_count": null,
   "id": "50e8e785-125c-4bf1-916a-f93bcf5f041b",
   "metadata": {},
   "outputs": [
    {
     "data": {
      "text/plain": [
       "tensor([0., 0., 0., 0., 0., 0., 0., 1., 0., 0., 0., 0., 0., 0., 0., 0., 0., 0.,\n",
       "        0., 0., 0., 0., 0., 0., 0., 0., 0., 0., 0., 0., 0., 0., 0., 0., 0., 0.,\n",
       "        0., 0., 0., 0., 0., 0., 0., 0., 0., 0.])"
      ]
     },
     "execution_count": 40,
     "metadata": {},
     "output_type": "execute_result"
    }
   ],
   "source": [
    "target[0, :]"
   ]
  },
  {
   "cell_type": "code",
   "execution_count": 33,
   "id": "82379fa8-189d-412e-be25-b461edbe2f17",
   "metadata": {},
   "outputs": [],
   "source": [
    "# Data ready, Model ready"
   ]
  },
  {
   "cell_type": "code",
   "execution_count": 34,
   "id": "5329f221-dfdf-418f-b6a8-e64ca0b28dd3",
   "metadata": {},
   "outputs": [],
   "source": [
    "# Init --> predict, loss, backward, step, zero_grad --> stop"
   ]
  },
  {
   "cell_type": "code",
   "execution_count": 35,
   "id": "0b35c86c-7cdb-4589-8093-fb470905bc9d",
   "metadata": {},
   "outputs": [],
   "source": [
    "def train(model, device, dl, optimizer, loss_fn, epoch, log_interval=9):\n",
    "    model.train()\n",
    "    for batch_idx, (data, target) in enumerate(dl):\n",
    "        data, target = data.to(device), target.to(device)\n",
    "        output = model(data)\n",
    "        loss = loss_fn(output, target)\n",
    "        loss.backward()\n",
    "        optimizer.step()\n",
    "        optimizer.zero_grad()\n",
    "        if batch_idx % log_interval == 0:\n",
    "            print('Train Epoch: {} [{}/{} ({:.0f}%)]\\tLoss: {:.6f}'.format(\n",
    "                epoch, batch_idx * len(data), len(train_dl.dataset),\n",
    "                100. * batch_idx / len(train_dl), loss.item()))"
   ]
  },
  {
   "cell_type": "code",
   "execution_count": 36,
   "id": "b37ddc80-8f64-4dfe-adc8-c7a0e7af94a8",
   "metadata": {
    "tags": []
   },
   "outputs": [],
   "source": [
    "def valid(model, device, dl, loss_fn):\n",
    "    model.eval()\n",
    "    valid_loss = 0\n",
    "    correct = 0\n",
    "    with torch.no_grad():\n",
    "        for data, target in dl:\n",
    "            data, target = data.to(device), target.to(device)\n",
    "            output = model(data)\n",
    "            probs = F.softmax(output, dim=1)\n",
    "            # sum up batch loss\n",
    "            valid_loss += loss_fn(output, target, reduction='sum').item()            \n",
    "            correct += probs.argmax(dim=1).eq(target.argmax(dim=1)).sum().item()\n",
    "\n",
    "    valid_loss /= len(dl.dataset)\n",
    "\n",
    "    print('Test set: Average loss: {:.4f}, Accuracy: {}/{} ({:.0f}%)'.format(\n",
    "        valid_loss, correct, len(dl.dataset),\n",
    "        100. * correct / len(dl.dataset)))"
   ]
  },
  {
   "cell_type": "code",
   "execution_count": 37,
   "id": "f78bab8e-82e6-417b-b110-ddd9284c0b17",
   "metadata": {},
   "outputs": [],
   "source": [
    "def decay_lr(scheduler):\n",
    "    scheduler.step()\n",
    "    print(f'Updated LR : {scheduler.get_last_lr()}')"
   ]
  },
  {
   "cell_type": "code",
   "execution_count": null,
   "id": "24a57d86-df6c-4941-b4c9-95f1e0979553",
   "metadata": {},
   "outputs": [],
   "source": []
  },
  {
   "cell_type": "code",
   "execution_count": 38,
   "id": "d89cc4e0-d62e-49df-aa88-dcaa337f2af2",
   "metadata": {},
   "outputs": [],
   "source": [
    "import torch.optim as optim\n",
    "# from torch.optim.lr_scheduler import ExponentialLR"
   ]
  },
  {
   "cell_type": "code",
   "execution_count": 39,
   "id": "e9ec1948-874a-4b01-9834-086ae187d394",
   "metadata": {},
   "outputs": [],
   "source": [
    "# learning_rate = 5e-1\n",
    "# learning_rate_decay = 1e-1\n",
    "\n",
    "model = DHCDNet().to(DEVICE)\n",
    "loss_fn = F.cross_entropy\n",
    "# optimizer = optim.SGD(model.parameters(), lr=learning_rate)\n",
    "# scheduler = ExponentialLR(optimizer, gamma=learning_rate_decay)"
   ]
  },
  {
   "cell_type": "code",
   "execution_count": 40,
   "id": "89d9ddea-c399-4d94-bfab-a6e94bb4c0c4",
   "metadata": {},
   "outputs": [
    {
     "name": "stdout",
     "output_type": "stream",
     "text": [
      "Train Epoch: 0 [0/78200 (0%)]\tLoss: 3.829508\n",
      "Train Epoch: 0 [35190/78200 (45%)]\tLoss: 3.747719\n",
      "Train Epoch: 0 [70380/78200 (90%)]\tLoss: 3.476291\n",
      "Test set: Average loss: 3.3524, Accuracy: 3928/13800 (28%)\n",
      "=======\n",
      "Train Epoch: 1 [0/78200 (0%)]\tLoss: 3.362113\n",
      "Train Epoch: 1 [35190/78200 (45%)]\tLoss: 3.120848\n",
      "Train Epoch: 1 [70380/78200 (90%)]\tLoss: 2.600868\n",
      "Test set: Average loss: 3.0791, Accuracy: 2536/13800 (18%)\n",
      "=======\n",
      "Train Epoch: 2 [0/78200 (0%)]\tLoss: 3.101132\n",
      "Train Epoch: 2 [35190/78200 (45%)]\tLoss: 2.811402\n",
      "Train Epoch: 2 [70380/78200 (90%)]\tLoss: 2.472869\n",
      "Test set: Average loss: 2.4498, Accuracy: 4958/13800 (36%)\n",
      "=======\n",
      "Train Epoch: 3 [0/78200 (0%)]\tLoss: 2.479800\n",
      "Train Epoch: 3 [35190/78200 (45%)]\tLoss: 1.894793\n",
      "Train Epoch: 3 [70380/78200 (90%)]\tLoss: 1.623454\n",
      "Test set: Average loss: 2.3467, Accuracy: 5604/13800 (41%)\n",
      "=======\n",
      "Train Epoch: 4 [0/78200 (0%)]\tLoss: 2.330720\n",
      "Train Epoch: 4 [35190/78200 (45%)]\tLoss: 1.678850\n",
      "Train Epoch: 4 [70380/78200 (90%)]\tLoss: 1.418671\n",
      "Test set: Average loss: 1.5915, Accuracy: 7495/13800 (54%)\n",
      "=======\n",
      "Train Epoch: 5 [0/78200 (0%)]\tLoss: 1.610612\n",
      "Train Epoch: 5 [35190/78200 (45%)]\tLoss: 1.554608\n",
      "Train Epoch: 5 [70380/78200 (90%)]\tLoss: 1.426399\n",
      "Test set: Average loss: 1.3298, Accuracy: 8710/13800 (63%)\n",
      "=======\n",
      "Train Epoch: 6 [0/78200 (0%)]\tLoss: 1.358169\n",
      "Train Epoch: 6 [35190/78200 (45%)]\tLoss: 1.236579\n",
      "Train Epoch: 6 [70380/78200 (90%)]\tLoss: 1.107830\n",
      "Test set: Average loss: 1.2956, Accuracy: 8594/13800 (62%)\n",
      "=======\n",
      "Train Epoch: 7 [0/78200 (0%)]\tLoss: 1.298765\n",
      "Train Epoch: 7 [35190/78200 (45%)]\tLoss: 1.158392\n",
      "Train Epoch: 7 [70380/78200 (90%)]\tLoss: 1.196832\n",
      "Test set: Average loss: 1.1228, Accuracy: 9402/13800 (68%)\n",
      "=======\n",
      "Train Epoch: 8 [0/78200 (0%)]\tLoss: 1.109429\n",
      "Train Epoch: 8 [35190/78200 (45%)]\tLoss: 1.111510\n",
      "Train Epoch: 8 [70380/78200 (90%)]\tLoss: 1.042131\n",
      "Test set: Average loss: 1.1403, Accuracy: 9295/13800 (67%)\n",
      "=======\n",
      "Train Epoch: 9 [0/78200 (0%)]\tLoss: 1.136568\n",
      "Train Epoch: 9 [35190/78200 (45%)]\tLoss: 1.158323\n",
      "Train Epoch: 9 [70380/78200 (90%)]\tLoss: 0.920418\n",
      "Test set: Average loss: 0.9450, Accuracy: 10083/13800 (73%)\n",
      "=======\n",
      "Train Epoch: 10 [0/78200 (0%)]\tLoss: 0.956015\n",
      "Train Epoch: 10 [35190/78200 (45%)]\tLoss: 0.998863\n",
      "Train Epoch: 10 [70380/78200 (90%)]\tLoss: 0.952606\n",
      "Test set: Average loss: 0.8746, Accuracy: 10309/13800 (75%)\n",
      "=======\n",
      "Train Epoch: 11 [0/78200 (0%)]\tLoss: 0.879530\n",
      "Train Epoch: 11 [35190/78200 (45%)]\tLoss: 0.806817\n",
      "Train Epoch: 11 [70380/78200 (90%)]\tLoss: 0.884265\n",
      "Test set: Average loss: 1.0250, Accuracy: 9832/13800 (71%)\n",
      "=======\n",
      "Train Epoch: 12 [0/78200 (0%)]\tLoss: 1.013154\n",
      "Train Epoch: 12 [35190/78200 (45%)]\tLoss: 0.768437\n",
      "Train Epoch: 12 [70380/78200 (90%)]\tLoss: 0.708241\n",
      "Test set: Average loss: 0.7043, Accuracy: 11109/13800 (80%)\n",
      "=======\n",
      "Train Epoch: 13 [0/78200 (0%)]\tLoss: 0.708273\n",
      "Train Epoch: 13 [35190/78200 (45%)]\tLoss: 0.770265\n",
      "Train Epoch: 13 [70380/78200 (90%)]\tLoss: 0.766858\n",
      "Test set: Average loss: 0.7127, Accuracy: 11066/13800 (80%)\n",
      "=======\n",
      "Train Epoch: 14 [0/78200 (0%)]\tLoss: 0.699584\n",
      "Train Epoch: 14 [35190/78200 (45%)]\tLoss: 0.638236\n",
      "Train Epoch: 14 [70380/78200 (90%)]\tLoss: 0.729469\n",
      "Test set: Average loss: 0.6761, Accuracy: 11185/13800 (81%)\n",
      "=======\n",
      "Train Epoch: 15 [0/78200 (0%)]\tLoss: 0.682293\n",
      "Train Epoch: 15 [35190/78200 (45%)]\tLoss: 0.637208\n",
      "Train Epoch: 15 [70380/78200 (90%)]\tLoss: 0.736993\n",
      "Test set: Average loss: 0.7055, Accuracy: 10995/13800 (80%)\n",
      "=======\n",
      "Train Epoch: 16 [0/78200 (0%)]\tLoss: 0.677232\n",
      "Train Epoch: 16 [35190/78200 (45%)]\tLoss: 0.612331\n",
      "Train Epoch: 16 [70380/78200 (90%)]\tLoss: 0.589755\n",
      "Test set: Average loss: 0.6220, Accuracy: 11312/13800 (82%)\n",
      "=======\n",
      "Train Epoch: 17 [0/78200 (0%)]\tLoss: 0.585104\n",
      "Train Epoch: 17 [35190/78200 (45%)]\tLoss: 0.522876\n",
      "Train Epoch: 17 [70380/78200 (90%)]\tLoss: 0.586593\n",
      "Test set: Average loss: 0.5791, Accuracy: 11500/13800 (83%)\n",
      "=======\n",
      "Train Epoch: 18 [0/78200 (0%)]\tLoss: 0.554792\n",
      "Train Epoch: 18 [35190/78200 (45%)]\tLoss: 0.536319\n",
      "Train Epoch: 18 [70380/78200 (90%)]\tLoss: 0.483024\n",
      "Test set: Average loss: 0.5065, Accuracy: 11856/13800 (86%)\n",
      "=======\n",
      "Train Epoch: 19 [0/78200 (0%)]\tLoss: 0.456888\n",
      "Train Epoch: 19 [35190/78200 (45%)]\tLoss: 0.506024\n",
      "Train Epoch: 19 [70380/78200 (90%)]\tLoss: 0.708994\n",
      "Test set: Average loss: 0.6968, Accuracy: 10965/13800 (79%)\n",
      "=======\n",
      "Train Epoch: 20 [0/78200 (0%)]\tLoss: 0.657307\n",
      "Train Epoch: 20 [35190/78200 (45%)]\tLoss: 0.436023\n",
      "Train Epoch: 20 [70380/78200 (90%)]\tLoss: 0.461536\n",
      "Test set: Average loss: 0.4725, Accuracy: 11974/13800 (87%)\n",
      "=======\n",
      "Train Epoch: 21 [0/78200 (0%)]\tLoss: 0.426133\n",
      "Train Epoch: 21 [35190/78200 (45%)]\tLoss: 0.585721\n",
      "Train Epoch: 21 [70380/78200 (90%)]\tLoss: 0.396339\n",
      "Test set: Average loss: 0.4410, Accuracy: 12111/13800 (88%)\n",
      "=======\n",
      "Train Epoch: 22 [0/78200 (0%)]\tLoss: 0.398588\n",
      "Train Epoch: 22 [35190/78200 (45%)]\tLoss: 0.439306\n",
      "Train Epoch: 22 [70380/78200 (90%)]\tLoss: 0.409227\n",
      "Test set: Average loss: 0.4318, Accuracy: 12125/13800 (88%)\n",
      "=======\n",
      "Train Epoch: 23 [0/78200 (0%)]\tLoss: 0.371408\n",
      "Train Epoch: 23 [35190/78200 (45%)]\tLoss: 0.373910\n",
      "Train Epoch: 23 [70380/78200 (90%)]\tLoss: 0.432231\n",
      "Test set: Average loss: 0.4738, Accuracy: 11923/13800 (86%)\n",
      "=======\n",
      "Train Epoch: 24 [0/78200 (0%)]\tLoss: 0.412218\n",
      "Train Epoch: 24 [35190/78200 (45%)]\tLoss: 0.377930\n",
      "Train Epoch: 24 [70380/78200 (90%)]\tLoss: 0.344300\n",
      "Test set: Average loss: 0.3904, Accuracy: 12306/13800 (89%)\n",
      "=======\n",
      "Train Epoch: 25 [0/78200 (0%)]\tLoss: 0.351663\n",
      "Train Epoch: 25 [35190/78200 (45%)]\tLoss: 0.416646\n",
      "Train Epoch: 25 [70380/78200 (90%)]\tLoss: 0.341891\n",
      "Test set: Average loss: 0.3994, Accuracy: 12251/13800 (89%)\n",
      "=======\n",
      "Train Epoch: 26 [0/78200 (0%)]\tLoss: 0.351278\n",
      "Train Epoch: 26 [35190/78200 (45%)]\tLoss: 0.371291\n",
      "Train Epoch: 26 [70380/78200 (90%)]\tLoss: 0.351184\n",
      "Test set: Average loss: 0.3965, Accuracy: 12233/13800 (89%)\n",
      "=======\n",
      "Train Epoch: 27 [0/78200 (0%)]\tLoss: 0.342225\n",
      "Train Epoch: 27 [35190/78200 (45%)]\tLoss: 0.346561\n",
      "Train Epoch: 27 [70380/78200 (90%)]\tLoss: 0.339331\n",
      "Test set: Average loss: 0.3676, Accuracy: 12369/13800 (90%)\n",
      "=======\n",
      "Train Epoch: 28 [0/78200 (0%)]\tLoss: 0.296243\n",
      "Train Epoch: 28 [35190/78200 (45%)]\tLoss: 0.331221\n",
      "Train Epoch: 28 [70380/78200 (90%)]\tLoss: 0.383118\n",
      "Test set: Average loss: 0.4035, Accuracy: 12237/13800 (89%)\n",
      "=======\n",
      "Train Epoch: 29 [0/78200 (0%)]\tLoss: 0.342238\n",
      "Train Epoch: 29 [35190/78200 (45%)]\tLoss: 0.296790\n",
      "Train Epoch: 29 [70380/78200 (90%)]\tLoss: 0.273296\n",
      "Test set: Average loss: 0.3530, Accuracy: 12389/13800 (90%)\n",
      "=======\n"
     ]
    }
   ],
   "source": [
    "for epoch in range(0, 30):\n",
    "    optimizer = optim.SGD(model.parameters(), lr=5e-1)\n",
    "    train(model, DEVICE, train_dl, optimizer, loss_fn, epoch)\n",
    "    valid(model, DEVICE, valid_dl, loss_fn)\n",
    "    # decay_lr(scheduler)\n",
    "    print(\"=======\")"
   ]
  },
  {
   "cell_type": "code",
   "execution_count": 40,
   "id": "05e73c87-0e6c-4c86-b5b9-01d7a97cd3e8",
   "metadata": {},
   "outputs": [
    {
     "name": "stdout",
     "output_type": "stream",
     "text": [
      "Train Epoch: 0 [0/78200 (0%)]\tLoss: 3.829508\n",
      "Train Epoch: 0 [35190/78200 (45%)]\tLoss: 3.747719\n",
      "Train Epoch: 0 [70380/78200 (90%)]\tLoss: 3.476291\n",
      "Test set: Average loss: 3.3524, Accuracy: 3928/13800 (28%)\n",
      "=======\n",
      "Train Epoch: 1 [0/78200 (0%)]\tLoss: 3.362113\n",
      "Train Epoch: 1 [35190/78200 (45%)]\tLoss: 3.120848\n",
      "Train Epoch: 1 [70380/78200 (90%)]\tLoss: 2.600868\n",
      "Test set: Average loss: 3.0791, Accuracy: 2536/13800 (18%)\n",
      "=======\n",
      "Train Epoch: 2 [0/78200 (0%)]\tLoss: 3.101132\n",
      "Train Epoch: 2 [35190/78200 (45%)]\tLoss: 2.811402\n",
      "Train Epoch: 2 [70380/78200 (90%)]\tLoss: 2.472869\n",
      "Test set: Average loss: 2.4498, Accuracy: 4958/13800 (36%)\n",
      "=======\n",
      "Train Epoch: 3 [0/78200 (0%)]\tLoss: 2.479800\n",
      "Train Epoch: 3 [35190/78200 (45%)]\tLoss: 1.894793\n",
      "Train Epoch: 3 [70380/78200 (90%)]\tLoss: 1.623454\n",
      "Test set: Average loss: 2.3467, Accuracy: 5604/13800 (41%)\n",
      "=======\n",
      "Train Epoch: 4 [0/78200 (0%)]\tLoss: 2.330720\n",
      "Train Epoch: 4 [35190/78200 (45%)]\tLoss: 1.678850\n",
      "Train Epoch: 4 [70380/78200 (90%)]\tLoss: 1.418671\n",
      "Test set: Average loss: 1.5915, Accuracy: 7495/13800 (54%)\n",
      "=======\n",
      "Train Epoch: 5 [0/78200 (0%)]\tLoss: 1.610612\n",
      "Train Epoch: 5 [35190/78200 (45%)]\tLoss: 1.554608\n",
      "Train Epoch: 5 [70380/78200 (90%)]\tLoss: 1.426399\n",
      "Test set: Average loss: 1.3298, Accuracy: 8710/13800 (63%)\n",
      "=======\n",
      "Train Epoch: 6 [0/78200 (0%)]\tLoss: 1.358169\n",
      "Train Epoch: 6 [35190/78200 (45%)]\tLoss: 1.236579\n",
      "Train Epoch: 6 [70380/78200 (90%)]\tLoss: 1.107830\n",
      "Test set: Average loss: 1.2956, Accuracy: 8594/13800 (62%)\n",
      "=======\n",
      "Train Epoch: 7 [0/78200 (0%)]\tLoss: 1.298765\n",
      "Train Epoch: 7 [35190/78200 (45%)]\tLoss: 1.158392\n",
      "Train Epoch: 7 [70380/78200 (90%)]\tLoss: 1.196832\n",
      "Test set: Average loss: 1.1228, Accuracy: 9402/13800 (68%)\n",
      "=======\n",
      "Train Epoch: 8 [0/78200 (0%)]\tLoss: 1.109429\n",
      "Train Epoch: 8 [35190/78200 (45%)]\tLoss: 1.111510\n",
      "Train Epoch: 8 [70380/78200 (90%)]\tLoss: 1.042131\n",
      "Test set: Average loss: 1.1403, Accuracy: 9295/13800 (67%)\n",
      "=======\n",
      "Train Epoch: 9 [0/78200 (0%)]\tLoss: 1.136568\n",
      "Train Epoch: 9 [35190/78200 (45%)]\tLoss: 1.158323\n",
      "Train Epoch: 9 [70380/78200 (90%)]\tLoss: 0.920418\n",
      "Test set: Average loss: 0.9450, Accuracy: 10083/13800 (73%)\n",
      "=======\n",
      "Train Epoch: 10 [0/78200 (0%)]\tLoss: 0.956015\n",
      "Train Epoch: 10 [35190/78200 (45%)]\tLoss: 0.998863\n",
      "Train Epoch: 10 [70380/78200 (90%)]\tLoss: 0.952606\n",
      "Test set: Average loss: 0.8746, Accuracy: 10309/13800 (75%)\n",
      "=======\n",
      "Train Epoch: 11 [0/78200 (0%)]\tLoss: 0.879530\n",
      "Train Epoch: 11 [35190/78200 (45%)]\tLoss: 0.806817\n",
      "Train Epoch: 11 [70380/78200 (90%)]\tLoss: 0.884265\n",
      "Test set: Average loss: 1.0250, Accuracy: 9832/13800 (71%)\n",
      "=======\n",
      "Train Epoch: 12 [0/78200 (0%)]\tLoss: 1.013154\n",
      "Train Epoch: 12 [35190/78200 (45%)]\tLoss: 0.768437\n",
      "Train Epoch: 12 [70380/78200 (90%)]\tLoss: 0.708241\n",
      "Test set: Average loss: 0.7043, Accuracy: 11109/13800 (80%)\n",
      "=======\n",
      "Train Epoch: 13 [0/78200 (0%)]\tLoss: 0.708273\n",
      "Train Epoch: 13 [35190/78200 (45%)]\tLoss: 0.770265\n",
      "Train Epoch: 13 [70380/78200 (90%)]\tLoss: 0.766858\n",
      "Test set: Average loss: 0.7127, Accuracy: 11066/13800 (80%)\n",
      "=======\n",
      "Train Epoch: 14 [0/78200 (0%)]\tLoss: 0.699584\n",
      "Train Epoch: 14 [35190/78200 (45%)]\tLoss: 0.638236\n",
      "Train Epoch: 14 [70380/78200 (90%)]\tLoss: 0.729469\n",
      "Test set: Average loss: 0.6761, Accuracy: 11185/13800 (81%)\n",
      "=======\n",
      "Train Epoch: 15 [0/78200 (0%)]\tLoss: 0.682293\n",
      "Train Epoch: 15 [35190/78200 (45%)]\tLoss: 0.637208\n",
      "Train Epoch: 15 [70380/78200 (90%)]\tLoss: 0.736993\n",
      "Test set: Average loss: 0.7055, Accuracy: 10995/13800 (80%)\n",
      "=======\n",
      "Train Epoch: 16 [0/78200 (0%)]\tLoss: 0.677232\n",
      "Train Epoch: 16 [35190/78200 (45%)]\tLoss: 0.612331\n",
      "Train Epoch: 16 [70380/78200 (90%)]\tLoss: 0.589755\n",
      "Test set: Average loss: 0.6220, Accuracy: 11312/13800 (82%)\n",
      "=======\n",
      "Train Epoch: 17 [0/78200 (0%)]\tLoss: 0.585104\n",
      "Train Epoch: 17 [35190/78200 (45%)]\tLoss: 0.522876\n",
      "Train Epoch: 17 [70380/78200 (90%)]\tLoss: 0.586593\n",
      "Test set: Average loss: 0.5791, Accuracy: 11500/13800 (83%)\n",
      "=======\n",
      "Train Epoch: 18 [0/78200 (0%)]\tLoss: 0.554792\n",
      "Train Epoch: 18 [35190/78200 (45%)]\tLoss: 0.536319\n",
      "Train Epoch: 18 [70380/78200 (90%)]\tLoss: 0.483024\n",
      "Test set: Average loss: 0.5065, Accuracy: 11856/13800 (86%)\n",
      "=======\n",
      "Train Epoch: 19 [0/78200 (0%)]\tLoss: 0.456888\n",
      "Train Epoch: 19 [35190/78200 (45%)]\tLoss: 0.506024\n",
      "Train Epoch: 19 [70380/78200 (90%)]\tLoss: 0.708994\n",
      "Test set: Average loss: 0.6968, Accuracy: 10965/13800 (79%)\n",
      "=======\n",
      "Train Epoch: 20 [0/78200 (0%)]\tLoss: 0.657307\n",
      "Train Epoch: 20 [35190/78200 (45%)]\tLoss: 0.436023\n",
      "Train Epoch: 20 [70380/78200 (90%)]\tLoss: 0.461536\n",
      "Test set: Average loss: 0.4725, Accuracy: 11974/13800 (87%)\n",
      "=======\n",
      "Train Epoch: 21 [0/78200 (0%)]\tLoss: 0.426133\n",
      "Train Epoch: 21 [35190/78200 (45%)]\tLoss: 0.585721\n",
      "Train Epoch: 21 [70380/78200 (90%)]\tLoss: 0.396339\n",
      "Test set: Average loss: 0.4410, Accuracy: 12111/13800 (88%)\n",
      "=======\n",
      "Train Epoch: 22 [0/78200 (0%)]\tLoss: 0.398588\n",
      "Train Epoch: 22 [35190/78200 (45%)]\tLoss: 0.439306\n",
      "Train Epoch: 22 [70380/78200 (90%)]\tLoss: 0.409227\n",
      "Test set: Average loss: 0.4318, Accuracy: 12125/13800 (88%)\n",
      "=======\n",
      "Train Epoch: 23 [0/78200 (0%)]\tLoss: 0.371408\n",
      "Train Epoch: 23 [35190/78200 (45%)]\tLoss: 0.373910\n",
      "Train Epoch: 23 [70380/78200 (90%)]\tLoss: 0.432231\n",
      "Test set: Average loss: 0.4738, Accuracy: 11923/13800 (86%)\n",
      "=======\n",
      "Train Epoch: 24 [0/78200 (0%)]\tLoss: 0.412218\n",
      "Train Epoch: 24 [35190/78200 (45%)]\tLoss: 0.377930\n",
      "Train Epoch: 24 [70380/78200 (90%)]\tLoss: 0.344300\n",
      "Test set: Average loss: 0.3904, Accuracy: 12306/13800 (89%)\n",
      "=======\n",
      "Train Epoch: 25 [0/78200 (0%)]\tLoss: 0.351663\n",
      "Train Epoch: 25 [35190/78200 (45%)]\tLoss: 0.416646\n",
      "Train Epoch: 25 [70380/78200 (90%)]\tLoss: 0.341891\n",
      "Test set: Average loss: 0.3994, Accuracy: 12251/13800 (89%)\n",
      "=======\n",
      "Train Epoch: 26 [0/78200 (0%)]\tLoss: 0.351278\n",
      "Train Epoch: 26 [35190/78200 (45%)]\tLoss: 0.371291\n",
      "Train Epoch: 26 [70380/78200 (90%)]\tLoss: 0.351184\n",
      "Test set: Average loss: 0.3965, Accuracy: 12233/13800 (89%)\n",
      "=======\n",
      "Train Epoch: 27 [0/78200 (0%)]\tLoss: 0.342225\n",
      "Train Epoch: 27 [35190/78200 (45%)]\tLoss: 0.346561\n",
      "Train Epoch: 27 [70380/78200 (90%)]\tLoss: 0.339331\n",
      "Test set: Average loss: 0.3676, Accuracy: 12369/13800 (90%)\n",
      "=======\n",
      "Train Epoch: 28 [0/78200 (0%)]\tLoss: 0.296243\n",
      "Train Epoch: 28 [35190/78200 (45%)]\tLoss: 0.331221\n",
      "Train Epoch: 28 [70380/78200 (90%)]\tLoss: 0.383118\n",
      "Test set: Average loss: 0.4035, Accuracy: 12237/13800 (89%)\n",
      "=======\n",
      "Train Epoch: 29 [0/78200 (0%)]\tLoss: 0.342238\n",
      "Train Epoch: 29 [35190/78200 (45%)]\tLoss: 0.296790\n",
      "Train Epoch: 29 [70380/78200 (90%)]\tLoss: 0.273296\n",
      "Test set: Average loss: 0.3530, Accuracy: 12389/13800 (90%)\n",
      "=======\n"
     ]
    }
   ],
   "source": [
    "for epoch in range(0, 30):\n",
    "    optimizer = optim.SGD(model.parameters(), lr=5e-1)\n",
    "    train(model, DEVICE, train_dl, optimizer, loss_fn, epoch)\n",
    "    valid(model, DEVICE, valid_dl, loss_fn)\n",
    "    # decay_lr(scheduler)\n",
    "    print(\"=======\")"
   ]
  },
  {
   "cell_type": "code",
   "execution_count": null,
   "id": "987c91ff-846f-4d05-ae4b-b545023dd445",
   "metadata": {},
   "outputs": [],
   "source": []
  }
 ],
 "metadata": {
  "kernelspec": {
   "display_name": "Python 3 (ipykernel)",
   "language": "python",
   "name": "python3"
  },
  "language_info": {
   "codemirror_mode": {
    "name": "ipython",
    "version": 3
   },
   "file_extension": ".py",
   "mimetype": "text/x-python",
   "name": "python",
   "nbconvert_exporter": "python",
   "pygments_lexer": "ipython3",
   "version": "3.10.4"
  }
 },
 "nbformat": 4,
 "nbformat_minor": 5
}
